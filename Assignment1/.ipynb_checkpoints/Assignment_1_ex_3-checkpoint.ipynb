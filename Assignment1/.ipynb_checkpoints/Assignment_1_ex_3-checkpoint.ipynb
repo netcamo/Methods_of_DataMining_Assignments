{
 "cells": [
  {
   "cell_type": "markdown",
   "id": "9e0df902",
   "metadata": {},
   "source": [
    "# Assignment 1 exercise 3\n",
    "### Yagublu Jeyhun"
   ]
  },
  {
   "cell_type": "code",
   "execution_count": 5,
   "id": "59bd1ff5",
   "metadata": {},
   "outputs": [],
   "source": [
    "import pandas as pd\n",
    "import numpy as np\n",
    "from sklearn.cluster import KMeans\n",
    "from sklearn import preprocessing\n",
    "import seaborn as sns\n",
    "import matplotlib.pyplot as plt\n",
    "import math\n",
    "import time\n",
    "\n",
    "from sklearn.decomposition import PCA\n",
    "\n",
    "pd.set_option('display.expand_frame_repr', False)\n",
    "%matplotlib inline\n"
   ]
  },
  {
   "cell_type": "code",
   "execution_count": 6,
   "id": "8b5b84cb",
   "metadata": {},
   "outputs": [],
   "source": [
    "data= np.array([[0, 1], [-1/2, 3/2],[3/2,5/2],[1,3]])"
   ]
  },
  {
   "cell_type": "code",
   "execution_count": 7,
   "id": "3659878b",
   "metadata": {},
   "outputs": [
    {
     "data": {
      "text/plain": [
       "array([[ 0. ,  1. ],\n",
       "       [-0.5,  1.5],\n",
       "       [ 1.5,  2.5],\n",
       "       [ 1. ,  3. ]])"
      ]
     },
     "execution_count": 7,
     "metadata": {},
     "output_type": "execute_result"
    }
   ],
   "source": [
    "data"
   ]
  },
  {
   "cell_type": "markdown",
   "id": "b48602ac",
   "metadata": {},
   "source": [
    "### 3a"
   ]
  },
  {
   "cell_type": "markdown",
   "id": "a96f8b20",
   "metadata": {},
   "source": [
    "* To perform the PCA  we need to find covariance matrix of mean centered columns matrix. I use numpy library for that"
   ]
  },
  {
   "cell_type": "code",
   "execution_count": 8,
   "id": "921cf331",
   "metadata": {},
   "outputs": [],
   "source": [
    "data_meaned=data - np.mean(data ,axis=0)"
   ]
  },
  {
   "cell_type": "code",
   "execution_count": 9,
   "id": "3b827535",
   "metadata": {},
   "outputs": [
    {
     "data": {
      "text/plain": [
       "array([[-0.5, -1. ],\n",
       "       [-1. , -0.5],\n",
       "       [ 1. ,  0.5],\n",
       "       [ 0.5,  1. ]])"
      ]
     },
     "execution_count": 9,
     "metadata": {},
     "output_type": "execute_result"
    }
   ],
   "source": [
    "data_meaned"
   ]
  },
  {
   "cell_type": "code",
   "execution_count": 10,
   "id": "fd5ac2e4",
   "metadata": {},
   "outputs": [],
   "source": [
    "cov_mat = np.cov(data_meaned , rowvar = False)"
   ]
  },
  {
   "cell_type": "code",
   "execution_count": 12,
   "id": "035656db",
   "metadata": {
    "scrolled": false
   },
   "outputs": [
    {
     "data": {
      "text/plain": [
       "array([[0.83333333, 0.66666667],\n",
       "       [0.66666667, 0.83333333]])"
      ]
     },
     "execution_count": 12,
     "metadata": {},
     "output_type": "execute_result"
    }
   ],
   "source": [
    "cov_mat"
   ]
  },
  {
   "cell_type": "markdown",
   "id": "51358a5e",
   "metadata": {},
   "source": [
    "* We compute  eigenvalues and eigen vectors of covariance matrix using numpy library"
   ]
  },
  {
   "cell_type": "code",
   "execution_count": 13,
   "id": "2fc57084",
   "metadata": {
    "scrolled": true
   },
   "outputs": [
    {
     "data": {
      "text/plain": [
       "array([0.16666667, 1.5       ])"
      ]
     },
     "execution_count": 13,
     "metadata": {},
     "output_type": "execute_result"
    }
   ],
   "source": [
    "eigen_values , eigen_vectors = np.linalg.eigh(cov_mat)\n",
    "eigen_values"
   ]
  },
  {
   "cell_type": "code",
   "execution_count": 14,
   "id": "df82a054",
   "metadata": {
    "scrolled": true
   },
   "outputs": [
    {
     "data": {
      "text/plain": [
       "array([[-0.70710678,  0.70710678],\n",
       "       [ 0.70710678,  0.70710678]])"
      ]
     },
     "execution_count": 14,
     "metadata": {},
     "output_type": "execute_result"
    }
   ],
   "source": [
    "eigen_vectors"
   ]
  },
  {
   "cell_type": "markdown",
   "id": "952244e3",
   "metadata": {},
   "source": [
    "* We sort the eigenvalues and eigenvectors vectors"
   ]
  },
  {
   "cell_type": "code",
   "execution_count": 15,
   "id": "1df34711",
   "metadata": {},
   "outputs": [],
   "source": [
    "sorted_index = np.argsort(eigen_values)[::-1]\n",
    "sorted_eigenvalue = eigen_values[sorted_index] \n",
    "sorted_eigenvectors = eigen_vectors[:,sorted_index]"
   ]
  },
  {
   "cell_type": "markdown",
   "id": "3a64392d",
   "metadata": {},
   "source": [
    "##### 3bi"
   ]
  },
  {
   "cell_type": "markdown",
   "id": "d667d5a4",
   "metadata": {},
   "source": [
    "* to perform reduction of dimension we choose the largest eigenvalue and corresponding eigenvector"
   ]
  },
  {
   "cell_type": "code",
   "execution_count": 16,
   "id": "89824e46",
   "metadata": {},
   "outputs": [],
   "source": [
    "eigenvector_subset = sorted_eigenvectors[:,0:1]\n",
    "data_reduced = np.dot(eigenvector_subset.transpose(),data_meaned.transpose()).transpose()\n"
   ]
  },
  {
   "cell_type": "code",
   "execution_count": 17,
   "id": "1793b452",
   "metadata": {
    "scrolled": true
   },
   "outputs": [
    {
     "data": {
      "text/plain": [
       "array([[0.70710678],\n",
       "       [0.70710678]])"
      ]
     },
     "execution_count": 17,
     "metadata": {},
     "output_type": "execute_result"
    }
   ],
   "source": [
    "eigenvector_subset"
   ]
  },
  {
   "cell_type": "markdown",
   "id": "8e437ca0",
   "metadata": {},
   "source": [
    "* We get our reduced matrix"
   ]
  },
  {
   "cell_type": "code",
   "execution_count": 19,
   "id": "1dd948cd",
   "metadata": {
    "scrolled": false
   },
   "outputs": [
    {
     "data": {
      "text/plain": [
       "array([[-1.06066017],\n",
       "       [-1.06066017],\n",
       "       [ 1.06066017],\n",
       "       [ 1.06066017]])"
      ]
     },
     "execution_count": 19,
     "metadata": {},
     "output_type": "execute_result"
    }
   ],
   "source": [
    "data_reduced"
   ]
  },
  {
   "cell_type": "markdown",
   "id": "da6a1a82",
   "metadata": {},
   "source": [
    "#### 3bii"
   ]
  },
  {
   "cell_type": "markdown",
   "id": "ae0e4e69",
   "metadata": {},
   "source": [
    "* To transform it to 2-dimensional representation we select both of eigenvectors and perform the cdot product "
   ]
  },
  {
   "cell_type": "code",
   "execution_count": 20,
   "id": "696b5165",
   "metadata": {},
   "outputs": [],
   "source": [
    "eigenvector_subset = sorted_eigenvectors[:,0:2]\n",
    "data_converted = np.dot(eigenvector_subset.transpose(),data_meaned.transpose()).transpose()\n",
    "            "
   ]
  },
  {
   "cell_type": "markdown",
   "id": "7031369a",
   "metadata": {},
   "source": [
    "* We get the result"
   ]
  },
  {
   "cell_type": "code",
   "execution_count": 22,
   "id": "3ec38223",
   "metadata": {},
   "outputs": [
    {
     "data": {
      "text/plain": [
       "array([[-1.06066017, -0.35355339],\n",
       "       [-1.06066017,  0.35355339],\n",
       "       [ 1.06066017, -0.35355339],\n",
       "       [ 1.06066017,  0.35355339]])"
      ]
     },
     "execution_count": 22,
     "metadata": {},
     "output_type": "execute_result"
    }
   ],
   "source": [
    "data_converted"
   ]
  },
  {
   "cell_type": "code",
   "execution_count": 23,
   "id": "044ae315",
   "metadata": {},
   "outputs": [],
   "source": [
    "cov_mat_converted = np.cov(data_converted, rowvar = False)\n"
   ]
  },
  {
   "cell_type": "code",
   "execution_count": 122,
   "id": "8eb637b2",
   "metadata": {
    "scrolled": false
   },
   "outputs": [
    {
     "data": {
      "text/plain": [
       "array([[ 1.50000000e+00, -3.65907275e-18],\n",
       "       [-3.65907275e-18,  1.66666667e-01]])"
      ]
     },
     "execution_count": 122,
     "metadata": {},
     "output_type": "execute_result"
    }
   ],
   "source": [
    "cov_mat_converted"
   ]
  },
  {
   "cell_type": "markdown",
   "id": "8db15424",
   "metadata": {},
   "source": [
    "* As We see from the covariance matrix of the result , variance of 1st column is largest eigenvalue and variance of 2nd column is the smallest eigenvalue as we expected"
   ]
  },
  {
   "cell_type": "markdown",
   "id": "f5ce8134",
   "metadata": {},
   "source": [
    "### 3C"
   ]
  },
  {
   "cell_type": "markdown",
   "id": "39f940bb",
   "metadata": {},
   "source": [
    "* For this part I created a function which calculates pairwise euclidean distances, I have used the function from numpy library"
   ]
  },
  {
   "cell_type": "code",
   "execution_count": 26,
   "id": "844e5d92",
   "metadata": {},
   "outputs": [],
   "source": [
    "def pairwise_euclidean (data, rows):   \n",
    "    dist_mat = np.zeros ((rows,rows) )\n",
    "    for i in range(0,rows) :\n",
    "        for j in range(i,rows):\n",
    "            if(i!=j):\n",
    "             dist_mat[j,i]=dist_mat[i,j]= np.linalg.norm(data[i,:]-data[j,:])\n",
    "    return dist_mat"
   ]
  },
  {
   "cell_type": "markdown",
   "id": "13c382bf",
   "metadata": {},
   "source": [
    "#### 3Ci"
   ]
  },
  {
   "cell_type": "code",
   "execution_count": 27,
   "id": "f56a8267",
   "metadata": {},
   "outputs": [
    {
     "data": {
      "text/plain": [
       "array([[0.        , 0.70710678, 2.12132034, 2.23606798],\n",
       "       [0.70710678, 0.        , 2.23606798, 2.12132034],\n",
       "       [2.12132034, 2.23606798, 0.        , 0.70710678],\n",
       "       [2.23606798, 2.12132034, 0.70710678, 0.        ]])"
      ]
     },
     "execution_count": 27,
     "metadata": {},
     "output_type": "execute_result"
    }
   ],
   "source": [
    "dist_mat_3ci= pairwise_euclidean(data,4) \n",
    "dist_mat_3ci"
   ]
  },
  {
   "cell_type": "markdown",
   "id": "dfea7c4d",
   "metadata": {},
   "source": [
    "* in this resulting array the position [i][j] corresponds to distance between ith and jth point . "
   ]
  },
  {
   "cell_type": "markdown",
   "id": "cef63f22",
   "metadata": {},
   "source": [
    "#### 3C ii"
   ]
  },
  {
   "cell_type": "code",
   "execution_count": 28,
   "id": "76d8cbd6",
   "metadata": {},
   "outputs": [
    {
     "data": {
      "text/plain": [
       "array([[0.        , 0.        , 2.12132034, 2.12132034],\n",
       "       [0.        , 0.        , 2.12132034, 2.12132034],\n",
       "       [2.12132034, 2.12132034, 0.        , 0.        ],\n",
       "       [2.12132034, 2.12132034, 0.        , 0.        ]])"
      ]
     },
     "execution_count": 28,
     "metadata": {},
     "output_type": "execute_result"
    }
   ],
   "source": [
    "dist_mat_3bi= pairwise_euclidean(data_reduced,4)\n",
    "dist_mat_3bi\n"
   ]
  },
  {
   "cell_type": "markdown",
   "id": "6c0b52dc",
   "metadata": {},
   "source": [
    "### 3C iii"
   ]
  },
  {
   "cell_type": "code",
   "execution_count": 30,
   "id": "7f3b3111",
   "metadata": {},
   "outputs": [
    {
     "data": {
      "text/plain": [
       "array([[0.        , 0.70710678, 2.12132034, 2.23606798],\n",
       "       [0.70710678, 0.        , 2.23606798, 2.12132034],\n",
       "       [2.12132034, 2.23606798, 0.        , 0.70710678],\n",
       "       [2.23606798, 2.12132034, 0.70710678, 0.        ]])"
      ]
     },
     "execution_count": 30,
     "metadata": {},
     "output_type": "execute_result"
    }
   ],
   "source": [
    "dist_mat_3bii= pairwise_euclidean(data_converted,4)\n",
    "dist_mat_3bii\n"
   ]
  },
  {
   "cell_type": "markdown",
   "id": "4f2991f5",
   "metadata": {},
   "source": [
    "### 3C iv"
   ]
  },
  {
   "cell_type": "markdown",
   "id": "28425991",
   "metadata": {},
   "source": [
    "* There is no difference on distances between Original data and 2D converted data\n",
    "*  We have lost the euclidean distance between 1st and 2nd point and also between 3rd and 4th point . on the other hand the other distances are very close. distance between 1st and 3rd and also 2nd and 4th points are exactly same\n"
   ]
  },
  {
   "cell_type": "markdown",
   "id": "eac55038",
   "metadata": {},
   "source": [
    "### 3D"
   ]
  },
  {
   "cell_type": "code",
   "execution_count": 32,
   "id": "ebf4a6cc",
   "metadata": {},
   "outputs": [],
   "source": [
    "data_d=np.array([[(1/2)**0.5, (1/2)**0.5], [(1/2)**0.5, 2*((1/2)**0.5)],[4*((1/2)**0.5),(1/2)**0.5],[4*((1/2)**0.5),2*((1/2)**0.5)]])"
   ]
  },
  {
   "cell_type": "code",
   "execution_count": 33,
   "id": "b78ada46",
   "metadata": {},
   "outputs": [
    {
     "data": {
      "text/plain": [
       "array([[0.70710678, 0.70710678],\n",
       "       [0.70710678, 1.41421356],\n",
       "       [2.82842712, 0.70710678],\n",
       "       [2.82842712, 1.41421356]])"
      ]
     },
     "execution_count": 33,
     "metadata": {},
     "output_type": "execute_result"
    }
   ],
   "source": [
    "data_d"
   ]
  },
  {
   "cell_type": "code",
   "execution_count": 39,
   "id": "2bcee76b",
   "metadata": {},
   "outputs": [],
   "source": [
    "data_meaned=data_d - np.mean(data_d ,axis=0)\n",
    "cov_mat = np.cov(data_meaned , rowvar = False)\n",
    "eigen_values , eigen_vectors = np.linalg.eigh(cov_mat)\n",
    "sorted_index = np.argsort(eigen_values)[::-1]\n",
    " \n",
    "sorted_eigenvalue = eigen_values[sorted_index]\n",
    "sorted_eigenvectors = eigen_vectors[:,sorted_index]\n",
    "eigenvector_subset = sorted_eigenvectors[:,0:1]\n",
    "data_reduced = np.dot(eigenvector_subset.transpose(),data_meaned.transpose()).transpose()\n",
    "data_reduced\n",
    "eigenvector_subset = sorted_eigenvectors[:,0:2]\n",
    "data_converted = np.dot(eigenvector_subset.transpose(),data_meaned.transpose()).transpose()\n"
   ]
  },
  {
   "cell_type": "code",
   "execution_count": 35,
   "id": "c3e245da",
   "metadata": {},
   "outputs": [
    {
     "data": {
      "text/plain": [
       "array([[-1.06066017],\n",
       "       [-1.06066017],\n",
       "       [ 1.06066017],\n",
       "       [ 1.06066017]])"
      ]
     },
     "execution_count": 35,
     "metadata": {},
     "output_type": "execute_result"
    }
   ],
   "source": [
    "data_reduced"
   ]
  },
  {
   "cell_type": "code",
   "execution_count": 40,
   "id": "c43734b4",
   "metadata": {},
   "outputs": [
    {
     "data": {
      "text/plain": [
       "array([[-1.06066017, -0.35355339],\n",
       "       [-1.06066017,  0.35355339],\n",
       "       [ 1.06066017, -0.35355339],\n",
       "       [ 1.06066017,  0.35355339]])"
      ]
     },
     "execution_count": 40,
     "metadata": {},
     "output_type": "execute_result"
    }
   ],
   "source": [
    "data_converted"
   ]
  },
  {
   "cell_type": "code",
   "execution_count": 41,
   "id": "a6ed4341",
   "metadata": {},
   "outputs": [
    {
     "data": {
      "text/plain": [
       "array([0.16666667, 1.5       ])"
      ]
     },
     "execution_count": 41,
     "metadata": {},
     "output_type": "execute_result"
    }
   ],
   "source": [
    "eigen_values"
   ]
  },
  {
   "cell_type": "code",
   "execution_count": 42,
   "id": "6e95c06a",
   "metadata": {},
   "outputs": [
    {
     "data": {
      "text/plain": [
       "array([[0., 1.],\n",
       "       [1., 0.]])"
      ]
     },
     "execution_count": 42,
     "metadata": {},
     "output_type": "execute_result"
    }
   ],
   "source": [
    "eigen_vectors"
   ]
  },
  {
   "cell_type": "code",
   "execution_count": 38,
   "id": "d3d62895",
   "metadata": {},
   "outputs": [
    {
     "data": {
      "text/plain": [
       "array([[-1.06066017, -0.35355339],\n",
       "       [-1.06066017,  0.35355339],\n",
       "       [ 1.06066017, -0.35355339],\n",
       "       [ 1.06066017,  0.35355339]])"
      ]
     },
     "execution_count": 38,
     "metadata": {},
     "output_type": "execute_result"
    }
   ],
   "source": [
    "data_meaned"
   ]
  },
  {
   "cell_type": "markdown",
   "id": "3117b169",
   "metadata": {},
   "source": [
    "* Only difference between the datas are eigenvectors and normalized matrix.\n",
    "* Eigenvalues , converted matrix, reduced matrix are same \n"
   ]
  },
  {
   "cell_type": "code",
   "execution_count": 43,
   "id": "2c365af8",
   "metadata": {},
   "outputs": [],
   "source": [
    "import matplotlib.pyplot as plt"
   ]
  },
  {
   "cell_type": "code",
   "execution_count": 44,
   "id": "030b8eb5",
   "metadata": {
    "scrolled": true
   },
   "outputs": [
    {
     "data": {
      "text/plain": [
       "<matplotlib.collections.PathCollection at 0x1d2db377280>"
      ]
     },
     "execution_count": 44,
     "metadata": {},
     "output_type": "execute_result"
    },
    {
     "data": {
      "image/png": "[encoded data removed]",
      "text/plain": [
       "<Figure size 432x288 with 1 Axes>"
      ]
     },
     "metadata": {
      "needs_background": "light"
     },
     "output_type": "display_data"
    }
   ],
   "source": [
    "x=data[:,0]\n",
    "y=data[:,1]\n",
    "plt.scatter(x, y, label= \"data\", color= \"blue\",\n",
    "            marker= \".\", s=30)\n",
    "x=data_d[:,0]\n",
    "y=data_d[:,1]\n",
    "plt.scatter(x, y, label= \"data_d\", color= \"red\",\n",
    "            marker= \".\", s=30)\n"
   ]
  },
  {
   "cell_type": "markdown",
   "id": "d3de61b4",
   "metadata": {},
   "source": [
    "* From the plot we can see that the spread of data and shape of data are exactly same. only difference is the place in the space and also direction of the spread. Since spread corresponds to eigenvectors and eigenvalues ( specifically direction of spread depends on eigenvectors and size of spread in that direction depends on eigenvalues) eigenvalues are same for both data. But since direction of spread are different so Eigenvectors are also different. "
   ]
  },
  {
   "cell_type": "code",
   "execution_count": null,
   "id": "19005241",
   "metadata": {},
   "outputs": [],
   "source": []
  }
 ],
 "metadata": {
  "kernelspec": {
   "display_name": "Python 3",
   "language": "python",
   "name": "python3"
  },
  "language_info": {
   "codemirror_mode": {
    "name": "ipython",
    "version": 3
   },
   "file_extension": ".py",
   "mimetype": "text/x-python",
   "name": "python",
   "nbconvert_exporter": "python",
   "pygments_lexer": "ipython3",
   "version": "3.8.8"
  }
 },
 "nbformat": 4,
 "nbformat_minor": 5
}
