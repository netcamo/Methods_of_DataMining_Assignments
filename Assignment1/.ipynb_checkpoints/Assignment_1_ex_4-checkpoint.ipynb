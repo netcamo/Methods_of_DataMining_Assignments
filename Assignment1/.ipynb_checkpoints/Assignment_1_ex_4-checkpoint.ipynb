{
 "cells": [
  {
   "cell_type": "markdown",
   "id": "7bde6ebe",
   "metadata": {},
   "source": [
    "## Assignment 1  Exercise 4\n",
    "### Yagublu Jeyhun"
   ]
  },
  {
   "cell_type": "code",
   "execution_count": 177,
   "id": "2dc83b9f",
   "metadata": {},
   "outputs": [],
   "source": [
    "import pandas as pd\n",
    "import numpy as np\n",
    "from sklearn.cluster import KMeans\n",
    "from sklearn import preprocessing\n",
    "import seaborn as sns\n",
    "import matplotlib.pyplot as plt\n",
    "import math\n",
    "import time\n",
    "\n",
    "from sklearn.decomposition import PCA\n",
    "\n",
    "pd.set_option('display.expand_frame_repr', False)\n",
    "%matplotlib inline"
   ]
  },
  {
   "cell_type": "code",
   "execution_count": 178,
   "id": "3d830e0a",
   "metadata": {
    "scrolled": true
   },
   "outputs": [
    {
     "data": {
      "text/html": [
       "<div>\n",
       "<style scoped>\n",
       "    .dataframe tbody tr th:only-of-type {\n",
       "        vertical-align: middle;\n",
       "    }\n",
       "\n",
       "    .dataframe tbody tr th {\n",
       "        vertical-align: top;\n",
       "    }\n",
       "\n",
       "    .dataframe thead th {\n",
       "        text-align: right;\n",
       "    }\n",
       "</style>\n",
       "<table border=\"1\" class=\"dataframe\">\n",
       "  <thead>\n",
       "    <tr style=\"text-align: right;\">\n",
       "      <th></th>\n",
       "      <th>name</th>\n",
       "      <th>race</th>\n",
       "      <th>age</th>\n",
       "      <th>milk/d</th>\n",
       "      <th>character</th>\n",
       "      <th>music</th>\n",
       "    </tr>\n",
       "  </thead>\n",
       "  <tbody>\n",
       "    <tr>\n",
       "      <th>0</th>\n",
       "      <td>Clover</td>\n",
       "      <td>Holstein</td>\n",
       "      <td>2</td>\n",
       "      <td>20</td>\n",
       "      <td>lively</td>\n",
       "      <td>rock</td>\n",
       "    </tr>\n",
       "    <tr>\n",
       "      <th>1</th>\n",
       "      <td>Sunny</td>\n",
       "      <td>Ayrshire</td>\n",
       "      <td>2</td>\n",
       "      <td>10</td>\n",
       "      <td>kind</td>\n",
       "      <td>rock</td>\n",
       "    </tr>\n",
       "    <tr>\n",
       "      <th>2</th>\n",
       "      <td>Rose</td>\n",
       "      <td>Holstein</td>\n",
       "      <td>5</td>\n",
       "      <td>15</td>\n",
       "      <td>calm</td>\n",
       "      <td>country</td>\n",
       "    </tr>\n",
       "    <tr>\n",
       "      <th>3</th>\n",
       "      <td>Daisy</td>\n",
       "      <td>Ayrshire</td>\n",
       "      <td>4</td>\n",
       "      <td>25</td>\n",
       "      <td>calm</td>\n",
       "      <td>classical</td>\n",
       "    </tr>\n",
       "    <tr>\n",
       "      <th>4</th>\n",
       "      <td>Strawberry</td>\n",
       "      <td>Finncattle</td>\n",
       "      <td>7</td>\n",
       "      <td>35</td>\n",
       "      <td>calm</td>\n",
       "      <td>classical</td>\n",
       "    </tr>\n",
       "    <tr>\n",
       "      <th>5</th>\n",
       "      <td>Molly</td>\n",
       "      <td>Ayrshire</td>\n",
       "      <td>8</td>\n",
       "      <td>45</td>\n",
       "      <td>kind</td>\n",
       "      <td>country</td>\n",
       "    </tr>\n",
       "  </tbody>\n",
       "</table>\n",
       "</div>"
      ],
      "text/plain": [
       "         name        race  age  milk/d character      music\n",
       "0      Clover    Holstein    2      20    lively       rock\n",
       "1       Sunny    Ayrshire    2      10      kind       rock\n",
       "2        Rose    Holstein    5      15      calm    country\n",
       "3       Daisy    Ayrshire    4      25      calm  classical\n",
       "4  Strawberry  Finncattle    7      35      calm  classical\n",
       "5       Molly    Ayrshire    8      45      kind    country"
      ]
     },
     "execution_count": 178,
     "metadata": {},
     "output_type": "execute_result"
    }
   ],
   "source": [
    "data= { 'name' :['Clover','Sunny','Rose','Daisy','Strawberry','Molly'],\n",
    "     'race' :['Holstein','Ayrshire','Holstein','Ayrshire','Finncattle','Ayrshire'],\n",
    "      'age' :[2,2,5,4,7,8],\n",
    "      'milk/d' :[20,10,15,25,35,45],\n",
    "      'character' :['lively','kind','calm','calm','calm','kind'],\n",
    "      'music' :['rock','rock','country','classical','classical','country']}\n",
    "data=pd.DataFrame(data)\n",
    "data"
   ]
  },
  {
   "cell_type": "markdown",
   "id": "b9a215da",
   "metadata": {},
   "source": [
    "### 4A"
   ]
  },
  {
   "cell_type": "markdown",
   "id": "624b6675",
   "metadata": {},
   "source": [
    "* We use age and milk/d and compute their min-max scaling"
   ]
  },
  {
   "cell_type": "code",
   "execution_count": 179,
   "id": "a4711c8c",
   "metadata": {},
   "outputs": [],
   "source": [
    "age=data['age'].values.astype(np.float64)\n",
    "milk=data['milk/d'].values.astype(np.float64)"
   ]
  },
  {
   "cell_type": "code",
   "execution_count": 180,
   "id": "fba5bf01",
   "metadata": {},
   "outputs": [],
   "source": [
    "std_age=np.std(age)\n",
    "mean_age=np.mean(age)"
   ]
  },
  {
   "cell_type": "markdown",
   "id": "3a164faa",
   "metadata": {},
   "source": [
    "* I define a function to calculate the min-max scaling of an array"
   ]
  },
  {
   "cell_type": "code",
   "execution_count": 181,
   "id": "23655546",
   "metadata": {},
   "outputs": [],
   "source": [
    "def min_max_scaling(array):\n",
    "    print(np.amin(array),np.amax(array))\n",
    "    minn=np.amin(array)\n",
    "    maxx=np.amax(array)\n",
    "    for i in range (0,array.size):\n",
    "        array[i]=(array[i]-minn)/(maxx-minn)\n",
    "    return array\n"
   ]
  },
  {
   "cell_type": "code",
   "execution_count": 182,
   "id": "ac26e0a2",
   "metadata": {
    "scrolled": true
   },
   "outputs": [
    {
     "name": "stdout",
     "output_type": "stream",
     "text": [
      "2.0 8.0\n",
      "10.0 45.0\n"
     ]
    }
   ],
   "source": [
    "age=min_max_scaling(age) \n",
    "milk=min_max_scaling(milk)\n"
   ]
  },
  {
   "cell_type": "markdown",
   "id": "d19b12f4",
   "metadata": {},
   "source": [
    "* We find the min-max scaled values of milk\\d and age feautures"
   ]
  },
  {
   "cell_type": "code",
   "execution_count": 183,
   "id": "fa8762f2",
   "metadata": {},
   "outputs": [
    {
     "data": {
      "text/plain": [
       "array([0.28571429, 0.        , 0.14285714, 0.42857143, 0.71428571,\n",
       "       1.        ])"
      ]
     },
     "execution_count": 183,
     "metadata": {},
     "output_type": "execute_result"
    }
   ],
   "source": [
    "milk"
   ]
  },
  {
   "cell_type": "code",
   "execution_count": 184,
   "id": "9913117f",
   "metadata": {},
   "outputs": [
    {
     "data": {
      "text/plain": [
       "array([0.        , 0.        , 0.5       , 0.33333333, 0.83333333,\n",
       "       1.        ])"
      ]
     },
     "execution_count": 184,
     "metadata": {},
     "output_type": "execute_result"
    }
   ],
   "source": [
    "age"
   ]
  },
  {
   "cell_type": "markdown",
   "id": "45d31798",
   "metadata": {},
   "source": [
    "* We compute euclidean distance of cows using this two features vectors"
   ]
  },
  {
   "cell_type": "code",
   "execution_count": 185,
   "id": "304e9897",
   "metadata": {},
   "outputs": [
    {
     "data": {
      "text/plain": [
       "array([list(['Clover', 'Sunny', 0.2857142857142857]),\n",
       "       list(['Clover', 'Rose', 0.5200078492343227]),\n",
       "       list(['Clover', 'Daisy', 0.3626558621839956]),\n",
       "       list(['Clover', 'Strawberry', 0.9370794597216394]),\n",
       "       list(['Clover', 'Molly', 1.228903609577518]),\n",
       "       list(['Sunny', 'Rose', 0.5200078492343227]),\n",
       "       list(['Sunny', 'Daisy', 0.5429406786186372]),\n",
       "       list(['Sunny', 'Strawberry', 1.0975648163443914]),\n",
       "       list(['Sunny', 'Molly', 1.4142135623730951]),\n",
       "       list(['Rose', 'Daisy', 0.33077247593928105]),\n",
       "       list(['Rose', 'Strawberry', 0.6615449518785621]),\n",
       "       list(['Rose', 'Molly', 0.9923174278178433]),\n",
       "       list(['Daisy', 'Strawberry', 0.5758755534498964]),\n",
       "       list(['Daisy', 'Molly', 0.8780518530755131]),\n",
       "       list(['Strawberry', 'Molly', 0.33077247593928105])], dtype=object)"
      ]
     },
     "execution_count": 185,
     "metadata": {},
     "output_type": "execute_result"
    }
   ],
   "source": [
    "euc_dist_numerical=np.empty((15,),dtype=object)\n",
    "count=0\n",
    "for i in range (0,6):\n",
    "    for j in range (i+1,6):\n",
    "        dist=(((age[i]-age[j])**2) + ((milk[i]-milk[j])**2))**0.5\n",
    "        euc_dist_numerical[count]=[data.loc[i,'name'],data.loc[j,'name'],dist]\n",
    "        count+=1\n",
    "euc_dist_numerical        \n",
    "        "
   ]
  },
  {
   "cell_type": "markdown",
   "id": "bdab2504",
   "metadata": {},
   "source": [
    "### 4B"
   ]
  },
  {
   "cell_type": "markdown",
   "id": "26ecfa94",
   "metadata": {},
   "source": [
    " * Goodall distance is $d=1-g$ \n",
    " * First we find Goodall similarity $g$ :\n",
    "                 sum(1-pi^2(shared value))/feautures "
   ]
  },
  {
   "cell_type": "markdown",
   "id": "182c8b74",
   "metadata": {},
   "source": [
    "* We define vectors corresponding categorical features"
   ]
  },
  {
   "cell_type": "code",
   "execution_count": 186,
   "id": "b632c624",
   "metadata": {},
   "outputs": [],
   "source": [
    "race=data['race'].values\n",
    "character=data['character'].values\n",
    "music=data['music'].values"
   ]
  },
  {
   "cell_type": "markdown",
   "id": "6701ff38",
   "metadata": {},
   "source": [
    "* We define frequncies data  "
   ]
  },
  {
   "cell_type": "code",
   "execution_count": 187,
   "id": "c298ea16",
   "metadata": {},
   "outputs": [],
   "source": [
    "freq_p={'lively': 1/6,\n",
    "       'kind' :2/6,\n",
    "       'calm' :3/6,\n",
    "        'rock' :2/6,\n",
    "        'country' :2/6,\n",
    "        'classical' :2/6,\n",
    "        'Holstein' :2/6,\n",
    "        'Ayrshire' :3/6,\n",
    "        'Finncattle' :1/6,\n",
    "       }"
   ]
  },
  {
   "cell_type": "markdown",
   "id": "23ca35a9",
   "metadata": {},
   "source": [
    "* I define a function to check if the feauture has shared value between the given cows"
   ]
  },
  {
   "cell_type": "code",
   "execution_count": 188,
   "id": "7effef3e",
   "metadata": {},
   "outputs": [],
   "source": [
    "def shr_chk (a ,b) :\n",
    "    if (a==b) :\n",
    "        return 1\n",
    "    else :\n",
    "        return 0\n"
   ]
  },
  {
   "cell_type": "markdown",
   "id": "1496e1c0",
   "metadata": {},
   "source": [
    "* We calculate the goodall similarity and distances between the cows"
   ]
  },
  {
   "cell_type": "code",
   "execution_count": 189,
   "id": "dece6301",
   "metadata": {
    "scrolled": false
   },
   "outputs": [
    {
     "data": {
      "text/plain": [
       "array([list(['Clover', 'Sunny', 0.2962962962962963, 0.7037037037037037]),\n",
       "       list(['Clover', 'Rose', 0.2962962962962963, 0.7037037037037037]),\n",
       "       list(['Clover', 'Daisy', 0.0, 1.0]),\n",
       "       list(['Clover', 'Strawberry', 0.0, 1.0]),\n",
       "       list(['Clover', 'Molly', 0.0, 1.0]),\n",
       "       list(['Sunny', 'Rose', 0.0, 1.0]),\n",
       "       list(['Sunny', 'Daisy', 0.25, 0.75]),\n",
       "       list(['Sunny', 'Strawberry', 0.0, 1.0]),\n",
       "       list(['Sunny', 'Molly', 0.5462962962962963, 0.4537037037037037]),\n",
       "       list(['Rose', 'Daisy', 0.25, 0.75]),\n",
       "       list(['Rose', 'Strawberry', 0.25, 0.75]),\n",
       "       list(['Rose', 'Molly', 0.2962962962962963, 0.7037037037037037]),\n",
       "       list(['Daisy', 'Strawberry', 0.5462962962962963, 0.4537037037037037]),\n",
       "       list(['Daisy', 'Molly', 0.25, 0.75]),\n",
       "       list(['Strawberry', 'Molly', 0.0, 1.0])], dtype=object)"
      ]
     },
     "execution_count": 189,
     "metadata": {},
     "output_type": "execute_result"
    }
   ],
   "source": [
    "gdall_dist_categorical=np.empty((15,),dtype=object)\n",
    "count=0\n",
    "for i in range (0,6):\n",
    "    for j in range (i+1,6):\n",
    "        sml= (( (1-freq_p[race[i]]**2))/3)*shr_chk(race[i],race[j])+(( (1-freq_p[character[i]]**2))/3)*shr_chk(character[i],character[j]) +  (( (1-freq_p[music[i]]**2))/3)*shr_chk(music[i],music[j])#similarity\n",
    "        dist=1-sml\n",
    "        gdall_dist_categorical[count]=[data.loc[i,'name'],data.loc[j,'name'],sml,dist]\n",
    "        count+=1\n",
    "gdall_dist_categorical    \n",
    "        "
   ]
  },
  {
   "cell_type": "markdown",
   "id": "4eb55595",
   "metadata": {},
   "source": [
    "### 4C"
   ]
  },
  {
   "cell_type": "markdown",
   "id": "b2e752fa",
   "metadata": {},
   "source": [
    "* Now we use both numerical and categorical features"
   ]
  },
  {
   "cell_type": "markdown",
   "id": "432f2c36",
   "metadata": {},
   "source": [
    "* We define lambda and create dictionaries of distances which we will use to calculate the combined distances between cows"
   ]
  },
  {
   "cell_type": "code",
   "execution_count": 190,
   "id": "db929193",
   "metadata": {},
   "outputs": [],
   "source": [
    "lamb_da=2/5\n",
    "keys= ['name1','name2','dist'] \n",
    "dict_numdist=dict(zip(keys, zip(*euc_dist_numerical)))\n",
    "keys=['name1','name2','similarity','dist']\n",
    "dict_catdist=dict(zip(keys,zip(*gdall_dist_categorical)))"
   ]
  },
  {
   "cell_type": "markdown",
   "id": "2980f8cb",
   "metadata": {},
   "source": [
    "* We calculate the variances of the distances corresponding to numerical and categorical features"
   ]
  },
  {
   "cell_type": "code",
   "execution_count": 191,
   "id": "546db320",
   "metadata": {},
   "outputs": [],
   "source": [
    "std_numdist=np.std(dict_numdist['dist'], ddof=1)"
   ]
  },
  {
   "cell_type": "code",
   "execution_count": 192,
   "id": "03942a37",
   "metadata": {},
   "outputs": [],
   "source": [
    "std_catdist=np.std(dict_catdist['dist'],ddof=1)"
   ]
  },
  {
   "cell_type": "markdown",
   "id": "e7bb502d",
   "metadata": {},
   "source": [
    "* We calculate the combined distances with the given equation from the book"
   ]
  },
  {
   "cell_type": "code",
   "execution_count": 193,
   "id": "d629828d",
   "metadata": {},
   "outputs": [],
   "source": [
    "mixed_dist=np.empty((15,),dtype=object)\n",
    "count=0 \n",
    "for i in range(0,6) :\n",
    "    for j in range(i+1,6):\n",
    "        dist=lamb_da/std_numdist*euc_dist_numerical[count][2] + (1-lamb_da)/std_catdist*gdall_dist_categorical[count][3]\n",
    "        mixed_dist[count]=[data.loc[i,'name'],data.loc[j,'name'],dist]\n",
    "        count+=1\n",
    "    "
   ]
  },
  {
   "cell_type": "code",
   "execution_count": 194,
   "id": "101d4089",
   "metadata": {
    "scrolled": true
   },
   "outputs": [
    {
     "data": {
      "text/plain": [
       "array([list(['Clover', 'Sunny', 2.515987523913735]),\n",
       "       list(['Clover', 'Rose', 2.778553755452394]),\n",
       "       list(['Clover', 'Daisy', 3.5267592789551756]),\n",
       "       list(['Clover', 'Strawberry', 4.170499708894216]),\n",
       "       list(['Clover', 'Molly', 4.49753885648513]),\n",
       "       list(['Sunny', 'Rose', 3.7030992417104516]),\n",
       "       list(['Sunny', 'Daisy', 2.9487141669744856]),\n",
       "       list(['Sunny', 'Strawberry', 4.350351151129717]),\n",
       "       list(['Sunny', 'Molly', 3.0005797877576317]),\n",
       "       list(['Rose', 'Daisy', 2.7109432073591795]),\n",
       "       list(['Rose', 'Strawberry', 3.0816306526276502]),\n",
       "       list(['Rose', 'Molly', 3.3078578656683]),\n",
       "       list(['Daisy', 'Strawberry', 2.0610778720775538]),\n",
       "       list(['Daisy', 'Molly', 3.3242638700977265]),\n",
       "       list(['Strawberry', 'Molly', 3.4910284613894156])], dtype=object)"
      ]
     },
     "execution_count": 194,
     "metadata": {},
     "output_type": "execute_result"
    }
   ],
   "source": [
    "mixed_dist"
   ]
  },
  {
   "cell_type": "markdown",
   "id": "6774eae6",
   "metadata": {},
   "source": [
    "### 4D i\n"
   ]
  },
  {
   "cell_type": "markdown",
   "id": "73cc7997",
   "metadata": {
    "scrolled": true
   },
   "source": [
    "* We create histograms of different distance methods"
   ]
  },
  {
   "cell_type": "code",
   "execution_count": 195,
   "id": "1e7ccbbc",
   "metadata": {},
   "outputs": [],
   "source": [
    "keys=['name1','name2','dist']\n",
    "dict_mixeddist=dict(zip(keys,zip(*mixed_dist)))"
   ]
  },
  {
   "cell_type": "code",
   "execution_count": 196,
   "id": "010499ed",
   "metadata": {
    "scrolled": false
   },
   "outputs": [
    {
     "data": {
      "image/png": "[encoded data removed]",
      "text/plain": [
       "<Figure size 720x720 with 3 Axes>"
      ]
     },
     "metadata": {
      "needs_background": "light"
     },
     "output_type": "display_data"
    }
   ],
   "source": [
    "\n",
    "fig, ax = plt.subplots(figsize=(10,10))\n",
    "plt.subplot(2,2,1)\n",
    "pd.DataFrame.from_dict(dict_numdist)['dist'].hist(bins=7)\n",
    "plt.title('numerical euclidean distance')\n",
    "plt.subplot(2,2,2)\n",
    "pd.DataFrame.from_dict(dict_catdist)['dist'].hist(bins=5)\n",
    "plt.title('categorical goodall distance')\n",
    "plt.subplot(2,2,3)\n",
    "pd.DataFrame.from_dict(dict_mixeddist)['dist'].hist(bins=5)\n",
    "plt.title('mixed distance')\n",
    "plt.show()"
   ]
  },
  {
   "cell_type": "markdown",
   "id": "806b15ae",
   "metadata": {},
   "source": [
    "* We can see that Mixed and Numerical measure fits best for clustering and we can clearly see 2 peaks with comparably big values."
   ]
  },
  {
   "cell_type": "markdown",
   "id": "60cc95ec",
   "metadata": {},
   "source": [
    "### 4D ii"
   ]
  },
  {
   "cell_type": "markdown",
   "id": "159e67c8",
   "metadata": {},
   "source": [
    "* to plot the graphs I use the networkx library"
   ]
  },
  {
   "cell_type": "code",
   "execution_count": 197,
   "id": "04a24bbf",
   "metadata": {},
   "outputs": [],
   "source": [
    "import networkx as nx"
   ]
  },
  {
   "cell_type": "markdown",
   "id": "63502348",
   "metadata": {},
   "source": [
    "#### Clustering with Categorical distance"
   ]
  },
  {
   "cell_type": "code",
   "execution_count": 198,
   "id": "f8f3ee9c",
   "metadata": {},
   "outputs": [],
   "source": [
    "G=nx.Graph()"
   ]
  },
  {
   "cell_type": "code",
   "execution_count": 199,
   "id": "fe3cc8e1",
   "metadata": {},
   "outputs": [],
   "source": [
    "G.add_nodes_from(data['name'])"
   ]
  },
  {
   "cell_type": "markdown",
   "id": "13e445af",
   "metadata": {},
   "source": [
    "* I create the distances data frames to use in calculations"
   ]
  },
  {
   "cell_type": "code",
   "execution_count": 200,
   "id": "023b17a1",
   "metadata": {
    "scrolled": true
   },
   "outputs": [],
   "source": [
    "numeric_dist_df=pd.DataFrame.from_dict(dict_numdist)\n",
    "categorical_dist_df=pd.DataFrame.from_dict(dict_catdist)\n",
    "mixed_dist_df=pd.DataFrame.from_dict(dict_mixeddist)\n"
   ]
  },
  {
   "cell_type": "markdown",
   "id": "ba224b29",
   "metadata": {},
   "source": [
    "* I add the edges to our graph which has weight corresponding to the distances between nodes (cows)"
   ]
  },
  {
   "cell_type": "code",
   "execution_count": 201,
   "id": "f2bb22e6",
   "metadata": {},
   "outputs": [],
   "source": [
    "for i in range(0,15):\n",
    "     G.add_edge(gdall_dist_categorical[i][0],gdall_dist_categorical[i][1],weight=gdall_dist_categorical[i][3])\n",
    "   # G.add_edge(categorical_dist_df['name1'] ,categorical_dist_df['name2'],weight=categorical_dist_df['dist'])"
   ]
  },
  {
   "cell_type": "code",
   "execution_count": 202,
   "id": "5a43e183",
   "metadata": {
    "scrolled": true
   },
   "outputs": [
    {
     "data": {
      "image/png": "[encoded data removed]",
      "text/plain": [
       "<Figure size 432x288 with 1 Axes>"
      ]
     },
     "metadata": {},
     "output_type": "display_data"
    }
   ],
   "source": [
    "pos=nx.spring_layout(G) # pos = nx.nx_agraph.graphviz_layout(G)\n",
    "nx.draw_networkx(G,pos)\n",
    "labels = nx.get_edge_attributes(G,'weight')\n",
    "#nx.draw_networkx_edge_labels(G,pos,edge_labels=labels)\n",
    "#nx.draw(G,with_labels=True)"
   ]
  },
  {
   "cell_type": "code",
   "execution_count": 203,
   "id": "da31bb2d",
   "metadata": {},
   "outputs": [],
   "source": [
    "edges=sorted(G.edges(data=True), key=lambda t: t[2].get('weight', 1),reverse=True)"
   ]
  },
  {
   "cell_type": "code",
   "execution_count": 204,
   "id": "3a2c776c",
   "metadata": {
    "scrolled": true
   },
   "outputs": [
    {
     "data": {
      "text/plain": [
       "[('Clover', 'Daisy', {'weight': 1.0}),\n",
       " ('Clover', 'Strawberry', {'weight': 1.0}),\n",
       " ('Clover', 'Molly', {'weight': 1.0}),\n",
       " ('Sunny', 'Rose', {'weight': 1.0}),\n",
       " ('Sunny', 'Strawberry', {'weight': 1.0}),\n",
       " ('Strawberry', 'Molly', {'weight': 1.0}),\n",
       " ('Sunny', 'Daisy', {'weight': 0.75}),\n",
       " ('Rose', 'Daisy', {'weight': 0.75}),\n",
       " ('Rose', 'Strawberry', {'weight': 0.75}),\n",
       " ('Daisy', 'Molly', {'weight': 0.75}),\n",
       " ('Clover', 'Sunny', {'weight': 0.7037037037037037}),\n",
       " ('Clover', 'Rose', {'weight': 0.7037037037037037}),\n",
       " ('Rose', 'Molly', {'weight': 0.7037037037037037}),\n",
       " ('Sunny', 'Molly', {'weight': 0.4537037037037037}),\n",
       " ('Daisy', 'Strawberry', {'weight': 0.4537037037037037})]"
      ]
     },
     "execution_count": 204,
     "metadata": {},
     "output_type": "execute_result"
    }
   ],
   "source": [
    "edges\n"
   ]
  },
  {
   "cell_type": "code",
   "execution_count": 205,
   "id": "cd6c16fe",
   "metadata": {},
   "outputs": [],
   "source": [
    "G.remove_edge('Clover','Daisy')\n",
    "G.remove_edge('Clover','Strawberry')\n",
    "G.remove_edge('Clover', 'Molly')\n",
    "G.remove_edge('Sunny', 'Rose')\n",
    "G.remove_edge('Sunny', 'Strawberry')\n",
    "G.remove_edge('Strawberry', 'Molly')\n",
    "G.remove_edge('Sunny', 'Daisy')\n",
    "G.remove_edge('Rose', 'Daisy')\n",
    "G.remove_edge('Rose', 'Strawberry')\n",
    "G.remove_edge('Daisy','Molly')\n"
   ]
  },
  {
   "cell_type": "code",
   "execution_count": null,
   "id": "b60d7d1b",
   "metadata": {},
   "outputs": [],
   "source": [
    "\n"
   ]
  },
  {
   "cell_type": "code",
   "execution_count": 206,
   "id": "469d8053",
   "metadata": {
    "scrolled": true
   },
   "outputs": [
    {
     "data": {
      "image/png": "[encoded data removed]",
      "text/plain": [
       "<Figure size 432x288 with 1 Axes>"
      ]
     },
     "metadata": {},
     "output_type": "display_data"
    }
   ],
   "source": [
    "nx.draw(G,with_labels = True)"
   ]
  },
  {
   "cell_type": "markdown",
   "id": "854dd924",
   "metadata": {},
   "source": [
    "#### Clustering for numerical euc distance"
   ]
  },
  {
   "cell_type": "code",
   "execution_count": 207,
   "id": "58cfa746",
   "metadata": {},
   "outputs": [],
   "source": [
    "G_num=nx.Graph()\n",
    "G_num.add_nodes_from(data['name'])\n",
    "for i in range(0,15):\n",
    "     G_num.add_edge(euc_dist_numerical[i][0],euc_dist_numerical[i][1],weight=euc_dist_numerical[i][2])\n",
    "   \n",
    "\n"
   ]
  },
  {
   "cell_type": "code",
   "execution_count": 208,
   "id": "62db6fa4",
   "metadata": {},
   "outputs": [
    {
     "data": {
      "text/plain": [
       "[('Sunny', 'Molly', {'weight': 1.4142135623730951}),\n",
       " ('Clover', 'Molly', {'weight': 1.228903609577518}),\n",
       " ('Sunny', 'Strawberry', {'weight': 1.0975648163443914}),\n",
       " ('Rose', 'Molly', {'weight': 0.9923174278178433}),\n",
       " ('Clover', 'Strawberry', {'weight': 0.9370794597216394}),\n",
       " ('Daisy', 'Molly', {'weight': 0.8780518530755131}),\n",
       " ('Rose', 'Strawberry', {'weight': 0.6615449518785621}),\n",
       " ('Daisy', 'Strawberry', {'weight': 0.5758755534498964}),\n",
       " ('Sunny', 'Daisy', {'weight': 0.5429406786186372}),\n",
       " ('Clover', 'Rose', {'weight': 0.5200078492343227}),\n",
       " ('Sunny', 'Rose', {'weight': 0.5200078492343227}),\n",
       " ('Clover', 'Daisy', {'weight': 0.3626558621839956}),\n",
       " ('Rose', 'Daisy', {'weight': 0.33077247593928105}),\n",
       " ('Strawberry', 'Molly', {'weight': 0.33077247593928105}),\n",
       " ('Clover', 'Sunny', {'weight': 0.2857142857142857})]"
      ]
     },
     "execution_count": 208,
     "metadata": {},
     "output_type": "execute_result"
    }
   ],
   "source": [
    "edges=sorted(G_num.edges(data=True), key=lambda t: t[2].get('weight', 1),reverse=True)\n",
    "\n",
    "edges\n",
    "\n"
   ]
  },
  {
   "cell_type": "code",
   "execution_count": 209,
   "id": "3a728b5c",
   "metadata": {},
   "outputs": [],
   "source": [
    "G_num.remove_edge('Sunny','Molly')\n",
    "G_num.remove_edge('Clover','Molly')\n",
    "G_num.remove_edge('Sunny','Strawberry')\n",
    "G_num.remove_edge('Rose','Molly')\n",
    "G_num.remove_edge('Clover','Strawberry')\n",
    "G_num.remove_edge('Daisy','Molly')\n",
    "G_num.remove_edge('Rose','Strawberry')\n",
    "G_num.remove_edge('Daisy','Strawberry')"
   ]
  },
  {
   "cell_type": "code",
   "execution_count": 210,
   "id": "62e5cb6b",
   "metadata": {},
   "outputs": [
    {
     "data": {
      "image/png": "[encoded data removed]",
      "text/plain": [
       "<Figure size 432x288 with 1 Axes>"
      ]
     },
     "metadata": {},
     "output_type": "display_data"
    }
   ],
   "source": [
    "\n",
    "nx.draw(G_num,with_labels = True)"
   ]
  },
  {
   "cell_type": "markdown",
   "id": "7f7511cc",
   "metadata": {},
   "source": [
    "#### Clustering according to the mixed distances"
   ]
  },
  {
   "cell_type": "code",
   "execution_count": 211,
   "id": "ca361d87",
   "metadata": {},
   "outputs": [],
   "source": [
    "G_mixed=nx.Graph()\n",
    "G_mixed.add_nodes_from(data['name'])\n",
    "for i in range(0,15):\n",
    "     G_mixed.add_edge(mixed_dist[i][0],mixed_dist[i][1],weight=mixed_dist[i][2])  \n"
   ]
  },
  {
   "cell_type": "code",
   "execution_count": 212,
   "id": "6abb078e",
   "metadata": {},
   "outputs": [
    {
     "data": {
      "text/plain": [
       "[('Clover', 'Molly', {'weight': 4.49753885648513}),\n",
       " ('Sunny', 'Strawberry', {'weight': 4.350351151129717}),\n",
       " ('Clover', 'Strawberry', {'weight': 4.170499708894216}),\n",
       " ('Sunny', 'Rose', {'weight': 3.7030992417104516}),\n",
       " ('Clover', 'Daisy', {'weight': 3.5267592789551756}),\n",
       " ('Strawberry', 'Molly', {'weight': 3.4910284613894156}),\n",
       " ('Daisy', 'Molly', {'weight': 3.3242638700977265}),\n",
       " ('Rose', 'Molly', {'weight': 3.3078578656683}),\n",
       " ('Rose', 'Strawberry', {'weight': 3.0816306526276502}),\n",
       " ('Sunny', 'Molly', {'weight': 3.0005797877576317}),\n",
       " ('Sunny', 'Daisy', {'weight': 2.9487141669744856}),\n",
       " ('Clover', 'Rose', {'weight': 2.778553755452394}),\n",
       " ('Rose', 'Daisy', {'weight': 2.7109432073591795}),\n",
       " ('Clover', 'Sunny', {'weight': 2.515987523913735}),\n",
       " ('Daisy', 'Strawberry', {'weight': 2.0610778720775538})]"
      ]
     },
     "execution_count": 212,
     "metadata": {},
     "output_type": "execute_result"
    }
   ],
   "source": [
    "edges=sorted(G_mixed.edges(data=True), key=lambda t: t[2].get('weight', 1),reverse=True)\n",
    "edges"
   ]
  },
  {
   "cell_type": "code",
   "execution_count": 213,
   "id": "df0db148",
   "metadata": {},
   "outputs": [],
   "source": [
    "G_mixed.remove_edge('Clover','Molly')\n",
    "G_mixed.remove_edge('Sunny','Strawberry')\n",
    "G_mixed.remove_edge('Clover','Strawberry')\n",
    "G_mixed.remove_edge('Sunny','Rose')\n",
    "G_mixed.remove_edge('Clover','Daisy')\n",
    "G_mixed.remove_edge('Strawberry','Molly')\n",
    "G_mixed.remove_edge('Daisy','Molly')\n",
    "G_mixed.remove_edge('Rose','Molly')\n",
    "G_mixed.remove_edge('Rose','Strawberry')\n",
    "G_mixed.remove_edge('Sunny','Molly')\n"
   ]
  },
  {
   "cell_type": "code",
   "execution_count": 214,
   "id": "f1d8f3c1",
   "metadata": {
    "scrolled": true
   },
   "outputs": [
    {
     "data": {
      "image/png": "[encoded data removed]",
      "text/plain": [
       "<Figure size 432x288 with 1 Axes>"
      ]
     },
     "metadata": {},
     "output_type": "display_data"
    }
   ],
   "source": [
    "\n",
    "nx.draw(G_mixed,with_labels = True)\n"
   ]
  },
  {
   "cell_type": "code",
   "execution_count": 215,
   "id": "f1fb7634",
   "metadata": {},
   "outputs": [
    {
     "data": {
      "text/html": [
       "<div>\n",
       "<style scoped>\n",
       "    .dataframe tbody tr th:only-of-type {\n",
       "        vertical-align: middle;\n",
       "    }\n",
       "\n",
       "    .dataframe tbody tr th {\n",
       "        vertical-align: top;\n",
       "    }\n",
       "\n",
       "    .dataframe thead th {\n",
       "        text-align: right;\n",
       "    }\n",
       "</style>\n",
       "<table border=\"1\" class=\"dataframe\">\n",
       "  <thead>\n",
       "    <tr style=\"text-align: right;\">\n",
       "      <th></th>\n",
       "      <th>name</th>\n",
       "      <th>race</th>\n",
       "      <th>age</th>\n",
       "      <th>milk/d</th>\n",
       "      <th>character</th>\n",
       "      <th>music</th>\n",
       "    </tr>\n",
       "  </thead>\n",
       "  <tbody>\n",
       "    <tr>\n",
       "      <th>0</th>\n",
       "      <td>Clover</td>\n",
       "      <td>Holstein</td>\n",
       "      <td>2</td>\n",
       "      <td>20</td>\n",
       "      <td>lively</td>\n",
       "      <td>rock</td>\n",
       "    </tr>\n",
       "    <tr>\n",
       "      <th>1</th>\n",
       "      <td>Sunny</td>\n",
       "      <td>Ayrshire</td>\n",
       "      <td>2</td>\n",
       "      <td>10</td>\n",
       "      <td>kind</td>\n",
       "      <td>rock</td>\n",
       "    </tr>\n",
       "    <tr>\n",
       "      <th>2</th>\n",
       "      <td>Rose</td>\n",
       "      <td>Holstein</td>\n",
       "      <td>5</td>\n",
       "      <td>15</td>\n",
       "      <td>calm</td>\n",
       "      <td>country</td>\n",
       "    </tr>\n",
       "    <tr>\n",
       "      <th>3</th>\n",
       "      <td>Daisy</td>\n",
       "      <td>Ayrshire</td>\n",
       "      <td>4</td>\n",
       "      <td>25</td>\n",
       "      <td>calm</td>\n",
       "      <td>classical</td>\n",
       "    </tr>\n",
       "    <tr>\n",
       "      <th>4</th>\n",
       "      <td>Strawberry</td>\n",
       "      <td>Finncattle</td>\n",
       "      <td>7</td>\n",
       "      <td>35</td>\n",
       "      <td>calm</td>\n",
       "      <td>classical</td>\n",
       "    </tr>\n",
       "    <tr>\n",
       "      <th>5</th>\n",
       "      <td>Molly</td>\n",
       "      <td>Ayrshire</td>\n",
       "      <td>8</td>\n",
       "      <td>45</td>\n",
       "      <td>kind</td>\n",
       "      <td>country</td>\n",
       "    </tr>\n",
       "  </tbody>\n",
       "</table>\n",
       "</div>"
      ],
      "text/plain": [
       "         name        race  age  milk/d character      music\n",
       "0      Clover    Holstein    2      20    lively       rock\n",
       "1       Sunny    Ayrshire    2      10      kind       rock\n",
       "2        Rose    Holstein    5      15      calm    country\n",
       "3       Daisy    Ayrshire    4      25      calm  classical\n",
       "4  Strawberry  Finncattle    7      35      calm  classical\n",
       "5       Molly    Ayrshire    8      45      kind    country"
      ]
     },
     "execution_count": 215,
     "metadata": {},
     "output_type": "execute_result"
    }
   ],
   "source": [
    "data"
   ]
  },
  {
   "cell_type": "markdown",
   "id": "13aa1702",
   "metadata": {},
   "source": [
    "* We can't rely on Numerical distance clusters because from the graph we see that Strawberry and Molly is in same cluster while they don't share any of the categorical feautures (which is 3/5  of the feautures). I think the more realiable clustering would be mixed distance clustering since it takes into consideration all of the feautures and with bigger data sets it would create more decent clusters than the others.Molly has very big distance from everyone (except Strawberry) because of its numerical feautures and even with Strawberry it doesn't share any categorical feauture. We also can't rely on categorical clusters because even though Daisy and Strawberry are very close because of categorical features it would show the same clustering even if their numerical features would differ by 100 times. \n",
    "* In conclusion, Clustering on mixed distance values is more reliable"
   ]
  }
 ],
 "metadata": {
  "kernelspec": {
   "display_name": "Python 3",
   "language": "python",
   "name": "python3"
  },
  "language_info": {
   "codemirror_mode": {
    "name": "ipython",
    "version": 3
   },
   "file_extension": ".py",
   "mimetype": "text/x-python",
   "name": "python",
   "nbconvert_exporter": "python",
   "pygments_lexer": "ipython3",
   "version": "3.8.8"
  }
 },
 "nbformat": 4,
 "nbformat_minor": 5
}
