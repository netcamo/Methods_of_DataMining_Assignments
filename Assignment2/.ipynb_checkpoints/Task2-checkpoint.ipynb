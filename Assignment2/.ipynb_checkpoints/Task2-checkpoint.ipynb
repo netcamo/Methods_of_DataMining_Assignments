{
 "cells": [
  {
   "cell_type": "markdown",
   "id": "487e0a41",
   "metadata": {},
   "source": [
    "# Jeyhun Yagublu"
   ]
  },
  {
   "cell_type": "code",
   "execution_count": 95,
   "id": "26029eb1",
   "metadata": {},
   "outputs": [],
   "source": [
    "import pandas as pd\n",
    "import random\n",
    "import numpy as np\n",
    "from sklearn.cluster import KMeans\n",
    "from sklearn import preprocessing\n",
    "from sklearn import metrics as skmet\n",
    "import seaborn as sns\n",
    "import matplotlib.pyplot as plt\n",
    "import math\n",
    "import time\n",
    "from scipy.stats.stats import pearsonr\n",
    "import itertools\n",
    "from sklearn.decomposition import PCA\n",
    "from sklearn.cluster import AgglomerativeClustering\n",
    "import scipy.cluster.hierarchy as sch\n",
    "from scipy.cluster.hierarchy import dendrogram\n",
    "pd.set_option('display.expand_frame_repr', False)\n",
    "%matplotlib inline"
   ]
  },
  {
   "cell_type": "code",
   "execution_count": 96,
   "id": "a8bc0287",
   "metadata": {},
   "outputs": [],
   "source": [
    "data=[['coffee', 'milk', 'sugar', 'eggs', 'bread'],#1\n",
    "['bread', 'coffee', 'butter', 'milk', 'eggs'],#2\n",
    "['sugar', 'cheese', 'cream', 'ham', 'salt'],#3\n",
    "['eggs', 'cheese', 'apples', 'bread', 'butter'],#4\n",
    "['apples', 'bread', 'eggs', 'butter', 'tea'],#5\n",
    "['cheese', 'bread', 'coffee', 'milk', 'tea'],#6\n",
    "['apples', 'salt', 'butter', 'ham', 'coffee'],#7\n",
    "['salt', 'butter', 'bread', 'ham', 'apples']] #8 "
   ]
  },
  {
   "cell_type": "code",
   "execution_count": 97,
   "id": "63618f92",
   "metadata": {
    "scrolled": true
   },
   "outputs": [],
   "source": [
    "uniques = np.unique(data)\n",
    "X = np.searchsorted(uniques, data)"
   ]
  },
  {
   "cell_type": "code",
   "execution_count": 98,
   "id": "0b9f7cf9",
   "metadata": {},
   "outputs": [],
   "source": [
    "def Jaccard_dist ( l1 ,  l2 ) :\n",
    "    l1=set(l1) \n",
    "    l2=set(l2)\n",
    "    dist=1-len(l1.intersection(l2))/len(l1.union(l2))\n",
    "    return dist\n",
    "    "
   ]
  },
  {
   "cell_type": "code",
   "execution_count": 99,
   "id": "8dc88adc",
   "metadata": {
    "scrolled": true
   },
   "outputs": [
    {
     "data": {
      "text/plain": [
       "array([[0.    , 0.3333, 0.8889, 0.75  , 0.75  , 0.5714, 0.8889, 0.8889],\n",
       "       [0.3333, 0.    , 1.    , 0.5714, 0.5714, 0.5714, 0.75  , 0.75  ],\n",
       "       [0.8889, 1.    , 0.    , 0.8889, 1.    , 0.8889, 0.75  , 0.75  ],\n",
       "       [0.75  , 0.5714, 0.8889, 0.    , 0.3333, 0.75  , 0.75  , 0.5714],\n",
       "       [0.75  , 0.5714, 1.    , 0.3333, 0.    , 0.75  , 0.75  , 0.5714],\n",
       "       [0.5714, 0.5714, 0.8889, 0.75  , 0.75  , 0.    , 0.8889, 0.8889],\n",
       "       [0.8889, 0.75  , 0.75  , 0.75  , 0.75  , 0.8889, 0.    , 0.3333],\n",
       "       [0.8889, 0.75  , 0.75  , 0.5714, 0.5714, 0.8889, 0.3333, 0.    ]])"
      ]
     },
     "execution_count": 99,
     "metadata": {},
     "output_type": "execute_result"
    }
   ],
   "source": [
    "mat=skmet.pairwise_distances(X,  metric=Jaccard_dist )\n",
    "mat.round(4)\n"
   ]
  },
  {
   "cell_type": "markdown",
   "id": "6cf5c3f6",
   "metadata": {},
   "source": [
    "for i in range(1,9):\n",
    "    print(\"T\"+str(i)+\"&\",end=\"\")\n",
    "    \n",
    "for i in range (0,8):\n",
    "    print(\"T\"+str(i+1)+\"&\",end=\"\")\n",
    "    for j in range(0,8):\n",
    "         print(str(mat.round(4)[i][j])+\"&\",end=\"\")\n",
    "    print(\"\\\\\")        "
   ]
  },
  {
   "cell_type": "code",
   "execution_count": 100,
   "id": "96410cf0",
   "metadata": {},
   "outputs": [],
   "source": [
    "def plot_dendrogram(model, **kwargs):\n",
    "    # Create linkage matrix and then plot the dendrogram\n",
    "\n",
    "    # create the counts of samples under each node\n",
    "    counts = np.zeros(model.children_.shape[0])\n",
    "    n_samples = len(model.labels_)\n",
    "    for i, merge in enumerate(model.children_):\n",
    "        current_count = 0\n",
    "        for child_idx in merge:\n",
    "            if child_idx < n_samples:\n",
    "                current_count += 1  # leaf node\n",
    "            else:\n",
    "                current_count += counts[child_idx - n_samples]\n",
    "        counts[i] = current_count\n",
    "\n",
    "    linkage_matrix = np.column_stack([model.children_, model.distances_,\n",
    "                                      counts]).astype(float)\n",
    "\n",
    "    # Plot the corresponding dendrogram\n",
    "    dendrogram(linkage_matrix, **kwargs)"
   ]
  },
  {
   "cell_type": "code",
   "execution_count": 101,
   "id": "b63ba73a",
   "metadata": {},
   "outputs": [
    {
     "name": "stdout",
     "output_type": "stream",
     "text": [
      "[0 0 1 0 0 0 1 1]\n"
     ]
    },
    {
     "data": {
      "image/png": "[encoded data removed]",
      "text/plain": [
       "<Figure size 432x288 with 1 Axes>"
      ]
     },
     "metadata": {
      "needs_background": "light"
     },
     "output_type": "display_data"
    }
   ],
   "source": [
    "model = AgglomerativeClustering(n_clusters=2, affinity=\"precomputed\", linkage='complete',compute_distances=True)\n",
    "model=model.fit(mat)\n",
    "labels = model.labels_\n",
    "print(labels)\n",
    "plt.title('Hierarchical Clustering Dendrogram')\n",
    "# plot the top three levels of the dendrogram\n",
    "plot_dendrogram(model, truncate_mode='level', p=3)\n",
    "plt.xlabel(\"Number of points in node (or index of point if no parenthesis).\")\n",
    "plt.show()"
   ]
  },
  {
   "cell_type": "code",
   "execution_count": null,
   "id": "d3858163",
   "metadata": {},
   "outputs": [],
   "source": []
  },
  {
   "cell_type": "code",
   "execution_count": null,
   "id": "292efdd0",
   "metadata": {},
   "outputs": [],
   "source": []
  },
  {
   "cell_type": "code",
   "execution_count": null,
   "id": "f3cfcd16",
   "metadata": {},
   "outputs": [],
   "source": []
  },
  {
   "cell_type": "code",
   "execution_count": null,
   "id": "ad47fc08",
   "metadata": {},
   "outputs": [],
   "source": []
  },
  {
   "cell_type": "code",
   "execution_count": null,
   "id": "bac280ca",
   "metadata": {},
   "outputs": [],
   "source": []
  },
  {
   "cell_type": "code",
   "execution_count": 108,
   "id": "0c61d07d",
   "metadata": {},
   "outputs": [
    {
     "name": "stdout",
     "output_type": "stream",
     "text": [
      "[[ 4  8 10  6  1]\n",
      " [ 1  4  2  8  6]\n",
      " [10  3  5  7  9]\n",
      " [ 6  3  0  1  2]\n",
      " [ 0  1  6  2 11]\n",
      " [ 3  1  4  8 11]\n",
      " [ 0  9  2  7  4]\n",
      " [ 9  2  1  7  0]]\n"
     ]
    },
    {
     "data": {
      "text/plain": [
       "array([0, 0, 1, 0, 0, 0, 1, 1], dtype=int64)"
      ]
     },
     "execution_count": 108,
     "metadata": {},
     "output_type": "execute_result"
    }
   ],
   "source": [
    "data=[['coffee', 'milk', 'sugar', 'eggs', 'bread'],#1\n",
    "['bread', 'coffee', 'butter', 'milk', 'eggs'],#2\n",
    "['sugar', 'cheese', 'cream', 'ham', 'salt'],#3\n",
    "['eggs', 'cheese', 'apples', 'bread', 'butter'],#4\n",
    "['apples', 'bread', 'eggs', 'butter', 'tea'],#5\n",
    "['cheese', 'bread', 'coffee', 'milk', 'tea'],#6\n",
    "['apples', 'salt', 'butter', 'ham', 'coffee'],#7\n",
    "['salt', 'butter', 'bread', 'ham', 'apples']] #8 \n",
    "uniques = np.unique(data)\n",
    "X = np.searchsorted(uniques, data)\n",
    "print(X)\n",
    "def Jaccard_dist ( l1 ,  l2 ) :\n",
    "    l1=set(l1) \n",
    "    l2=set(l2)\n",
    "    dist=1-len(l1.intersection(l2))/len(l1.union(l2))\n",
    "    return dist\n",
    "    \n",
    "mat=skmet.pairwise_distances(X,  metric=Jaccard_dist )\n",
    "mat\n",
    "\n",
    "model = AgglomerativeClustering(n_clusters=2, affinity=\"precomputed\", linkage='complete')\n",
    "model.fit(mat)\n",
    "labels = model.labels_\n",
    "labels"
   ]
  },
  {
   "cell_type": "code",
   "execution_count": 128,
   "id": "499a583c",
   "metadata": {
    "scrolled": false
   },
   "outputs": [
    {
     "name": "stdout",
     "output_type": "stream",
     "text": [
      "\n",
      "[['bread' 'coffee' 'butter' 'milk' 'eggs']\n",
      " ['apples' 'bread' 'eggs' 'butter' 'tea']\n",
      " ['cheese' 'bread' 'coffee' 'milk' 'tea']\n",
      " ['apples' 'salt' 'butter' 'ham' 'coffee']\n",
      " ['salt' 'butter' 'bread' 'ham' 'apples']\n",
      " ['eggs' 'cheese' 'apples' 'bread' 'butter']\n",
      " ['sugar' 'cheese' 'cream' 'ham' 'salt']\n",
      " ['coffee' 'milk' 'sugar' 'eggs' 'bread']]\n"
     ]
    },
    {
     "data": {
      "image/png": "[encoded data removed]",
      "text/plain": [
       "<Figure size 432x288 with 1 Axes>"
      ]
     },
     "metadata": {
      "needs_background": "light"
     },
     "output_type": "display_data"
    },
    {
     "name": "stdout",
     "output_type": "stream",
     "text": [
      "[0 0 0 0 0 0 1 0]\n",
      "\n"
     ]
    }
   ],
   "source": [
    "data=[['bread', 'coffee', 'butter', 'milk', 'eggs'],#T2\n",
    "['apples', 'bread', 'eggs', 'butter', 'tea'],#T5\n",
    "['cheese', 'bread', 'coffee', 'milk', 'tea'],#T6\n",
    "['apples', 'salt', 'butter', 'ham', 'coffee'],#T7\n",
    "['salt', 'butter', 'bread', 'ham', 'apples'], #T8\n",
    "['eggs', 'cheese', 'apples', 'bread', 'butter'],#T4\n",
    "['sugar', 'cheese', 'cream', 'ham', 'salt'],#T3\n",
    "['coffee', 'milk', 'sugar', 'eggs', 'bread']]#T1\n",
    "\n",
    "uniques = np.unique(data)\n",
    "X = np.searchsorted(uniques, data)\n",
    "mat=skmet.pairwise_distances(X,  metric=Jaccard_dist )\n",
    "model = AgglomerativeClustering(n_clusters=2, affinity=\"precomputed\", linkage='complete',compute_distances=True)\n",
    "model.fit(mat)\n",
    "labels = model.labels_\n",
    "labels\n",
    "print()\n",
    "print(np.matrix(data))\n",
    "plt.title('Hierarchical Clustering Dendrogram')\n",
    "# plot the top three levels of the dendrogram\n",
    "plot_dendrogram(model, truncate_mode='level', p=3)\n",
    "plt.xlabel(\"Number of points in node (or index of point if no parenthesis).\")\n",
    "plt.show()\n",
    "print(labels)\n",
    "print()\n"
   ]
  },
  {
   "cell_type": "code",
   "execution_count": 121,
   "id": "5e662743",
   "metadata": {},
   "outputs": [],
   "source": [
    "\n",
    "\n"
   ]
  },
  {
   "cell_type": "code",
   "execution_count": null,
   "id": "950796ae",
   "metadata": {},
   "outputs": [],
   "source": [
    "data=[['coffee', 'milk', 'sugar', 'eggs', 'bread'],#1\n",
    "['bread', 'coffee', 'butter', 'milk', 'eggs'],#2\n",
    "['sugar', 'cheese', 'cream', 'ham', 'salt'],#3\n",
    "['eggs', 'cheese', 'apples', 'bread', 'butter'],#4\n",
    "['apples', 'bread', 'eggs', 'butter', 'tea'],#5\n",
    "['cheese', 'bread', 'coffee', 'milk', 'tea'],#6\n",
    "['apples', 'salt', 'butter', 'ham', 'coffee'],#7\n",
    "['salt', 'butter', 'bread', 'ham', 'apples']] #8 \n",
    " \n",
    "\n",
    "\n",
    "for i in range (0,10):\n",
    "    uniques = np.unique(data)\n",
    "    X = np.searchsorted(uniques, data)\n",
    "    mat=skmet.pairwise_distances(X,  metric=Jaccard_dist )\n",
    "    model = AgglomerativeClustering(n_clusters=2, affinity=\"precomputed\", linkage='complete',compute_distances=True)\n",
    "    model.fit(mat)\n",
    "    labels = model.labels_\n",
    "    labels\n",
    "    print()\n",
    "    \n",
    "    print(np.matrix(data))\n",
    "    plt.title('Hierarchical Clustering Dendrogram')\n",
    "    # plot the top three levels of the dendrogram\n",
    "    plot_dendrogram(model, truncate_mode='level', p=3)\n",
    "    plt.xlabel(\"Number of points in node (or index of point if no parenthesis).\")\n",
    "    plt.show()\n",
    "    print(labels)\n",
    "    print()\n",
    "    np.random.shuffle(data)\n"
   ]
  }
 ],
 "metadata": {
  "kernelspec": {
   "display_name": "Python 3",
   "language": "python",
   "name": "python3"
  },
  "language_info": {
   "codemirror_mode": {
    "name": "ipython",
    "version": 3
   },
   "file_extension": ".py",
   "mimetype": "text/x-python",
   "name": "python",
   "nbconvert_exporter": "python",
   "pygments_lexer": "ipython3",
   "version": "3.8.8"
  }
 },
 "nbformat": 4,
 "nbformat_minor": 5
}
