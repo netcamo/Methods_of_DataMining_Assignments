{
 "cells": [
  {
   "cell_type": "code",
   "execution_count": 101,
   "id": "55211267",
   "metadata": {},
   "outputs": [],
   "source": [
    "import pandas as pd\n",
    "import numpy as np\n",
    "from sklearn.cluster import KMeans\n",
    "from sklearn import preprocessing\n",
    "from sklearn import metrics as skmet\n",
    "import seaborn as sns\n",
    "import matplotlib.pyplot as plt\n",
    "import math\n",
    "import time\n",
    "from scipy.stats.stats import pearsonr\n",
    "import itertools\n",
    "from sklearn.decomposition import PCA\n",
    "from sklearn.cluster import AgglomerativeClustering\n",
    "import scipy.cluster.hierarchy as sch\n",
    "pd.set_option('display.expand_frame_repr', False)\n",
    "%matplotlib inline\n"
   ]
  },
  {
   "cell_type": "code",
   "execution_count": 102,
   "id": "9b075d74",
   "metadata": {
    "scrolled": false
   },
   "outputs": [
    {
     "data": {
      "text/html": [
       "<div>\n",
       "<style scoped>\n",
       "    .dataframe tbody tr th:only-of-type {\n",
       "        vertical-align: middle;\n",
       "    }\n",
       "\n",
       "    .dataframe tbody tr th {\n",
       "        vertical-align: top;\n",
       "    }\n",
       "\n",
       "    .dataframe thead th {\n",
       "        text-align: right;\n",
       "    }\n",
       "</style>\n",
       "<table border=\"1\" class=\"dataframe\">\n",
       "  <thead>\n",
       "    <tr style=\"text-align: right;\">\n",
       "      <th></th>\n",
       "      <th>id</th>\n",
       "      <th>day</th>\n",
       "      <th>weight</th>\n",
       "      <th>gender</th>\n",
       "      <th>liverind</th>\n",
       "      <th>heartind</th>\n",
       "      <th>appind</th>\n",
       "      <th>femstate</th>\n",
       "      <th>gonfatind</th>\n",
       "      <th>batind</th>\n",
       "      <th>sulcer</th>\n",
       "      <th>kmethod</th>\n",
       "      <th>tailind</th>\n",
       "      <th>blength</th>\n",
       "      <th>place</th>\n",
       "      <th>year</th>\n",
       "      <th>ADWBind</th>\n",
       "      <th>gonind</th>\n",
       "      <th>BMI</th>\n",
       "    </tr>\n",
       "  </thead>\n",
       "  <tbody>\n",
       "    <tr>\n",
       "      <th>0</th>\n",
       "      <td>rat1</td>\n",
       "      <td>67</td>\n",
       "      <td>22.0</td>\n",
       "      <td>1</td>\n",
       "      <td>0.036364</td>\n",
       "      <td>0.005091</td>\n",
       "      <td>0.013636</td>\n",
       "      <td>4</td>\n",
       "      <td>0.000000</td>\n",
       "      <td>0.001864</td>\n",
       "      <td>1</td>\n",
       "      <td>3</td>\n",
       "      <td>0.714286</td>\n",
       "      <td>10.5</td>\n",
       "      <td>2</td>\n",
       "      <td>5</td>\n",
       "      <td>0.454545</td>\n",
       "      <td>0.000000</td>\n",
       "      <td>0.199546</td>\n",
       "    </tr>\n",
       "    <tr>\n",
       "      <th>1</th>\n",
       "      <td>rat2</td>\n",
       "      <td>251</td>\n",
       "      <td>182.0</td>\n",
       "      <td>1</td>\n",
       "      <td>0.010440</td>\n",
       "      <td>0.004396</td>\n",
       "      <td>0.008791</td>\n",
       "      <td>4</td>\n",
       "      <td>0.023077</td>\n",
       "      <td>0.000742</td>\n",
       "      <td>3</td>\n",
       "      <td>3</td>\n",
       "      <td>0.666667</td>\n",
       "      <td>19.5</td>\n",
       "      <td>1</td>\n",
       "      <td>3</td>\n",
       "      <td>0.302198</td>\n",
       "      <td>1.648659</td>\n",
       "      <td>0.478632</td>\n",
       "    </tr>\n",
       "    <tr>\n",
       "      <th>2</th>\n",
       "      <td>rat3</td>\n",
       "      <td>230</td>\n",
       "      <td>37.5</td>\n",
       "      <td>1</td>\n",
       "      <td>0.051200</td>\n",
       "      <td>0.006133</td>\n",
       "      <td>0.020800</td>\n",
       "      <td>4</td>\n",
       "      <td>0.000000</td>\n",
       "      <td>0.001467</td>\n",
       "      <td>2</td>\n",
       "      <td>1</td>\n",
       "      <td>0.904762</td>\n",
       "      <td>10.5</td>\n",
       "      <td>3</td>\n",
       "      <td>8</td>\n",
       "      <td>0.653333</td>\n",
       "      <td>0.000000</td>\n",
       "      <td>0.340136</td>\n",
       "    </tr>\n",
       "    <tr>\n",
       "      <th>3</th>\n",
       "      <td>rat4</td>\n",
       "      <td>261</td>\n",
       "      <td>45.0</td>\n",
       "      <td>2</td>\n",
       "      <td>0.047333</td>\n",
       "      <td>0.005556</td>\n",
       "      <td>0.105111</td>\n",
       "      <td></td>\n",
       "      <td>0.293333</td>\n",
       "      <td>0.002178</td>\n",
       "      <td>1</td>\n",
       "      <td>1</td>\n",
       "      <td>0.869565</td>\n",
       "      <td>11.5</td>\n",
       "      <td>9</td>\n",
       "      <td>2</td>\n",
       "      <td>0.260000</td>\n",
       "      <td>2.653242</td>\n",
       "      <td>0.340265</td>\n",
       "    </tr>\n",
       "    <tr>\n",
       "      <th>4</th>\n",
       "      <td>rat5</td>\n",
       "      <td>262</td>\n",
       "      <td>43.0</td>\n",
       "      <td>1</td>\n",
       "      <td>0.052558</td>\n",
       "      <td>0.005349</td>\n",
       "      <td>0.021628</td>\n",
       "      <td>4</td>\n",
       "      <td>0.000000</td>\n",
       "      <td>0.001884</td>\n",
       "      <td>1</td>\n",
       "      <td>1</td>\n",
       "      <td>0.720000</td>\n",
       "      <td>12.5</td>\n",
       "      <td>3</td>\n",
       "      <td>8</td>\n",
       "      <td>0.500000</td>\n",
       "      <td>0.000000</td>\n",
       "      <td>0.275200</td>\n",
       "    </tr>\n",
       "  </tbody>\n",
       "</table>\n",
       "</div>"
      ],
      "text/plain": [
       "     id  day  weight  gender  liverind  heartind    appind femstate  gonfatind    batind  sulcer  kmethod   tailind  blength  place year   ADWBind    gonind       BMI\n",
       "0  rat1   67    22.0       1  0.036364  0.005091  0.013636        4   0.000000  0.001864       1        3  0.714286     10.5      2    5  0.454545  0.000000  0.199546\n",
       "1  rat2  251   182.0       1  0.010440  0.004396  0.008791        4   0.023077  0.000742       3        3  0.666667     19.5      1    3  0.302198  1.648659  0.478632\n",
       "2  rat3  230    37.5       1  0.051200  0.006133  0.020800        4   0.000000  0.001467       2        1  0.904762     10.5      3    8  0.653333  0.000000  0.340136\n",
       "3  rat4  261    45.0       2  0.047333  0.005556  0.105111            0.293333  0.002178       1        1  0.869565     11.5      9    2  0.260000  2.653242  0.340265\n",
       "4  rat5  262    43.0       1  0.052558  0.005349  0.021628        4   0.000000  0.001884       1        1  0.720000     12.5      3    8  0.500000  0.000000  0.275200"
      ]
     },
     "execution_count": 102,
     "metadata": {},
     "output_type": "execute_result"
    }
   ],
   "source": [
    "data_path = \"ratdataNormChecked.csv\"\n",
    "original_data = data = pd.read_csv(data_path)\n",
    "original_data.head()\n"
   ]
  },
  {
   "cell_type": "code",
   "execution_count": 103,
   "id": "0d2d368d",
   "metadata": {
    "scrolled": true
   },
   "outputs": [
    {
     "data": {
      "text/html": [
       "<div>\n",
       "<style scoped>\n",
       "    .dataframe tbody tr th:only-of-type {\n",
       "        vertical-align: middle;\n",
       "    }\n",
       "\n",
       "    .dataframe tbody tr th {\n",
       "        vertical-align: top;\n",
       "    }\n",
       "\n",
       "    .dataframe thead th {\n",
       "        text-align: right;\n",
       "    }\n",
       "</style>\n",
       "<table border=\"1\" class=\"dataframe\">\n",
       "  <thead>\n",
       "    <tr style=\"text-align: right;\">\n",
       "      <th></th>\n",
       "      <th>liverind</th>\n",
       "      <th>heartind</th>\n",
       "      <th>appind</th>\n",
       "      <th>batind</th>\n",
       "      <th>tailind</th>\n",
       "      <th>ADWBind</th>\n",
       "      <th>gonind</th>\n",
       "      <th>BMI</th>\n",
       "    </tr>\n",
       "  </thead>\n",
       "  <tbody>\n",
       "    <tr>\n",
       "      <th>0</th>\n",
       "      <td>0.036364</td>\n",
       "      <td>0.005091</td>\n",
       "      <td>0.013636</td>\n",
       "      <td>0.001864</td>\n",
       "      <td>0.714286</td>\n",
       "      <td>0.454545</td>\n",
       "      <td>0.000000</td>\n",
       "      <td>0.199546</td>\n",
       "    </tr>\n",
       "    <tr>\n",
       "      <th>1</th>\n",
       "      <td>0.010440</td>\n",
       "      <td>0.004396</td>\n",
       "      <td>0.008791</td>\n",
       "      <td>0.000742</td>\n",
       "      <td>0.666667</td>\n",
       "      <td>0.302198</td>\n",
       "      <td>1.648659</td>\n",
       "      <td>0.478632</td>\n",
       "    </tr>\n",
       "    <tr>\n",
       "      <th>2</th>\n",
       "      <td>0.051200</td>\n",
       "      <td>0.006133</td>\n",
       "      <td>0.020800</td>\n",
       "      <td>0.001467</td>\n",
       "      <td>0.904762</td>\n",
       "      <td>0.653333</td>\n",
       "      <td>0.000000</td>\n",
       "      <td>0.340136</td>\n",
       "    </tr>\n",
       "    <tr>\n",
       "      <th>3</th>\n",
       "      <td>0.047333</td>\n",
       "      <td>0.005556</td>\n",
       "      <td>0.105111</td>\n",
       "      <td>0.002178</td>\n",
       "      <td>0.869565</td>\n",
       "      <td>0.260000</td>\n",
       "      <td>2.653242</td>\n",
       "      <td>0.340265</td>\n",
       "    </tr>\n",
       "    <tr>\n",
       "      <th>4</th>\n",
       "      <td>0.052558</td>\n",
       "      <td>0.005349</td>\n",
       "      <td>0.021628</td>\n",
       "      <td>0.001884</td>\n",
       "      <td>0.720000</td>\n",
       "      <td>0.500000</td>\n",
       "      <td>0.000000</td>\n",
       "      <td>0.275200</td>\n",
       "    </tr>\n",
       "  </tbody>\n",
       "</table>\n",
       "</div>"
      ],
      "text/plain": [
       "   liverind  heartind    appind    batind   tailind   ADWBind    gonind       BMI\n",
       "0  0.036364  0.005091  0.013636  0.001864  0.714286  0.454545  0.000000  0.199546\n",
       "1  0.010440  0.004396  0.008791  0.000742  0.666667  0.302198  1.648659  0.478632\n",
       "2  0.051200  0.006133  0.020800  0.001467  0.904762  0.653333  0.000000  0.340136\n",
       "3  0.047333  0.005556  0.105111  0.002178  0.869565  0.260000  2.653242  0.340265\n",
       "4  0.052558  0.005349  0.021628  0.001884  0.720000  0.500000  0.000000  0.275200"
      ]
     },
     "execution_count": 103,
     "metadata": {},
     "output_type": "execute_result"
    }
   ],
   "source": [
    "data=data[['liverind','heartind','appind', 'batind', 'tailind', 'ADWBind', 'gonind',\n",
    "'BMI']]\n",
    "data.head()\n",
    "\n"
   ]
  },
  {
   "cell_type": "markdown",
   "id": "0578326b",
   "metadata": {},
   "source": [
    "* A) "
   ]
  },
  {
   "cell_type": "code",
   "execution_count": 104,
   "id": "550a81ef",
   "metadata": {},
   "outputs": [],
   "source": [
    "X=data.values\n",
    "AC_Single_SI_list=[]\n",
    "AC_Complete_SI_list=[]\n",
    "AC_Average_SI_list=[]\n",
    "AC_Ward_SI_list=[]"
   ]
  },
  {
   "cell_type": "code",
   "execution_count": 105,
   "id": "7f2d2027",
   "metadata": {
    "scrolled": true
   },
   "outputs": [
    {
     "name": "stdout",
     "output_type": "stream",
     "text": [
      "[0 0 0 0 0 0 0 0 0 0 0 0 0 0 0 0 0 0 0 0 0 0 0 0 0 0 0 0 0 0 0 0 0 0 0 0 0\n",
      " 0 0 0 0 0 0 0 0 0 0 0 0 0 0 0 0 0 0 0 0 0 0 0 0 0 0 0 0 0 0 0 0 0 0 0 0 0\n",
      " 0 0 0 0 0 0 0 0 0 0 0 0 0 0 0 0 0 0 0 0 0 0 0 0 0 0 0 0 0 0 0 0 0 0 0 0 0\n",
      " 0 0 0 0 0 0 0 0 0 0 0 0 0 0 0 0 0 0 0 0 0 0 0 0 0 0 0 0 0 0 0 0 0 0 0 0 0\n",
      " 0 0 0 0 0 0 0 0 0 0 0 0 0 0 0 0 0 0 0 0 0 0 0 0 0 0 0 0 0 0 0 0 0 0 0 0 0\n",
      " 0 0 0 0 0 0 0 0 0 0 0 0 0 0 0 0 0 0 0 0 0 0 0 0 0 0 0 0 0 0 0 0 0 0 0 0 0\n",
      " 0 0 0 0 0 0 0 0 0 0 0 0 0 0 0 0 0 0 0 0 0 0 0 0 0 0 0 0 0 0 0 0 0 0 0 0 0\n",
      " 0 0 0 0 0 0 0 0 0 0 0 0 0 0 0 0 0 0 0 0 0 0 0 0 0 0 0 0 0 0 0 0 0 0 0 0 0\n",
      " 0 0 0 0 0 0 0 0 0 0 0 0 0 0 0 0 0 0 0 0 0 0 0 0 0 0 1 0 0 0 0 0 0 0 0 0 0\n",
      " 0 0 0 0 0 0 0 0 0 0 0 0 0 0 0 0 0 0 0 0 0 0 0 0 0 0 0 0 0 0 0 0 0 0 0 0 0\n",
      " 0 0 0 0 0 0 0 0 0 0 0 0 0 0 0 0 0 0 0 0 0 0 0 0 0 0 0 0 0 0 0 0 0 0 0 0 0\n",
      " 0 0 0 0 0 0 0 0 0 0 0 0 0 0 0 0 0 0 0 0 0 0 0 0 0 0 0 0 0 0 0 0 0 0 0 0 0\n",
      " 0 0 0 0 0 0 0 0 0 0 0 0 0 0 0 0 0 0 0 0 0 0 0 0 0 0 0 0 0 0 0 0 0 0 0 0 0\n",
      " 0 0 0 0 0 0 0 0 0 0 0 0 0 0 0 0 0 0 0 0 0 0 0 0 0 0 0 0 0 0 0 0 0 0 0 0 0\n",
      " 0 0 0 0 0 0 0 0 0 0 0 0 0 0 0 0 0 0 0 0 0 0 0 0 0 0 0 0 0 0 0 0 0 0 0 0 0\n",
      " 0 0 0 0 0 0]\n"
     ]
    },
    {
     "data": {
      "image/png": "[encoded data removed]",
      "text/plain": [
       "<Figure size 432x288 with 1 Axes>"
      ]
     },
     "metadata": {
      "needs_background": "light"
     },
     "output_type": "display_data"
    },
    {
     "name": "stdout",
     "output_type": "stream",
     "text": [
      "[0 0 0 2 0 0 0 0 0 0 0 0 0 0 0 0 0 0 0 0 0 0 0 0 0 0 0 0 0 0 0 0 0 0 0 0 0\n",
      " 0 0 0 0 0 0 0 0 0 0 0 0 0 0 0 0 0 0 0 0 0 0 0 0 0 0 0 0 0 0 0 0 0 0 0 0 0\n",
      " 0 0 0 0 0 0 0 0 0 0 0 0 0 0 0 0 0 0 0 0 0 0 0 0 0 0 0 0 0 0 0 0 0 0 0 0 0\n",
      " 0 0 0 0 0 0 0 0 0 0 0 0 0 0 0 0 0 0 0 0 0 0 0 0 0 0 0 0 0 0 0 0 0 0 0 0 0\n",
      " 0 0 0 0 0 0 0 0 0 0 0 0 0 0 0 0 0 0 0 0 0 0 0 0 0 0 0 0 0 0 0 0 0 0 0 0 0\n",
      " 0 0 0 0 0 0 0 0 0 0 0 0 0 0 0 0 0 0 0 0 0 0 0 0 0 0 0 0 0 0 0 0 0 0 0 0 0\n",
      " 0 0 0 0 0 0 0 0 0 0 0 0 0 0 0 0 0 0 0 0 0 0 0 0 0 0 0 0 0 0 0 0 0 0 0 0 0\n",
      " 0 0 0 0 0 0 0 0 0 0 0 0 0 0 0 0 0 0 0 0 0 0 0 0 0 0 0 0 0 0 0 0 0 0 0 0 0\n",
      " 0 0 0 0 0 0 0 0 0 0 0 0 0 0 0 0 0 0 0 0 0 0 0 0 0 0 1 0 0 0 0 0 0 0 0 0 0\n",
      " 0 0 0 0 0 0 0 0 0 0 0 0 0 0 0 0 0 0 0 0 0 0 0 0 0 0 0 0 0 0 0 0 0 0 0 0 0\n",
      " 0 0 0 0 0 0 0 0 0 0 0 0 0 0 0 0 0 0 0 0 0 0 0 0 0 0 0 0 0 0 0 0 0 0 0 0 0\n",
      " 0 0 0 0 0 0 0 0 0 0 0 0 0 0 0 0 0 0 0 0 0 0 0 0 0 0 0 0 0 0 0 0 0 0 0 0 0\n",
      " 0 0 0 0 0 0 0 0 0 0 0 0 0 0 0 0 0 0 0 0 0 0 0 0 0 0 0 0 0 0 0 0 0 0 0 0 0\n",
      " 0 0 0 0 0 0 0 0 0 0 0 0 0 0 0 0 0 0 0 0 0 0 0 0 0 0 0 0 0 0 0 0 0 0 0 0 0\n",
      " 0 0 0 0 0 0 0 0 0 0 0 0 0 0 0 0 0 0 0 0 0 0 0 0 0 0 0 0 0 0 0 0 0 0 0 0 0\n",
      " 0 0 0 0 0 0]\n"
     ]
    },
    {
     "data": {
      "image/png": "[encoded data removed]",
      "text/plain": [
       "<Figure size 432x288 with 1 Axes>"
      ]
     },
     "metadata": {
      "needs_background": "light"
     },
     "output_type": "display_data"
    },
    {
     "name": "stdout",
     "output_type": "stream",
     "text": [
      "[0 0 0 2 0 0 0 0 0 0 0 0 0 0 0 0 0 0 0 0 0 0 0 0 0 0 0 0 0 0 0 0 0 0 0 0 0\n",
      " 0 0 0 0 0 0 0 0 0 0 0 0 0 0 0 0 0 0 0 0 0 0 0 0 0 0 0 0 0 0 0 0 0 0 0 3 0\n",
      " 0 0 0 0 0 0 0 0 0 0 0 0 0 0 0 0 0 0 0 0 0 0 0 0 0 0 0 0 0 0 0 0 0 0 0 0 0\n",
      " 0 0 0 0 0 0 0 0 0 0 0 0 0 0 0 0 0 0 0 0 0 0 0 0 0 0 0 0 0 0 0 0 0 0 0 0 0\n",
      " 0 0 0 0 0 0 0 0 0 0 0 0 0 0 0 0 0 0 0 0 0 0 0 0 0 0 0 0 0 0 0 0 0 0 0 0 0\n",
      " 0 0 0 0 0 0 0 0 0 0 0 0 0 0 0 0 0 0 0 0 0 0 0 0 0 0 0 0 0 0 0 0 0 0 0 0 0\n",
      " 0 0 0 0 0 0 0 0 0 0 0 0 0 0 0 0 0 0 0 0 0 0 0 0 0 0 0 0 0 0 0 0 0 0 0 0 0\n",
      " 0 0 0 0 0 0 0 0 0 0 0 0 0 0 0 0 0 0 0 0 0 0 0 0 0 0 0 0 0 0 0 0 0 0 0 0 0\n",
      " 0 0 0 0 0 0 0 0 0 0 0 0 0 0 0 0 0 0 0 0 0 0 0 0 0 0 1 0 0 0 0 0 0 0 0 0 0\n",
      " 0 0 0 0 0 0 0 0 0 0 0 0 0 0 0 0 0 0 0 0 0 0 0 0 0 0 0 0 0 0 0 0 0 0 0 0 0\n",
      " 0 0 0 0 0 0 0 0 0 0 0 0 0 0 0 0 0 0 0 0 0 0 0 0 0 0 0 0 0 0 0 0 0 0 0 0 0\n",
      " 0 0 0 0 0 0 0 0 0 0 0 0 0 0 0 0 0 0 0 0 0 0 0 0 0 0 0 0 0 0 0 0 0 0 0 0 0\n",
      " 0 0 0 0 0 0 0 0 0 0 0 0 0 0 0 0 0 0 0 0 0 0 0 0 0 0 0 0 0 0 0 0 0 0 0 0 0\n",
      " 0 0 0 0 0 0 0 0 0 0 0 0 0 0 0 0 0 0 0 0 0 0 0 0 0 0 0 0 0 0 0 0 0 0 0 0 0\n",
      " 0 0 0 0 0 0 0 0 0 0 0 0 0 0 0 0 0 0 0 0 0 0 0 0 0 0 0 0 0 0 0 0 0 0 0 0 0\n",
      " 0 0 0 0 0 0]\n"
     ]
    },
    {
     "data": {
      "image/png": "[encoded data removed]",
      "text/plain": [
       "<Figure size 432x288 with 1 Axes>"
      ]
     },
     "metadata": {
      "needs_background": "light"
     },
     "output_type": "display_data"
    },
    {
     "name": "stdout",
     "output_type": "stream",
     "text": [
      "[0 0 0 2 0 0 0 0 0 0 0 0 0 0 0 0 0 0 0 0 0 0 0 0 0 0 0 0 0 0 0 0 0 0 0 0 0\n",
      " 0 0 0 0 0 0 0 0 0 0 0 0 0 0 0 0 0 0 0 0 0 0 0 0 0 0 0 0 0 0 0 0 0 0 0 3 0\n",
      " 0 0 0 0 0 0 0 0 0 0 0 0 0 0 0 0 0 0 0 0 0 0 0 0 0 0 0 0 0 0 0 0 0 0 0 0 0\n",
      " 0 0 0 0 0 0 0 0 0 0 0 0 0 0 0 0 0 0 0 0 0 0 0 0 0 0 0 0 0 0 0 0 0 0 0 0 0\n",
      " 0 0 0 0 0 0 0 0 0 0 0 0 0 0 0 0 0 0 0 0 0 0 0 0 0 0 0 0 0 4 0 0 0 0 0 0 0\n",
      " 0 0 0 0 0 0 0 0 0 0 0 0 0 0 0 0 0 0 0 0 0 0 0 0 0 0 0 0 0 0 0 0 0 0 0 0 0\n",
      " 0 0 0 0 0 0 0 0 0 0 0 0 0 0 0 0 0 0 0 0 0 0 0 0 0 0 0 0 0 0 0 0 0 0 0 0 0\n",
      " 0 0 0 0 0 0 0 0 0 0 0 0 0 0 0 0 0 0 0 0 0 0 0 0 0 0 0 0 0 0 0 0 0 0 0 0 0\n",
      " 0 0 0 0 0 0 0 0 0 0 0 0 0 0 0 0 0 0 0 0 0 0 0 0 0 0 1 0 0 0 0 0 0 0 0 0 0\n",
      " 0 0 0 0 0 0 0 0 0 0 0 0 0 0 0 0 0 0 0 0 0 0 0 0 0 0 0 0 0 0 0 0 0 0 0 0 0\n",
      " 0 0 0 0 0 0 0 0 0 0 0 0 0 0 0 0 0 0 0 0 0 0 0 0 0 0 0 0 0 0 0 0 0 0 0 0 0\n",
      " 0 0 0 0 0 0 0 0 0 0 0 0 0 0 0 0 0 0 0 0 0 0 0 0 0 0 0 0 0 0 0 0 0 0 0 0 0\n",
      " 0 0 0 0 0 0 0 0 0 0 0 0 0 0 0 0 0 0 0 0 0 0 0 0 0 0 0 0 0 0 0 0 0 0 0 0 0\n",
      " 0 0 0 0 0 0 0 0 0 0 0 0 0 0 0 0 0 0 0 0 0 0 0 0 0 0 0 0 0 0 0 0 0 0 0 0 0\n",
      " 0 0 0 0 0 0 0 0 0 0 0 0 0 0 0 0 0 0 0 0 0 0 0 0 0 0 0 0 0 0 0 0 0 0 0 0 0\n",
      " 0 0 0 0 0 0]\n"
     ]
    },
    {
     "data": {
      "image/png": "[encoded data removed]",
      "text/plain": [
       "<Figure size 432x288 with 1 Axes>"
      ]
     },
     "metadata": {
      "needs_background": "light"
     },
     "output_type": "display_data"
    },
    {
     "name": "stdout",
     "output_type": "stream",
     "text": [
      "[0 0 0 5 0 0 0 0 0 0 0 0 0 0 0 2 0 0 0 0 0 0 0 0 0 0 0 0 0 0 0 0 0 0 0 0 0\n",
      " 0 0 0 0 0 0 0 0 0 0 0 0 0 0 0 0 0 0 0 0 0 0 0 0 0 0 0 0 0 0 0 0 0 0 0 3 0\n",
      " 0 0 0 0 0 0 0 0 0 0 0 0 0 0 0 0 0 0 0 0 0 0 0 0 0 0 0 0 0 0 0 0 0 0 0 0 0\n",
      " 0 0 0 0 0 0 0 0 0 0 0 0 0 0 0 0 0 0 0 0 0 0 0 0 0 0 0 0 0 0 0 0 0 0 0 0 0\n",
      " 0 0 0 0 0 0 0 0 0 0 0 0 0 0 0 0 0 0 0 0 0 0 0 0 0 0 0 0 0 4 0 0 0 0 0 0 0\n",
      " 0 0 0 0 0 0 0 0 0 0 0 0 0 0 0 0 0 0 0 0 0 0 0 0 0 0 0 0 0 0 0 0 0 0 0 0 0\n",
      " 0 0 0 0 0 0 0 0 0 0 0 0 0 0 0 0 0 0 0 0 0 0 0 0 0 0 0 0 0 0 0 0 0 0 0 0 0\n",
      " 0 0 0 0 0 0 0 0 0 0 0 0 0 0 0 0 0 0 0 0 0 0 0 0 0 0 0 0 0 0 0 0 0 0 0 0 0\n",
      " 0 0 0 0 0 0 0 0 0 0 0 0 0 0 0 0 0 0 0 0 0 0 0 0 0 0 1 0 0 0 0 0 0 0 0 0 0\n",
      " 0 0 0 0 0 0 0 0 0 0 0 0 0 0 0 0 0 0 0 0 0 0 0 0 0 0 0 0 0 0 0 0 0 0 0 0 0\n",
      " 0 0 0 0 0 0 0 0 0 0 0 0 0 0 0 0 0 0 0 0 0 0 0 0 0 0 0 0 0 0 0 0 0 0 0 0 0\n",
      " 0 0 0 0 0 0 0 0 0 0 0 0 0 0 0 0 0 0 0 0 0 0 0 0 0 0 0 0 0 0 0 0 0 0 0 0 0\n",
      " 0 0 0 0 0 0 0 0 0 0 0 0 0 0 0 0 0 0 0 0 0 0 0 0 0 0 0 0 0 0 0 0 0 0 0 0 0\n",
      " 0 0 0 0 0 0 0 0 0 0 0 0 0 0 0 0 0 0 0 0 0 0 0 0 0 0 0 0 0 0 0 0 0 0 0 0 0\n",
      " 0 0 0 0 0 0 0 0 0 0 0 0 0 0 0 0 0 0 0 0 0 0 0 0 0 0 0 0 0 0 0 0 0 0 0 0 0\n",
      " 0 0 0 0 0 0]\n"
     ]
    },
    {
     "data": {
      "image/png": "[encoded data removed]",
      "text/plain": [
       "<Figure size 432x288 with 1 Axes>"
      ]
     },
     "metadata": {
      "needs_background": "light"
     },
     "output_type": "display_data"
    },
    {
     "name": "stdout",
     "output_type": "stream",
     "text": [
      "[0 0 0 5 0 0 0 0 0 0 0 0 0 0 0 6 0 0 0 0 0 0 0 0 0 0 0 0 0 0 0 0 0 0 0 0 0\n",
      " 0 0 0 0 0 0 0 0 0 0 0 0 0 0 0 0 0 0 0 0 0 0 0 0 0 0 0 0 0 0 0 0 0 0 0 3 0\n",
      " 0 0 0 0 0 0 0 0 0 0 0 0 0 0 0 0 0 0 0 0 0 0 0 0 0 0 0 0 0 0 0 0 0 0 0 0 0\n",
      " 0 0 0 0 0 0 0 0 2 0 0 0 0 0 0 0 0 0 0 0 0 0 0 0 0 0 0 0 0 0 0 0 0 0 0 0 0\n",
      " 0 0 0 0 0 0 0 0 0 0 0 0 0 0 0 0 0 0 0 0 0 0 0 0 0 0 0 0 0 4 0 0 0 0 0 0 0\n",
      " 0 0 0 0 0 0 0 0 0 0 0 0 0 0 0 0 0 0 0 0 0 0 0 0 0 0 0 0 0 0 0 0 0 0 0 0 0\n",
      " 0 0 0 0 0 0 0 0 0 0 0 0 0 0 0 0 0 0 0 0 0 0 0 0 0 0 0 0 0 0 0 0 0 0 0 0 0\n",
      " 0 0 0 0 0 0 0 0 0 0 0 0 0 0 0 0 0 0 0 0 0 0 0 0 0 0 0 0 0 0 0 0 0 0 0 0 0\n",
      " 0 0 0 0 0 0 0 0 0 0 0 0 0 0 0 0 0 0 0 0 0 0 0 0 0 0 1 0 0 0 0 0 0 0 0 0 0\n",
      " 0 0 0 0 0 0 0 0 0 0 0 0 0 0 0 0 0 0 0 0 0 0 0 0 0 0 0 0 0 0 0 0 0 0 0 0 0\n",
      " 0 0 0 0 0 0 0 0 0 0 0 0 0 0 0 0 0 0 0 0 0 0 0 0 0 0 0 0 0 0 0 0 0 0 0 0 0\n",
      " 0 0 0 0 0 0 0 0 0 0 0 0 0 0 0 0 0 0 0 0 0 0 0 0 0 0 0 0 0 0 0 0 0 0 0 0 0\n",
      " 0 0 0 0 0 0 0 0 0 0 0 0 0 0 0 0 0 0 0 0 0 0 0 0 0 0 0 0 0 0 0 0 0 0 0 0 0\n",
      " 0 0 0 0 0 0 0 0 0 0 0 0 0 0 0 0 0 0 0 0 0 0 0 0 0 0 0 0 0 0 0 0 0 0 0 0 0\n",
      " 0 0 0 0 0 0 0 0 0 0 0 0 0 0 0 0 0 0 0 0 0 0 0 0 0 0 0 0 0 0 0 0 0 0 0 0 0\n",
      " 0 0 0 0 0 0]\n"
     ]
    },
    {
     "data": {
      "image/png": "[encoded data removed]",
      "text/plain": [
       "<Figure size 432x288 with 1 Axes>"
      ]
     },
     "metadata": {
      "needs_background": "light"
     },
     "output_type": "display_data"
    },
    {
     "name": "stdout",
     "output_type": "stream",
     "text": [
      "[0 0 0 5 0 0 0 0 0 0 0 0 0 0 0 6 0 0 0 0 0 0 0 0 0 0 0 0 0 0 0 0 0 0 0 0 0\n",
      " 0 0 0 0 0 0 0 0 0 0 0 0 0 0 0 0 0 0 0 0 0 0 0 0 0 0 0 0 0 0 0 0 0 0 0 7 0\n",
      " 0 0 0 0 0 0 0 0 0 0 0 0 0 0 0 0 0 0 0 0 0 0 0 0 0 0 0 0 0 0 0 0 0 0 0 0 0\n",
      " 0 0 0 0 0 0 0 0 2 0 0 0 0 0 0 0 0 0 0 0 0 0 0 0 0 0 0 0 0 0 0 0 0 0 0 0 0\n",
      " 0 0 0 0 0 0 0 0 0 0 0 0 0 0 0 0 0 0 0 0 0 0 0 0 0 0 0 0 0 4 0 0 0 0 0 0 0\n",
      " 0 0 0 0 0 0 0 0 0 0 0 0 0 0 0 0 0 0 0 0 0 0 0 0 0 0 0 0 0 0 0 0 0 0 0 0 0\n",
      " 0 0 0 0 0 0 0 0 0 0 0 0 0 0 0 0 0 0 0 0 0 0 0 0 0 0 0 0 0 0 0 0 0 0 0 0 0\n",
      " 0 0 0 0 0 0 0 0 0 0 0 0 0 0 0 0 0 0 0 0 0 0 0 0 0 0 0 0 0 0 0 0 0 0 0 0 0\n",
      " 0 0 0 0 0 0 0 0 0 0 0 0 0 0 0 0 0 0 0 0 0 0 0 0 0 0 3 0 0 0 0 0 0 0 0 0 0\n",
      " 0 0 0 0 0 0 0 0 0 0 0 0 0 0 0 0 0 0 0 0 0 0 0 0 0 0 0 0 0 0 0 0 0 0 0 0 0\n",
      " 0 0 0 0 0 0 0 0 0 0 0 0 0 0 0 0 0 0 0 0 0 0 0 0 0 0 0 0 0 0 0 0 0 0 0 0 0\n",
      " 0 0 0 0 0 0 0 0 0 0 0 0 0 0 0 0 0 0 0 0 0 0 0 0 0 0 0 0 0 0 0 0 0 0 0 0 0\n",
      " 0 0 0 0 0 0 0 0 0 0 0 0 0 0 0 0 0 0 0 0 0 0 0 0 0 0 0 0 0 0 0 0 0 0 0 0 0\n",
      " 0 0 0 0 0 1 0 0 0 0 0 0 0 0 0 0 0 0 0 0 0 0 0 0 0 0 0 0 0 0 0 0 0 0 0 0 0\n",
      " 0 0 0 0 0 0 0 0 0 0 0 0 0 0 0 0 0 0 0 0 0 0 0 0 0 0 0 0 0 0 0 0 0 0 0 0 0\n",
      " 0 0 0 0 0 0]\n"
     ]
    },
    {
     "data": {
      "image/png": "[encoded data removed]",
      "text/plain": [
       "<Figure size 432x288 with 1 Axes>"
      ]
     },
     "metadata": {
      "needs_background": "light"
     },
     "output_type": "display_data"
    },
    {
     "data": {
      "text/plain": [
       "[0.6571935462893095,\n",
       " 0.42259924075383576,\n",
       " -0.13713909132851274,\n",
       " -0.372639633794976,\n",
       " -0.39361977375032753,\n",
       " -0.407219449911702,\n",
       " -0.46174802007737403]"
      ]
     },
     "execution_count": 105,
     "metadata": {},
     "output_type": "execute_result"
    }
   ],
   "source": [
    "for i in range (2,9) :\n",
    "    model = AgglomerativeClustering(n_clusters=i, affinity='euclidean', linkage='single')\n",
    "    model.fit(X)\n",
    "    labels = model.labels_\n",
    "    print(labels)\n",
    "    plt.hist(labels, bins=i,range=(0,i))\n",
    "    \n",
    "    plt.show()\n",
    "    AC_Single_SI_list.append(skmet.silhouette_score(X, labels, metric='euclidean', sample_size=None, random_state=None))\n",
    "AC_Single_SI_list"
   ]
  },
  {
   "cell_type": "code",
   "execution_count": 106,
   "id": "c83d08ee",
   "metadata": {},
   "outputs": [
    {
     "name": "stdout",
     "output_type": "stream",
     "text": [
      "[0 0 0 1 0 0 0 0 0 0 0 0 0 0 0 0 0 0 0 0 0 0 0 0 0 0 0 0 0 0 0 0 0 0 0 0 0\n",
      " 0 0 0 0 0 0 0 0 0 0 0 0 0 0 0 0 0 0 0 0 0 0 0 0 0 0 0 0 0 0 0 0 0 0 0 0 0\n",
      " 0 0 0 0 0 0 0 0 0 0 0 0 0 0 0 0 0 0 0 0 0 0 0 0 0 0 0 1 0 0 0 0 0 0 0 0 0\n",
      " 0 0 0 0 0 0 0 0 0 0 0 0 0 0 0 0 0 0 0 0 0 0 0 0 0 0 0 1 0 0 0 0 0 0 0 0 0\n",
      " 0 0 0 0 0 0 0 0 0 0 0 0 0 0 0 0 0 0 0 0 0 1 0 0 0 0 0 1 1 0 1 0 0 1 0 1 0\n",
      " 0 0 0 0 0 0 0 0 0 0 0 1 0 0 1 1 0 0 0 1 0 0 0 0 1 0 0 0 0 0 0 0 0 0 1 0 0\n",
      " 0 0 0 0 0 0 0 1 0 1 0 0 0 0 0 0 0 0 0 0 0 0 0 0 1 0 0 0 0 0 0 0 0 0 0 0 1\n",
      " 0 0 0 0 0 0 0 0 0 0 0 0 0 0 1 0 0 0 0 0 0 0 0 0 0 0 0 0 0 0 1 1 1 0 0 0 0\n",
      " 0 0 0 0 0 0 0 1 0 0 0 0 0 0 0 0 0 0 0 0 0 0 0 0 0 0 1 0 0 0 0 0 0 0 0 0 0\n",
      " 0 0 0 0 0 0 0 0 0 0 0 0 0 0 0 0 0 0 0 0 0 0 0 0 0 0 0 0 0 0 0 0 0 0 0 0 0\n",
      " 0 0 0 0 1 0 0 0 0 0 0 0 0 0 0 0 0 0 0 0 0 0 0 0 0 0 0 0 0 0 0 0 0 0 0 0 0\n",
      " 0 0 0 0 0 0 0 0 0 0 0 0 0 0 0 0 0 0 0 0 0 0 0 0 0 0 0 0 0 0 0 0 0 0 0 0 0\n",
      " 0 0 0 0 0 0 0 0 0 0 0 0 0 0 0 0 0 0 0 0 0 0 0 0 0 0 0 0 0 0 0 0 0 0 0 0 0\n",
      " 0 0 0 0 0 0 0 0 0 0 0 0 0 0 0 0 0 0 0 0 0 0 0 0 0 0 0 0 0 0 0 0 0 0 0 0 0\n",
      " 0 0 0 0 0 0 0 0 0 0 0 0 0 0 0 0 0 0 0 0 0 0 0 0 0 0 0 0 0 0 0 0 0 0 0 0 0\n",
      " 0 0 0 0 0 0]\n"
     ]
    },
    {
     "data": {
      "image/png": "[encoded data removed]",
      "text/plain": [
       "<Figure size 432x288 with 1 Axes>"
      ]
     },
     "metadata": {
      "needs_background": "light"
     },
     "output_type": "display_data"
    },
    {
     "name": "stdout",
     "output_type": "stream",
     "text": [
      "[2 0 2 1 2 2 2 2 2 2 2 2 2 2 2 2 2 2 2 2 2 2 2 2 2 2 2 2 2 2 2 0 0 2 2 2 2\n",
      " 0 2 2 2 2 2 0 2 2 2 0 2 2 0 2 2 2 2 2 2 2 2 2 2 0 2 2 0 2 0 2 2 2 2 0 2 2\n",
      " 2 2 2 2 2 0 2 2 2 2 2 2 0 2 2 2 2 2 2 0 2 2 0 0 2 2 2 1 0 2 0 0 2 0 0 2 2\n",
      " 2 2 0 2 2 2 2 2 2 0 0 0 0 0 2 0 0 2 2 0 0 2 0 2 0 2 2 1 0 2 0 2 2 2 0 2 0\n",
      " 2 2 0 2 2 2 2 0 0 0 2 0 0 0 0 0 0 0 0 0 0 1 2 0 2 2 2 1 1 0 1 0 0 1 0 1 2\n",
      " 0 0 2 0 0 0 2 0 0 0 0 1 0 0 1 1 0 0 0 1 2 0 2 0 1 0 2 0 2 0 0 2 0 2 1 0 0\n",
      " 2 2 2 0 0 2 2 1 0 1 0 0 2 0 2 2 0 0 0 0 0 2 0 0 1 0 0 2 0 0 0 0 2 0 0 0 1\n",
      " 0 0 2 0 2 0 0 0 0 0 0 0 0 0 1 0 0 0 2 0 2 0 0 0 0 0 0 2 0 0 1 1 1 0 0 2 0\n",
      " 0 0 0 0 0 0 0 1 0 2 0 0 0 0 0 0 0 0 0 2 2 0 0 2 0 0 1 2 0 2 0 0 0 0 0 0 2\n",
      " 0 2 0 0 0 0 0 0 0 0 0 0 2 2 0 2 2 0 2 2 0 0 0 0 2 2 0 0 2 0 2 0 0 0 0 0 0\n",
      " 2 0 2 0 1 0 2 0 0 0 0 2 0 0 2 2 2 0 0 0 0 0 0 0 0 2 2 0 0 2 2 0 2 2 0 0 0\n",
      " 2 0 0 2 0 2 0 0 0 0 2 2 0 2 0 0 0 0 0 0 2 0 0 2 2 0 2 0 0 0 0 2 0 0 0 2 0\n",
      " 2 0 0 0 0 0 0 0 0 0 0 0 2 0 2 0 0 0 0 2 0 2 2 0 0 2 0 2 2 0 2 0 0 0 2 2 0\n",
      " 2 0 2 2 0 0 0 2 0 2 0 0 0 0 0 0 0 0 0 2 0 0 0 0 2 0 0 0 0 2 0 0 2 0 2 2 2\n",
      " 0 0 2 2 2 2 2 0 2 0 2 0 0 0 0 2 0 2 2 2 0 0 0 0 2 2 0 0 2 2 0 2 2 2 2 0 2\n",
      " 2 0 0 0 0 2]\n"
     ]
    },
    {
     "data": {
      "image/png": "[encoded data removed]",
      "text/plain": [
       "<Figure size 432x288 with 1 Axes>"
      ]
     },
     "metadata": {
      "needs_background": "light"
     },
     "output_type": "display_data"
    },
    {
     "name": "stdout",
     "output_type": "stream",
     "text": [
      "[2 1 2 0 2 2 2 2 2 2 2 2 2 2 2 2 2 2 2 2 2 2 2 2 2 2 2 2 2 2 2 3 3 2 2 2 2\n",
      " 3 2 2 2 2 2 3 2 2 2 3 2 2 3 2 2 2 2 2 2 2 2 2 2 3 2 2 3 2 1 2 2 2 2 3 2 2\n",
      " 2 2 2 2 2 3 2 2 2 2 2 2 1 2 2 2 2 2 2 1 2 2 3 1 2 2 2 0 1 2 3 3 2 3 3 2 2\n",
      " 2 2 1 2 2 2 2 2 2 1 1 3 1 3 2 3 3 2 2 3 1 2 3 2 1 2 2 0 3 2 3 2 2 2 3 2 3\n",
      " 2 2 3 2 2 2 2 3 3 1 2 3 1 3 3 1 3 1 1 1 1 0 2 3 2 2 2 0 0 3 0 3 1 0 3 0 2\n",
      " 3 3 2 1 1 3 2 3 3 1 3 0 3 3 0 0 3 1 3 0 2 3 2 3 0 3 2 1 2 1 1 2 3 2 0 1 3\n",
      " 2 2 2 3 1 2 2 0 3 0 3 3 2 3 2 2 1 1 3 3 1 2 3 3 0 1 3 2 3 3 3 1 2 1 1 3 0\n",
      " 1 3 2 3 2 3 3 3 1 3 3 3 3 3 0 3 1 3 2 3 2 3 3 1 1 3 3 2 3 3 0 0 0 1 3 2 3\n",
      " 3 3 3 3 1 3 3 0 1 2 1 3 3 3 1 1 3 3 3 2 2 3 1 2 3 1 0 2 3 2 3 1 1 3 3 1 2\n",
      " 3 2 1 1 3 3 3 3 3 3 1 3 2 2 3 2 2 1 2 2 3 3 3 1 2 2 3 3 2 3 2 3 3 3 1 3 1\n",
      " 2 3 2 3 0 3 2 3 1 3 3 2 3 3 2 2 2 3 1 3 1 3 1 3 3 2 2 1 1 2 2 1 2 2 1 1 3\n",
      " 2 3 3 2 3 2 3 3 3 1 2 2 1 2 3 3 3 3 3 3 2 3 3 2 2 3 2 3 1 3 3 2 3 1 1 2 1\n",
      " 2 3 3 3 1 1 3 1 3 1 1 3 2 3 2 3 3 1 3 2 3 2 2 3 1 2 3 2 2 1 2 1 3 3 2 2 3\n",
      " 2 1 2 2 3 3 3 2 3 2 3 1 1 3 1 1 3 3 3 2 3 3 1 1 2 3 3 3 3 2 3 3 2 3 2 2 2\n",
      " 3 3 2 2 2 2 2 1 2 3 2 3 3 3 3 2 1 2 2 2 3 1 1 1 2 2 1 1 2 2 3 2 2 2 2 3 2\n",
      " 2 1 3 3 1 2]\n"
     ]
    },
    {
     "data": {
      "image/png": "[encoded data removed]",
      "text/plain": [
       "<Figure size 432x288 with 1 Axes>"
      ]
     },
     "metadata": {
      "needs_background": "light"
     },
     "output_type": "display_data"
    },
    {
     "name": "stdout",
     "output_type": "stream",
     "text": [
      "[0 1 0 2 0 0 0 0 0 0 0 0 0 0 0 0 0 0 0 0 0 0 0 0 0 0 0 0 0 0 0 3 3 0 0 0 0\n",
      " 3 0 0 0 0 0 3 0 0 0 3 0 0 3 0 0 0 0 0 0 0 0 0 0 3 0 0 3 0 1 0 0 0 0 3 0 0\n",
      " 0 0 0 0 0 3 0 0 0 0 0 0 1 0 0 0 0 0 0 1 0 0 3 1 0 0 0 2 1 0 3 3 0 3 3 0 0\n",
      " 0 0 1 0 0 0 0 0 0 1 1 3 1 3 0 3 3 0 0 3 1 0 3 0 1 0 0 2 3 0 3 0 0 0 3 0 3\n",
      " 0 0 3 0 0 0 0 3 3 1 0 3 1 3 3 1 3 1 1 1 1 2 0 3 0 0 0 2 2 3 2 3 1 2 3 2 0\n",
      " 3 3 0 1 1 3 0 3 3 1 3 2 3 3 2 2 3 1 3 2 0 3 0 3 2 3 0 1 0 1 1 0 3 0 2 1 3\n",
      " 0 0 0 3 1 0 0 2 3 2 3 3 0 3 0 0 1 1 3 3 1 0 3 3 4 1 3 0 3 3 3 1 0 1 1 3 4\n",
      " 1 3 0 3 0 3 3 3 1 3 3 3 3 3 2 3 1 3 0 3 0 3 3 1 1 3 3 0 3 3 2 2 2 1 3 0 3\n",
      " 3 3 3 3 1 3 3 2 1 0 1 3 3 3 1 1 3 3 3 0 0 3 1 0 3 1 4 0 3 0 3 1 1 3 3 1 0\n",
      " 3 0 1 1 3 3 3 3 3 3 1 3 0 0 3 0 0 1 0 0 3 3 3 1 0 0 3 3 0 3 0 3 3 3 1 3 1\n",
      " 0 3 0 3 2 3 0 3 1 3 3 0 3 3 0 0 0 3 1 3 1 3 1 3 3 0 0 1 1 0 0 1 0 0 1 1 3\n",
      " 0 3 3 0 3 0 3 3 3 1 0 0 1 0 3 3 3 3 3 3 0 3 3 0 0 3 0 3 1 3 3 0 3 1 1 0 1\n",
      " 0 3 3 3 1 1 3 1 3 1 1 3 0 3 0 3 3 1 3 0 3 0 0 3 1 0 3 0 0 1 0 1 3 3 0 0 3\n",
      " 0 1 0 0 3 3 3 0 3 0 3 1 1 3 1 1 3 3 3 0 3 3 1 1 0 3 3 3 3 0 3 3 0 3 0 0 0\n",
      " 3 3 0 0 0 0 0 1 0 3 0 3 3 3 3 0 1 0 0 0 3 1 1 1 0 0 1 1 0 0 3 0 0 0 0 3 0\n",
      " 0 1 3 3 1 0]\n"
     ]
    },
    {
     "data": {
      "image/png": "[encoded data removed]",
      "text/plain": [
       "<Figure size 432x288 with 1 Axes>"
      ]
     },
     "metadata": {
      "needs_background": "light"
     },
     "output_type": "display_data"
    },
    {
     "name": "stdout",
     "output_type": "stream",
     "text": [
      "[1 0 1 2 1 1 1 1 1 1 1 1 1 1 1 1 1 1 1 1 1 1 1 1 1 1 1 1 1 1 1 3 3 1 5 5 1\n",
      " 3 5 5 1 1 1 3 1 1 1 3 1 1 3 5 1 1 1 1 1 1 1 1 1 3 1 5 3 1 0 5 1 1 1 3 1 5\n",
      " 1 5 1 1 1 3 5 1 5 1 1 1 0 1 5 1 5 5 5 0 5 5 3 0 1 1 5 2 0 1 3 3 5 3 3 1 1\n",
      " 1 1 0 1 5 5 5 5 1 0 0 3 0 3 1 3 3 5 1 3 0 5 3 1 0 1 5 2 3 5 3 1 1 5 3 5 3\n",
      " 1 5 3 1 1 1 5 3 3 0 5 3 0 3 3 0 3 0 0 0 0 2 5 3 1 1 1 2 2 3 2 3 0 2 3 2 5\n",
      " 3 3 5 0 0 3 1 3 3 0 3 2 3 3 2 2 3 0 3 2 1 3 5 3 2 3 5 0 1 0 0 1 3 5 2 0 3\n",
      " 1 5 5 3 0 5 5 2 3 2 3 3 5 3 5 1 0 0 3 3 0 5 3 3 4 0 3 5 3 3 3 0 5 0 0 3 4\n",
      " 0 3 1 3 5 3 3 3 0 3 3 3 3 3 2 3 0 3 1 3 5 3 3 0 0 3 3 5 3 3 2 2 2 0 3 5 3\n",
      " 3 3 3 3 0 3 3 2 0 5 0 3 3 3 0 0 3 3 3 1 5 3 0 5 3 0 4 1 3 1 3 0 0 3 3 0 1\n",
      " 3 1 0 0 3 3 3 3 3 3 0 3 1 1 3 5 5 0 5 1 3 3 3 0 1 5 3 3 5 3 5 3 3 3 0 3 0\n",
      " 5 3 1 3 2 3 1 3 0 3 3 1 3 3 5 1 1 3 0 3 0 3 0 3 3 1 5 0 0 1 5 0 1 1 0 0 3\n",
      " 1 3 3 1 3 1 3 3 3 0 1 5 0 5 3 3 3 3 3 3 5 3 3 5 5 3 1 3 0 3 3 5 3 0 0 5 0\n",
      " 1 3 3 3 0 0 3 0 3 0 0 3 1 3 1 3 3 0 3 5 3 1 1 3 0 5 3 1 1 0 1 0 3 3 1 5 3\n",
      " 1 0 5 1 3 3 3 5 3 5 3 0 0 3 0 0 3 3 3 1 3 3 0 0 1 3 3 3 3 1 3 3 5 3 1 5 1\n",
      " 3 3 1 5 5 1 5 0 5 3 5 3 3 3 3 1 0 5 1 5 3 0 0 0 5 5 0 0 1 5 3 1 5 1 5 3 1\n",
      " 1 0 3 3 0 5]\n"
     ]
    },
    {
     "data": {
      "image/png": "[encoded data removed]",
      "text/plain": [
       "<Figure size 432x288 with 1 Axes>"
      ]
     },
     "metadata": {
      "needs_background": "light"
     },
     "output_type": "display_data"
    },
    {
     "name": "stdout",
     "output_type": "stream",
     "text": [
      "[0 6 0 2 0 0 0 0 0 0 0 0 0 0 0 0 0 0 0 0 0 0 0 0 0 0 0 0 0 0 0 1 1 0 5 5 0\n",
      " 1 5 5 0 0 0 1 0 0 0 1 0 0 1 5 0 0 0 0 0 0 0 0 0 1 0 5 1 0 3 5 0 0 0 1 0 5\n",
      " 0 5 0 0 0 1 5 0 5 0 0 0 3 0 5 0 5 5 5 6 5 5 1 3 0 0 5 2 3 0 1 1 5 1 1 0 0\n",
      " 0 0 3 0 5 5 5 5 0 3 6 1 6 1 0 1 1 5 0 1 6 5 1 0 6 0 5 2 1 5 1 0 0 5 1 5 1\n",
      " 0 5 1 0 0 0 5 1 1 3 5 1 3 1 1 6 1 6 6 3 6 2 5 1 0 0 0 2 2 1 2 1 3 2 1 2 5\n",
      " 1 1 5 3 6 1 0 1 1 3 1 2 1 1 2 2 1 6 1 2 0 1 5 1 2 1 5 6 0 3 6 0 1 5 2 3 1\n",
      " 0 5 5 1 3 5 5 2 1 2 1 1 5 1 5 0 3 6 1 1 3 5 1 1 4 3 1 5 1 1 1 3 5 3 6 1 4\n",
      " 3 1 0 1 5 1 1 1 6 1 1 1 1 1 2 1 6 1 0 1 5 1 1 3 6 1 1 5 1 1 2 2 2 3 1 5 1\n",
      " 1 1 1 1 3 1 1 2 6 5 6 1 1 1 6 6 1 1 1 0 5 1 3 5 1 6 4 0 1 0 1 3 6 1 1 6 0\n",
      " 1 0 6 6 1 1 1 1 1 1 6 1 0 0 1 5 5 6 5 0 1 1 1 3 0 5 1 1 5 1 5 1 1 1 6 1 6\n",
      " 5 1 0 1 2 1 0 1 6 1 1 0 1 1 5 0 0 1 6 1 6 1 6 1 1 0 5 6 3 0 5 3 0 0 6 6 1\n",
      " 0 1 1 0 1 0 1 1 1 3 0 5 3 5 1 1 1 1 1 1 5 1 1 5 5 1 0 1 6 1 1 5 1 6 6 5 3\n",
      " 0 1 1 1 6 6 1 6 1 6 6 1 0 1 0 1 1 6 1 5 1 0 0 1 6 5 1 0 0 6 0 6 1 1 0 5 1\n",
      " 0 6 5 0 1 1 1 5 1 5 1 3 6 1 6 3 1 1 1 0 1 1 6 6 0 1 1 1 1 0 1 1 5 1 0 5 0\n",
      " 1 1 0 5 5 0 5 6 5 1 5 1 1 1 1 0 6 5 0 5 1 3 6 6 5 5 6 6 0 5 1 0 5 0 5 1 0\n",
      " 0 6 1 1 6 5]\n"
     ]
    },
    {
     "data": {
      "image/png": "[encoded data removed]",
      "text/plain": [
       "<Figure size 432x288 with 1 Axes>"
      ]
     },
     "metadata": {
      "needs_background": "light"
     },
     "output_type": "display_data"
    },
    {
     "name": "stdout",
     "output_type": "stream",
     "text": [
      "[2 6 7 0 2 2 7 2 2 7 2 7 2 2 2 7 2 2 2 7 2 7 7 2 2 7 7 2 2 2 7 1 1 7 5 5 2\n",
      " 1 5 5 7 7 7 1 2 2 7 1 2 2 1 5 2 7 7 7 7 2 7 2 2 1 2 5 1 2 3 5 2 2 2 1 2 5\n",
      " 7 5 2 7 2 1 5 2 5 2 7 7 3 2 5 2 5 5 5 6 5 5 1 3 2 7 5 0 3 2 1 1 5 1 1 2 2\n",
      " 2 7 3 2 5 5 5 5 2 3 6 1 6 1 7 1 1 5 2 1 6 5 1 2 6 2 5 0 1 5 1 2 7 5 1 5 1\n",
      " 2 5 1 2 2 2 5 1 1 3 5 1 3 1 1 6 1 6 6 3 6 0 5 1 2 7 7 0 0 1 0 1 3 0 1 0 5\n",
      " 1 1 5 3 6 1 2 1 1 3 1 0 1 1 0 0 1 6 1 0 2 1 5 1 0 1 5 6 2 3 6 2 1 5 0 3 1\n",
      " 2 5 5 1 3 5 5 0 1 0 1 1 5 1 5 2 3 6 1 1 3 5 1 1 4 3 1 5 1 1 1 3 5 3 6 1 4\n",
      " 3 1 2 1 5 1 1 1 6 1 1 1 1 1 0 1 6 1 2 1 5 1 1 3 6 1 1 5 1 1 0 0 0 3 1 5 1\n",
      " 1 1 1 1 3 1 1 0 6 5 6 1 1 1 6 6 1 1 1 2 5 1 3 5 1 6 4 2 1 2 1 3 6 1 1 6 2\n",
      " 1 2 6 6 1 1 1 1 1 1 6 1 2 2 1 5 5 6 5 2 1 1 1 3 2 5 1 1 5 1 5 1 1 1 6 1 6\n",
      " 5 1 2 1 0 1 2 1 6 1 1 2 1 1 5 2 2 1 6 1 6 1 6 1 1 2 5 6 3 2 5 3 2 2 6 6 1\n",
      " 2 1 1 2 1 7 1 1 1 3 2 5 3 5 1 1 1 1 1 1 5 1 1 5 5 1 2 1 6 1 1 5 1 6 6 5 3\n",
      " 2 1 1 1 6 6 1 6 1 6 6 1 2 1 2 1 1 6 1 5 1 2 2 1 6 5 1 2 2 6 2 6 1 1 2 5 1\n",
      " 2 6 5 2 1 1 1 5 1 5 1 3 6 1 6 3 1 1 1 2 1 1 6 6 2 1 1 1 1 2 1 1 5 1 2 5 2\n",
      " 1 1 2 5 5 2 5 6 5 1 5 1 1 1 1 2 6 5 2 5 1 3 6 6 5 5 6 6 2 5 1 2 5 2 5 1 2\n",
      " 2 6 1 1 6 5]\n"
     ]
    },
    {
     "data": {
      "image/png": "[encoded data removed]",
      "text/plain": [
       "<Figure size 432x288 with 1 Axes>"
      ]
     },
     "metadata": {
      "needs_background": "light"
     },
     "output_type": "display_data"
    },
    {
     "data": {
      "text/plain": [
       "[0.5969248372366073,\n",
       " 0.5459180505609871,\n",
       " 0.4654212512757926,\n",
       " 0.45529712122798743,\n",
       " 0.40774435032003326,\n",
       " 0.3685277483572182,\n",
       " 0.305374722512247]"
      ]
     },
     "execution_count": 106,
     "metadata": {},
     "output_type": "execute_result"
    }
   ],
   "source": [
    "for i in range (2,9) :\n",
    "    model = AgglomerativeClustering(n_clusters=i, affinity='euclidean', linkage='complete')\n",
    "    model.fit(X)\n",
    "    labels = model.labels_\n",
    "    \n",
    "    print(labels)\n",
    "    plt.hist(labels, bins=i,range=(0,i))\n",
    "    plt.show()\n",
    "    \n",
    "    AC_Complete_SI_list.append(skmet.silhouette_score(X, labels, metric='euclidean', sample_size=None, random_state=None))\n",
    "AC_Complete_SI_list"
   ]
  },
  {
   "cell_type": "code",
   "execution_count": 107,
   "id": "74e72c0e",
   "metadata": {},
   "outputs": [
    {
     "name": "stdout",
     "output_type": "stream",
     "text": [
      "[0 0 0 1 0 0 0 0 0 0 0 0 0 0 0 0 0 0 0 0 0 0 0 0 0 0 0 0 0 0 0 0 0 0 0 0 0\n",
      " 0 0 0 0 0 0 0 0 0 0 0 0 0 0 0 0 0 0 0 0 0 0 0 0 0 0 0 0 0 0 0 0 0 0 0 0 0\n",
      " 0 0 0 0 0 0 0 0 0 0 0 0 0 0 0 0 0 0 0 0 0 0 0 0 0 0 0 1 0 0 0 0 0 0 0 0 0\n",
      " 0 0 0 0 0 0 0 0 0 0 0 0 0 0 0 0 0 0 0 0 0 0 0 0 0 0 0 1 0 0 0 0 0 0 0 0 0\n",
      " 0 0 0 0 0 0 0 0 0 0 0 0 0 0 0 0 0 0 0 0 0 1 0 0 0 0 0 1 1 0 1 0 0 1 0 1 0\n",
      " 0 0 0 0 0 0 0 0 0 0 0 1 0 0 1 1 0 0 0 1 0 0 0 0 1 0 0 0 0 0 0 0 0 0 1 0 0\n",
      " 0 0 0 0 0 0 0 1 0 1 0 0 0 0 0 0 0 0 0 0 0 0 0 0 1 0 0 0 0 0 0 0 0 0 0 0 1\n",
      " 0 0 0 0 0 0 0 0 0 0 0 0 0 0 1 0 0 0 0 0 0 0 0 0 0 0 0 0 0 0 1 1 1 0 0 0 0\n",
      " 0 0 0 0 0 0 0 1 0 0 0 0 0 0 0 0 0 0 0 0 0 0 0 0 0 0 1 0 0 0 0 0 0 0 0 0 0\n",
      " 0 0 0 0 0 0 0 0 0 0 0 0 0 0 0 0 0 0 0 0 0 0 0 0 0 0 0 0 0 0 0 0 0 0 0 0 0\n",
      " 0 0 0 0 1 0 0 0 0 0 0 0 0 0 0 0 0 0 0 0 0 0 0 0 0 0 0 0 0 0 0 0 0 0 0 0 0\n",
      " 0 0 0 0 0 0 0 0 0 0 0 0 0 0 0 0 0 0 0 0 0 0 0 0 0 0 0 0 0 0 0 0 0 0 0 0 0\n",
      " 0 0 0 0 0 0 0 0 0 0 0 0 0 0 0 0 0 0 0 0 0 0 0 0 0 0 0 0 0 0 0 0 0 0 0 0 0\n",
      " 0 0 0 0 0 0 0 0 0 0 0 0 0 0 0 0 0 0 0 0 0 0 0 0 0 0 0 0 0 0 0 0 0 0 0 0 0\n",
      " 0 0 0 0 0 0 0 0 0 0 0 0 0 0 0 0 0 0 0 0 0 0 0 0 0 0 0 0 0 0 0 0 0 0 0 0 0\n",
      " 0 0 0 0 0 0]\n"
     ]
    },
    {
     "data": {
      "image/png": "[encoded data removed]",
      "text/plain": [
       "<Figure size 432x288 with 1 Axes>"
      ]
     },
     "metadata": {
      "needs_background": "light"
     },
     "output_type": "display_data"
    },
    {
     "name": "stdout",
     "output_type": "stream",
     "text": [
      "[2 1 2 0 2 2 2 2 2 2 2 2 2 2 2 2 2 2 2 2 2 2 2 2 2 2 2 2 2 2 2 2 1 2 2 2 2\n",
      " 2 2 2 2 2 2 2 2 2 2 2 2 2 2 2 2 2 2 2 2 2 2 2 2 1 2 2 1 2 1 2 2 2 2 1 2 2\n",
      " 2 2 2 2 2 1 2 2 2 2 2 2 1 2 2 2 2 2 2 1 2 2 1 1 2 2 2 0 1 2 1 2 2 2 1 2 2\n",
      " 2 2 1 2 2 2 2 2 2 1 1 1 1 2 2 1 2 2 2 2 1 2 1 2 1 2 2 0 1 2 1 2 2 2 1 2 1\n",
      " 2 2 1 2 2 2 2 1 1 1 2 1 1 1 1 1 1 1 1 1 1 0 2 1 2 2 2 0 0 1 0 1 1 0 1 0 2\n",
      " 2 1 2 1 1 1 2 1 1 1 1 0 2 1 0 0 1 1 1 0 2 1 2 2 0 1 2 1 2 1 1 2 1 2 0 1 2\n",
      " 2 2 2 1 1 2 2 0 1 0 1 1 2 1 2 2 1 1 1 1 1 2 1 1 0 1 1 2 1 2 2 1 2 1 1 1 0\n",
      " 1 1 2 2 2 1 1 2 1 2 2 1 2 1 0 2 1 1 2 1 2 1 2 1 1 1 1 2 1 1 0 0 0 1 1 2 1\n",
      " 1 1 1 2 1 1 1 0 1 2 1 2 1 1 1 1 2 1 1 2 2 1 1 2 1 1 0 2 1 2 1 1 1 1 1 1 2\n",
      " 1 2 1 1 1 1 1 1 1 1 1 2 2 2 1 2 2 1 2 2 1 1 1 1 2 2 1 1 2 1 2 1 1 1 1 1 1\n",
      " 2 1 2 1 0 1 2 2 1 1 1 2 2 1 2 2 2 1 1 1 1 1 1 1 1 2 2 1 1 2 2 1 2 2 1 1 1\n",
      " 2 1 2 2 1 2 1 1 1 1 2 2 1 2 1 1 1 1 1 1 2 1 1 2 2 1 2 1 1 1 2 2 1 1 1 2 1\n",
      " 2 1 1 1 1 1 1 1 1 1 1 1 2 1 2 1 1 1 1 2 1 2 2 1 1 2 1 2 2 1 2 1 1 1 2 2 1\n",
      " 2 1 2 2 1 1 2 2 1 2 1 1 1 1 1 1 1 1 1 2 1 2 1 1 2 1 1 1 1 2 1 1 2 1 2 2 2\n",
      " 1 2 2 2 2 2 2 1 2 1 2 1 1 2 1 2 1 2 2 2 1 1 1 1 2 2 1 1 2 2 1 2 2 2 2 1 2\n",
      " 2 1 1 1 1 2]\n"
     ]
    },
    {
     "data": {
      "image/png": "[encoded data removed]",
      "text/plain": [
       "<Figure size 432x288 with 1 Axes>"
      ]
     },
     "metadata": {
      "needs_background": "light"
     },
     "output_type": "display_data"
    },
    {
     "name": "stdout",
     "output_type": "stream",
     "text": [
      "[2 0 2 1 2 2 2 2 2 2 2 2 2 2 2 2 2 2 2 2 2 2 2 2 2 2 2 2 2 2 2 2 0 2 2 2 2\n",
      " 2 2 2 2 2 2 2 2 2 2 2 2 2 2 2 2 2 2 2 2 2 2 2 2 0 2 2 0 2 0 2 2 2 2 0 2 2\n",
      " 2 2 2 2 2 0 2 2 2 2 2 2 0 2 2 2 2 2 2 0 2 2 0 0 2 2 2 1 0 2 0 2 2 2 0 2 2\n",
      " 2 2 0 2 2 2 2 2 2 0 0 0 0 2 2 0 2 2 2 2 0 2 0 2 0 2 2 1 0 2 0 2 2 2 0 2 0\n",
      " 2 2 0 2 2 2 2 0 0 0 2 0 0 0 0 0 0 0 0 0 0 1 2 0 2 2 2 1 1 0 1 0 0 1 0 1 2\n",
      " 2 0 2 0 0 0 2 0 0 0 0 1 2 0 1 1 0 0 0 1 2 0 2 2 1 0 2 0 2 0 0 2 0 2 1 0 2\n",
      " 2 2 2 0 0 2 2 1 0 1 0 0 2 0 2 2 0 0 0 0 0 2 0 0 1 0 0 2 0 2 2 0 2 0 0 0 1\n",
      " 0 0 2 2 2 0 0 2 0 2 2 0 2 0 1 2 0 0 2 0 2 0 2 0 0 0 0 2 0 0 1 1 1 0 0 2 0\n",
      " 0 0 0 2 0 0 0 1 0 2 0 2 0 0 0 0 2 0 0 2 2 0 0 2 0 0 3 2 0 2 0 0 0 0 0 0 2\n",
      " 0 2 0 0 0 0 0 0 0 0 0 2 2 2 0 2 2 0 2 2 0 0 0 0 2 2 0 0 2 0 2 0 0 0 0 0 0\n",
      " 2 0 2 0 1 0 2 2 0 0 0 2 2 0 2 2 2 0 0 0 0 0 0 0 0 2 2 0 0 2 2 0 2 2 0 0 0\n",
      " 2 0 2 2 0 2 0 0 0 0 2 2 0 2 0 0 0 0 0 0 2 0 0 2 2 0 2 0 0 0 2 2 0 0 0 2 0\n",
      " 2 0 0 0 0 0 0 0 0 0 0 0 2 0 2 0 0 0 0 2 0 2 2 0 0 2 0 2 2 0 2 0 0 0 2 2 0\n",
      " 2 0 2 2 0 0 2 2 0 2 0 0 0 0 0 0 0 0 0 2 0 2 0 0 2 0 0 0 0 2 0 0 2 0 2 2 2\n",
      " 0 2 2 2 2 2 2 0 2 0 2 0 0 2 0 2 0 2 2 2 0 0 0 0 2 2 0 0 2 2 0 2 2 2 2 0 2\n",
      " 2 0 0 0 0 2]\n"
     ]
    },
    {
     "data": {
      "image/png": "[encoded data removed]",
      "text/plain": [
       "<Figure size 432x288 with 1 Axes>"
      ]
     },
     "metadata": {
      "needs_background": "light"
     },
     "output_type": "display_data"
    },
    {
     "name": "stdout",
     "output_type": "stream",
     "text": [
      "[0 2 0 1 0 0 0 0 0 0 0 0 0 0 0 0 0 0 0 0 0 0 0 0 0 0 0 0 0 0 0 0 2 0 0 0 0\n",
      " 0 0 0 0 0 0 0 0 0 0 0 0 0 0 0 0 0 0 0 0 0 0 0 0 2 0 0 2 0 4 0 0 0 0 2 0 0\n",
      " 0 0 0 0 0 2 0 0 0 0 0 0 4 0 0 0 0 0 0 2 0 0 2 4 0 0 0 1 4 0 2 0 0 0 2 0 0\n",
      " 0 0 4 0 0 0 0 0 0 4 2 2 2 0 0 2 0 0 0 0 2 0 2 0 2 0 0 1 2 0 2 0 0 0 2 0 2\n",
      " 0 0 2 0 0 0 0 2 2 4 0 2 4 2 2 2 2 2 2 4 2 1 0 2 0 0 0 1 1 2 1 2 4 1 2 1 0\n",
      " 0 2 0 4 2 2 0 2 2 4 2 1 0 2 1 1 2 2 2 1 0 2 0 0 1 2 0 2 0 4 2 0 2 0 1 4 0\n",
      " 0 0 0 2 4 0 0 1 2 1 2 2 0 2 0 0 4 2 2 2 2 0 2 2 1 4 2 0 2 0 0 4 0 4 2 2 1\n",
      " 4 2 0 0 0 2 2 0 2 0 0 2 0 2 1 0 2 2 0 2 0 2 0 4 2 2 2 0 2 2 1 1 1 4 2 0 2\n",
      " 2 2 2 0 4 2 2 1 2 0 2 0 2 2 2 2 0 2 2 0 0 2 4 0 2 2 3 0 2 0 2 4 2 2 2 2 0\n",
      " 2 0 2 2 2 2 2 2 2 2 2 0 0 0 2 0 0 2 0 0 2 2 2 4 0 0 2 2 0 2 0 2 2 2 2 2 2\n",
      " 0 2 0 2 1 2 0 0 2 2 2 0 0 2 0 0 0 2 2 2 2 2 2 2 2 0 0 2 4 0 0 4 0 0 2 2 2\n",
      " 0 2 0 0 2 0 2 2 2 4 0 0 4 0 2 2 2 2 2 2 0 2 2 0 0 2 0 2 2 2 0 0 2 2 2 0 4\n",
      " 0 2 2 2 2 2 2 2 2 2 2 2 0 2 0 2 2 2 2 0 2 0 0 2 2 0 2 0 0 2 0 2 2 2 0 0 2\n",
      " 0 2 0 0 2 2 0 0 2 0 2 4 2 2 2 4 2 2 2 0 2 0 2 2 0 2 2 2 2 0 2 2 0 2 0 0 0\n",
      " 2 0 0 0 0 0 0 2 0 2 0 2 2 0 2 0 2 0 0 0 2 4 2 2 0 0 2 2 0 0 2 0 0 0 0 2 0\n",
      " 0 2 2 2 2 0]\n"
     ]
    },
    {
     "data": {
      "image/png": "[encoded data removed]",
      "text/plain": [
       "<Figure size 432x288 with 1 Axes>"
      ]
     },
     "metadata": {
      "needs_background": "light"
     },
     "output_type": "display_data"
    },
    {
     "name": "stdout",
     "output_type": "stream",
     "text": [
      "[1 2 1 0 1 1 1 1 1 1 1 1 1 1 1 1 1 1 1 1 1 1 1 1 1 1 1 1 1 1 1 5 2 1 5 5 1\n",
      " 5 5 5 1 1 1 5 1 1 1 5 1 1 5 1 1 1 1 1 1 1 1 1 1 2 1 5 2 1 4 1 1 1 1 2 1 5\n",
      " 1 5 1 1 1 2 5 1 5 1 1 1 4 1 5 1 5 5 5 2 5 5 2 4 1 1 5 0 4 1 2 5 5 5 2 1 1\n",
      " 1 1 4 1 5 5 5 5 1 4 2 2 2 5 1 2 5 5 1 5 2 5 2 1 2 1 5 0 2 5 2 1 1 5 2 5 2\n",
      " 1 5 2 1 1 1 5 2 2 4 5 2 4 2 2 2 2 2 2 4 2 0 5 2 1 1 1 0 0 2 0 2 4 0 2 0 1\n",
      " 5 2 5 4 2 2 1 2 2 4 2 0 5 2 0 0 2 2 2 0 1 2 5 5 0 2 5 2 1 4 2 1 2 5 0 4 5\n",
      " 1 5 5 2 4 5 5 0 2 0 2 2 5 2 5 1 4 2 2 2 2 5 2 2 0 4 2 5 2 5 5 4 5 4 2 2 0\n",
      " 4 2 1 5 1 2 2 5 2 5 5 2 5 2 0 5 2 2 1 2 5 2 5 4 2 2 2 1 2 2 0 0 0 4 2 5 2\n",
      " 2 2 2 5 4 2 2 0 2 5 2 5 2 2 2 2 5 2 2 1 5 2 4 5 2 2 3 1 2 1 2 4 2 2 2 2 1\n",
      " 2 1 2 2 2 2 2 2 2 2 2 5 1 1 2 5 5 2 5 1 2 2 2 4 1 5 2 2 5 2 5 2 2 2 2 2 2\n",
      " 5 2 1 2 0 2 1 5 2 2 2 1 5 2 5 1 1 2 2 2 2 2 2 2 2 1 5 2 4 1 5 4 1 1 2 2 2\n",
      " 1 2 5 1 2 1 2 2 2 4 1 5 4 5 2 2 2 2 2 2 5 2 2 5 5 2 1 2 2 2 5 5 2 2 2 5 4\n",
      " 1 2 2 2 2 2 2 2 2 2 2 2 1 2 1 2 2 2 2 5 2 1 1 2 2 5 2 1 1 2 1 2 2 2 1 5 2\n",
      " 1 2 5 1 2 2 5 5 2 5 2 4 2 2 2 4 2 2 2 1 2 5 2 2 5 2 2 2 2 1 2 2 5 2 1 5 1\n",
      " 2 5 1 5 5 5 1 2 5 2 5 2 2 5 2 1 2 5 1 5 2 4 2 2 5 5 2 2 1 5 2 1 5 1 5 2 1\n",
      " 1 2 2 2 2 5]\n"
     ]
    },
    {
     "data": {
      "image/png": "[encoded data removed]",
      "text/plain": [
       "<Figure size 432x288 with 1 Axes>"
      ]
     },
     "metadata": {
      "needs_background": "light"
     },
     "output_type": "display_data"
    },
    {
     "name": "stdout",
     "output_type": "stream",
     "text": [
      "[0 2 0 1 0 0 0 0 0 0 0 0 0 0 0 0 0 0 0 0 0 0 0 0 0 0 0 0 0 0 0 5 2 0 5 5 0\n",
      " 5 5 5 0 0 0 5 0 0 0 5 0 0 5 0 0 0 0 0 0 0 0 0 0 2 0 5 2 0 4 0 0 0 0 2 0 5\n",
      " 0 5 0 0 0 2 5 0 5 0 0 0 4 0 5 0 5 5 5 2 5 5 2 4 0 0 5 1 4 0 2 5 5 5 2 0 0\n",
      " 0 0 4 0 5 5 5 5 0 4 2 2 2 5 0 2 5 5 0 5 2 5 2 0 2 0 5 1 2 5 2 0 0 5 2 5 2\n",
      " 0 5 2 0 0 0 5 2 2 4 5 2 4 2 2 2 2 2 2 4 2 1 5 2 0 0 0 6 6 2 1 2 4 6 2 1 0\n",
      " 5 2 5 4 2 2 0 2 2 4 2 1 5 2 1 1 2 2 2 1 0 2 5 5 6 2 5 2 0 4 2 0 2 5 6 4 5\n",
      " 0 5 5 2 4 5 5 1 2 1 2 2 5 2 5 0 4 2 2 2 2 5 2 2 6 4 2 5 2 5 5 4 5 4 2 2 6\n",
      " 4 2 0 5 0 2 2 5 2 5 5 2 5 2 1 5 2 2 0 2 5 2 5 4 2 2 2 0 2 2 1 1 1 4 2 5 2\n",
      " 2 2 2 5 4 2 2 1 2 5 2 5 2 2 2 2 5 2 2 0 5 2 4 5 2 2 3 0 2 0 2 4 2 2 2 2 0\n",
      " 2 0 2 2 2 2 2 2 2 2 2 5 0 0 2 5 5 2 5 0 2 2 2 4 0 5 2 2 5 2 5 2 2 2 2 2 2\n",
      " 5 2 0 2 1 2 0 5 2 2 2 0 5 2 5 0 0 2 2 2 2 2 2 2 2 0 5 2 4 0 5 4 0 0 2 2 2\n",
      " 0 2 5 0 2 0 2 2 2 4 0 5 4 5 2 2 2 2 2 2 5 2 2 5 5 2 0 2 2 2 5 5 2 2 2 5 4\n",
      " 0 2 2 2 2 2 2 2 2 2 2 2 0 2 0 2 2 2 2 5 2 0 0 2 2 5 2 0 0 2 0 2 2 2 0 5 2\n",
      " 0 2 5 0 2 2 5 5 2 5 2 4 2 2 2 4 2 2 2 0 2 5 2 2 5 2 2 2 2 0 2 2 5 2 0 5 0\n",
      " 2 5 0 5 5 5 0 2 5 2 5 2 2 5 2 0 2 5 0 5 2 4 2 2 5 5 2 2 0 5 2 0 5 0 5 2 0\n",
      " 0 2 2 2 2 5]\n"
     ]
    },
    {
     "data": {
      "image/png": "[encoded data removed]",
      "text/plain": [
       "<Figure size 432x288 with 1 Axes>"
      ]
     },
     "metadata": {
      "needs_background": "light"
     },
     "output_type": "display_data"
    },
    {
     "name": "stdout",
     "output_type": "stream",
     "text": [
      "[0 2 0 1 0 0 0 0 0 0 0 0 0 0 0 7 0 0 0 0 0 0 0 0 0 0 0 0 0 0 0 5 2 0 5 5 0\n",
      " 5 5 5 0 0 0 5 0 0 0 5 0 0 5 0 0 0 0 0 0 0 0 0 0 2 0 5 2 0 4 0 0 0 0 2 0 5\n",
      " 0 5 0 0 0 2 5 0 5 0 0 0 4 0 5 0 5 5 5 2 5 5 2 4 0 0 5 1 4 0 2 5 5 5 2 0 0\n",
      " 0 0 4 0 5 5 5 5 0 4 2 2 2 5 0 2 5 5 0 5 2 5 2 0 2 0 5 1 2 5 2 0 0 5 2 5 2\n",
      " 0 5 2 0 0 0 5 2 2 4 5 2 4 2 2 2 2 2 2 4 2 1 5 2 0 0 0 6 6 2 1 2 4 6 2 1 0\n",
      " 5 2 5 4 2 2 0 2 2 4 2 1 5 2 1 1 2 2 2 1 0 2 5 5 6 2 5 2 0 4 2 0 2 5 6 4 5\n",
      " 0 5 5 2 4 5 5 1 2 1 2 2 5 2 5 0 4 2 2 2 2 5 2 2 6 4 2 5 2 5 5 4 5 4 2 2 6\n",
      " 4 2 0 5 0 2 2 5 2 5 5 2 5 2 1 5 2 2 0 2 5 2 5 4 2 2 2 0 2 2 1 1 1 4 2 5 2\n",
      " 2 2 2 5 4 2 2 1 2 5 2 5 2 2 2 2 5 2 2 0 5 2 4 5 2 2 3 0 2 0 2 4 2 2 2 2 0\n",
      " 2 0 2 2 2 2 2 2 2 2 2 5 0 0 2 5 5 2 5 0 2 2 2 4 0 5 2 2 5 2 5 2 2 2 2 2 2\n",
      " 5 2 0 2 1 2 0 5 2 2 2 0 5 2 5 0 0 2 2 2 2 2 2 2 2 0 5 2 4 0 5 4 0 0 2 2 2\n",
      " 0 2 5 0 2 0 2 2 2 4 0 5 4 5 2 2 2 2 2 2 5 2 2 5 5 2 0 2 2 2 5 5 2 2 2 5 4\n",
      " 0 2 2 2 2 2 2 2 2 2 2 2 0 2 0 2 2 2 2 5 2 0 0 2 2 5 2 0 0 2 0 2 2 2 0 5 2\n",
      " 0 2 5 0 2 2 5 5 2 5 2 4 2 2 2 4 2 2 2 0 2 5 2 2 5 2 2 2 2 0 2 2 5 2 0 5 0\n",
      " 2 5 0 5 5 5 0 2 5 2 5 2 2 5 2 0 2 5 0 5 2 4 2 2 5 5 2 2 0 5 2 0 5 0 5 2 0\n",
      " 0 2 2 2 2 5]\n"
     ]
    },
    {
     "data": {
      "image/png": "[encoded data removed]",
      "text/plain": [
       "<Figure size 432x288 with 1 Axes>"
      ]
     },
     "metadata": {
      "needs_background": "light"
     },
     "output_type": "display_data"
    },
    {
     "data": {
      "text/plain": [
       "[0.5969248372366073,\n",
       " 0.5288010984734478,\n",
       " 0.517275792471139,\n",
       " 0.4542493315203876,\n",
       " 0.41437031650961453,\n",
       " 0.41344923439140335,\n",
       " 0.3774974460970621]"
      ]
     },
     "execution_count": 107,
     "metadata": {},
     "output_type": "execute_result"
    }
   ],
   "source": [
    "for i in range (2,9) :\n",
    "    model = AgglomerativeClustering(n_clusters=i, affinity='euclidean', linkage='average')\n",
    "    model.fit(X)\n",
    "    labels = model.labels_\n",
    "    \n",
    "    print(labels)\n",
    "    plt.hist(labels, bins=i,range=(0,i))\n",
    "    plt.show()\n",
    "    \n",
    "    AC_Average_SI_list.append(skmet.silhouette_score(X, labels, metric='euclidean', sample_size=None, random_state=None))\n",
    "AC_Average_SI_list"
   ]
  },
  {
   "cell_type": "code",
   "execution_count": 108,
   "id": "5de2f874",
   "metadata": {},
   "outputs": [
    {
     "name": "stdout",
     "output_type": "stream",
     "text": [
      "[1 0 1 0 1 1 1 1 1 1 1 1 1 1 1 1 1 1 1 1 1 1 1 1 1 1 1 1 1 1 1 0 0 1 1 1 1\n",
      " 0 1 1 1 1 1 0 1 1 1 0 1 1 0 1 1 1 1 1 1 1 1 1 1 0 1 1 0 1 0 1 1 1 1 0 1 1\n",
      " 1 1 1 1 1 0 1 1 1 1 1 1 0 1 1 1 1 1 1 0 1 1 0 0 1 1 1 0 0 1 0 0 0 0 0 1 1\n",
      " 1 1 0 1 1 1 1 1 1 0 0 0 0 0 1 0 0 1 1 0 0 1 0 1 0 1 1 0 0 1 0 1 1 1 0 1 0\n",
      " 1 1 0 1 1 1 1 0 0 0 1 0 0 0 0 0 0 0 0 0 0 0 1 0 1 1 1 0 0 0 0 0 0 0 0 0 1\n",
      " 0 0 1 0 0 0 1 0 0 0 0 0 0 0 0 0 0 0 0 0 1 0 1 0 0 0 1 0 1 0 0 1 0 1 0 0 0\n",
      " 1 1 1 0 0 1 1 0 0 0 0 0 1 0 1 1 0 0 0 0 0 1 0 0 0 0 0 1 0 0 0 0 1 0 0 0 0\n",
      " 0 0 1 0 1 0 0 0 0 0 0 0 0 0 0 0 0 0 1 0 1 0 0 0 0 0 0 1 0 0 0 0 0 0 0 1 0\n",
      " 0 0 0 0 0 0 0 0 0 1 0 0 0 0 0 0 0 0 0 1 1 0 0 1 0 0 0 1 0 1 0 0 0 0 0 0 1\n",
      " 0 1 0 0 0 0 0 0 0 0 0 0 1 1 0 1 1 0 1 1 0 0 0 0 1 1 0 0 1 0 1 0 0 0 0 0 0\n",
      " 1 0 1 0 0 0 1 0 0 0 0 1 0 0 1 1 1 0 0 0 0 0 0 0 0 1 1 0 0 1 1 0 1 1 0 0 0\n",
      " 1 0 0 1 0 1 0 0 0 0 1 1 0 1 0 0 0 0 0 0 1 0 0 1 1 0 1 0 0 0 0 1 0 0 0 1 0\n",
      " 1 0 0 0 0 0 0 0 0 0 0 0 1 0 1 0 0 0 0 1 0 1 1 0 0 1 0 1 1 0 1 0 0 0 1 1 0\n",
      " 1 0 1 1 0 0 0 1 0 1 0 0 0 0 0 0 0 0 0 1 0 0 0 0 1 0 0 0 0 1 0 0 1 0 1 1 1\n",
      " 0 0 1 1 1 1 1 0 1 0 1 0 0 0 0 1 0 1 1 1 0 0 0 0 1 1 0 0 1 1 0 1 1 1 1 0 1\n",
      " 1 0 0 0 0 1]\n"
     ]
    },
    {
     "data": {
      "image/png": "[encoded data removed]",
      "text/plain": [
       "<Figure size 432x288 with 1 Axes>"
      ]
     },
     "metadata": {
      "needs_background": "light"
     },
     "output_type": "display_data"
    },
    {
     "name": "stdout",
     "output_type": "stream",
     "text": [
      "[1 0 1 2 1 1 1 1 1 1 1 1 1 1 1 1 1 1 1 1 1 1 1 1 1 1 1 1 1 1 1 0 0 1 1 1 1\n",
      " 0 1 1 1 1 1 0 1 1 1 0 1 1 0 1 1 1 1 1 1 1 1 1 1 0 1 1 0 1 0 1 1 1 1 0 1 1\n",
      " 1 1 1 1 1 0 1 1 1 1 1 1 0 1 1 1 1 1 1 0 1 1 0 0 1 1 1 2 0 1 0 0 0 0 0 1 1\n",
      " 1 1 0 1 1 1 1 1 1 0 0 0 0 0 1 0 0 1 1 0 0 1 0 1 0 1 1 2 0 1 0 1 1 1 0 1 0\n",
      " 1 1 0 1 1 1 1 0 0 0 1 0 0 0 0 0 0 0 0 0 0 2 1 0 1 1 1 2 2 0 2 0 0 2 0 2 1\n",
      " 0 0 1 0 0 0 1 0 0 0 0 2 0 0 2 2 0 0 0 2 1 0 1 0 2 0 1 0 1 0 0 1 0 1 2 0 0\n",
      " 1 1 1 0 0 1 1 2 0 2 0 0 1 0 1 1 0 0 0 0 0 1 0 0 2 0 0 1 0 0 0 0 1 0 0 0 2\n",
      " 0 0 1 0 1 0 0 0 0 0 0 0 0 0 2 0 0 0 1 0 1 0 0 0 0 0 0 1 0 0 2 2 2 0 0 1 0\n",
      " 0 0 0 0 0 0 0 2 0 1 0 0 0 0 0 0 0 0 0 1 1 0 0 1 0 0 2 1 0 1 0 0 0 0 0 0 1\n",
      " 0 1 0 0 0 0 0 0 0 0 0 0 1 1 0 1 1 0 1 1 0 0 0 0 1 1 0 0 1 0 1 0 0 0 0 0 0\n",
      " 1 0 1 0 2 0 1 0 0 0 0 1 0 0 1 1 1 0 0 0 0 0 0 0 0 1 1 0 0 1 1 0 1 1 0 0 0\n",
      " 1 0 0 1 0 1 0 0 0 0 1 1 0 1 0 0 0 0 0 0 1 0 0 1 1 0 1 0 0 0 0 1 0 0 0 1 0\n",
      " 1 0 0 0 0 0 0 0 0 0 0 0 1 0 1 0 0 0 0 1 0 1 1 0 0 1 0 1 1 0 1 0 0 0 1 1 0\n",
      " 1 0 1 1 0 0 0 1 0 1 0 0 0 0 0 0 0 0 0 1 0 0 0 0 1 0 0 0 0 1 0 0 1 0 1 1 1\n",
      " 0 0 1 1 1 1 1 0 1 0 1 0 0 0 0 1 0 1 1 1 0 0 0 0 1 1 0 0 1 1 0 1 1 1 1 0 1\n",
      " 1 0 0 0 0 1]\n"
     ]
    },
    {
     "data": {
      "image/png": "[encoded data removed]",
      "text/plain": [
       "<Figure size 432x288 with 1 Axes>"
      ]
     },
     "metadata": {
      "needs_background": "light"
     },
     "output_type": "display_data"
    },
    {
     "name": "stdout",
     "output_type": "stream",
     "text": [
      "[0 1 0 2 0 0 0 0 0 0 0 0 0 0 0 0 0 0 0 0 0 0 0 0 0 0 0 0 0 0 0 3 3 0 0 0 0\n",
      " 3 0 0 0 0 0 3 0 0 0 3 0 0 3 0 0 0 0 0 0 0 0 0 0 3 0 0 3 0 1 0 0 0 0 1 0 0\n",
      " 0 0 0 0 0 3 0 0 0 0 0 0 1 0 0 0 0 0 0 1 0 0 3 1 0 0 0 2 1 0 3 3 3 3 3 0 0\n",
      " 0 0 1 0 0 0 0 0 0 1 1 3 1 3 0 3 3 0 0 3 1 0 3 0 1 0 0 2 3 0 3 0 0 0 1 0 3\n",
      " 0 0 1 0 0 0 0 3 3 1 0 3 1 3 3 1 3 1 1 1 1 2 0 3 0 0 0 2 2 3 2 3 1 2 3 2 0\n",
      " 3 3 0 1 1 1 0 3 3 1 1 2 3 3 2 2 3 1 3 2 0 1 0 3 2 1 0 1 0 1 1 0 1 0 2 1 3\n",
      " 0 0 0 3 1 0 0 2 3 2 3 3 0 3 0 0 1 1 3 1 1 0 3 3 2 1 3 0 1 3 3 1 0 1 1 3 2\n",
      " 1 1 0 3 0 3 3 3 1 3 3 3 3 3 2 3 1 3 0 3 0 3 3 1 1 3 3 0 1 3 2 2 2 1 3 0 3\n",
      " 3 3 3 3 1 3 1 2 1 0 1 3 3 3 1 1 3 3 3 0 0 3 1 0 3 1 2 0 3 0 3 1 1 1 3 1 0\n",
      " 3 0 1 1 3 1 3 1 3 3 1 3 0 0 3 0 0 1 0 0 3 3 3 1 0 0 3 3 0 3 0 1 3 3 1 3 1\n",
      " 0 1 0 3 2 3 0 3 1 3 3 0 3 3 0 0 0 3 1 3 1 3 1 1 1 0 0 1 1 0 0 1 0 0 1 1 3\n",
      " 0 3 3 0 3 0 3 1 3 1 0 0 1 0 3 3 3 1 3 3 0 1 3 0 0 3 0 3 1 1 3 0 3 1 1 0 1\n",
      " 0 1 1 3 1 1 3 1 3 1 1 3 0 3 0 3 3 1 3 0 3 0 0 3 1 0 1 0 0 1 0 1 3 3 0 0 3\n",
      " 0 1 0 0 3 1 3 0 3 0 3 1 1 3 1 1 3 1 3 0 3 3 1 1 0 3 1 3 3 0 3 3 0 3 0 0 0\n",
      " 3 3 0 0 0 0 0 1 0 3 0 3 1 3 3 0 1 0 0 0 3 1 1 1 0 0 1 1 0 0 3 0 0 0 0 3 0\n",
      " 0 1 3 3 1 0]\n"
     ]
    },
    {
     "data": {
      "image/png": "[encoded data removed]",
      "text/plain": [
       "<Figure size 432x288 with 1 Axes>"
      ]
     },
     "metadata": {
      "needs_background": "light"
     },
     "output_type": "display_data"
    },
    {
     "name": "stdout",
     "output_type": "stream",
     "text": [
      "[4 0 4 2 4 4 4 4 4 4 4 4 4 4 4 4 4 4 4 4 4 4 4 4 4 4 4 4 4 4 4 1 1 4 3 3 4\n",
      " 1 3 3 3 4 4 1 3 3 3 1 4 4 1 3 4 4 4 4 4 4 4 3 4 1 4 3 1 4 0 3 4 4 4 0 4 3\n",
      " 4 3 4 4 4 1 3 4 3 4 4 4 0 4 3 4 3 3 3 0 3 3 1 0 4 4 3 2 0 3 1 1 1 1 1 4 4\n",
      " 4 4 0 4 3 3 3 3 4 0 0 1 0 1 3 1 1 3 4 1 0 3 1 4 0 4 3 2 1 3 1 4 4 3 0 3 1\n",
      " 4 3 0 4 4 4 3 1 1 0 3 1 0 1 1 0 1 0 0 0 0 2 3 1 4 4 4 2 2 1 2 1 0 2 1 2 3\n",
      " 1 1 3 0 0 0 4 1 1 0 0 2 1 1 2 2 1 0 1 2 3 0 3 1 2 0 3 0 4 0 0 4 0 3 2 0 1\n",
      " 4 3 3 1 0 3 3 2 1 2 1 1 3 1 3 4 0 0 1 0 0 3 1 1 2 0 1 3 0 1 1 0 3 0 0 1 2\n",
      " 0 0 4 1 3 1 1 1 0 1 1 1 1 1 2 1 0 1 4 1 3 1 1 0 0 1 1 3 0 1 2 2 2 0 1 3 1\n",
      " 1 1 1 1 0 1 0 2 0 3 0 1 1 1 0 0 1 1 1 4 3 1 0 3 1 0 2 4 1 4 1 0 0 0 1 0 4\n",
      " 1 4 0 0 1 0 1 0 1 1 0 1 4 4 1 3 3 0 3 4 1 1 1 0 4 3 1 1 3 1 3 0 1 1 0 1 0\n",
      " 3 0 4 1 2 1 4 1 0 1 1 4 1 1 3 4 4 1 0 1 0 1 0 0 0 4 3 0 0 3 3 0 4 4 0 0 1\n",
      " 3 1 1 4 1 4 1 0 1 0 4 3 0 3 1 1 1 0 1 1 3 0 1 3 3 1 4 1 0 0 1 3 1 0 0 3 0\n",
      " 4 0 0 1 0 0 1 0 1 0 0 1 4 1 4 1 1 0 1 3 1 4 4 1 0 3 0 4 4 0 4 0 1 1 4 3 1\n",
      " 4 0 3 4 1 0 1 3 1 3 1 0 0 1 0 0 1 0 1 4 1 1 0 0 3 1 0 1 1 4 1 1 3 1 3 3 4\n",
      " 1 1 4 3 3 3 3 0 3 1 3 1 0 1 1 4 0 3 4 3 1 0 0 0 3 3 0 0 4 3 1 4 3 4 3 1 4\n",
      " 4 0 1 1 0 3]\n"
     ]
    },
    {
     "data": {
      "image/png": "[encoded data removed]",
      "text/plain": [
       "<Figure size 432x288 with 1 Axes>"
      ]
     },
     "metadata": {
      "needs_background": "light"
     },
     "output_type": "display_data"
    },
    {
     "name": "stdout",
     "output_type": "stream",
     "text": [
      "[4 3 4 2 4 4 4 4 4 4 4 4 4 4 4 4 4 4 4 4 4 4 4 4 4 4 4 4 4 4 4 0 0 4 1 1 4\n",
      " 0 1 1 1 4 4 0 1 1 1 0 4 4 0 1 4 4 4 4 4 4 4 1 4 0 4 1 0 4 5 1 4 4 4 3 4 1\n",
      " 4 1 4 4 4 0 1 4 1 4 4 4 5 4 1 4 1 1 1 3 1 1 0 5 4 4 1 2 5 1 0 0 0 0 0 4 4\n",
      " 4 4 5 4 1 1 1 1 4 5 3 0 3 0 1 0 0 1 4 0 3 1 0 4 3 4 1 2 0 1 0 4 4 1 3 1 0\n",
      " 4 1 3 4 4 4 1 0 0 5 1 0 5 0 0 3 0 3 3 5 3 2 1 0 4 4 4 2 2 0 2 0 5 2 0 2 1\n",
      " 0 0 1 5 3 3 4 0 0 5 3 2 0 0 2 2 0 3 0 2 1 3 1 0 2 3 1 3 4 5 3 4 3 1 2 5 0\n",
      " 4 1 1 0 5 1 1 2 0 2 0 0 1 0 1 4 5 3 0 3 3 1 0 0 2 5 0 1 3 0 0 5 1 5 3 0 2\n",
      " 5 3 4 0 1 0 0 0 3 0 0 0 0 0 2 0 3 0 4 0 1 0 0 5 3 0 0 1 3 0 2 2 2 5 0 1 0\n",
      " 0 0 0 0 5 0 3 2 3 1 3 0 0 0 3 3 0 0 0 4 1 0 5 1 0 3 2 4 0 4 0 5 3 3 0 3 4\n",
      " 0 4 3 3 0 3 0 3 0 0 3 0 4 4 0 1 1 3 1 4 0 0 0 5 4 1 0 0 1 0 1 3 0 0 3 0 3\n",
      " 1 3 4 0 2 0 4 0 3 0 0 4 0 0 1 4 4 0 3 0 3 0 3 3 3 4 1 3 5 1 1 5 4 4 3 3 0\n",
      " 1 0 0 4 0 4 0 3 0 5 4 1 5 1 0 0 0 3 0 0 1 3 0 1 1 0 4 0 3 3 0 1 0 3 3 1 5\n",
      " 4 3 3 0 3 3 0 3 0 3 3 0 4 0 4 0 0 3 0 1 0 4 4 0 3 1 3 4 4 3 4 3 0 0 4 1 0\n",
      " 4 3 1 4 0 3 0 1 0 1 0 5 3 0 3 5 0 3 0 4 0 0 3 3 1 0 3 0 0 4 0 0 1 0 1 1 4\n",
      " 0 0 4 1 1 1 1 3 1 0 1 0 3 0 0 4 3 1 4 1 0 5 3 3 1 1 3 3 4 1 0 4 1 4 1 0 4\n",
      " 4 3 0 0 3 1]\n"
     ]
    },
    {
     "data": {
      "image/png": "[encoded data removed]",
      "text/plain": [
       "<Figure size 432x288 with 1 Axes>"
      ]
     },
     "metadata": {
      "needs_background": "light"
     },
     "output_type": "display_data"
    },
    {
     "name": "stdout",
     "output_type": "stream",
     "text": [
      "[1 3 1 2 1 1 1 1 1 1 1 1 1 1 1 1 1 1 1 1 1 1 1 1 1 1 1 1 1 1 1 6 4 1 0 0 1\n",
      " 6 0 0 0 1 1 6 0 0 0 6 1 1 6 0 1 1 1 1 1 1 1 0 1 4 1 0 4 1 5 0 1 1 1 3 1 0\n",
      " 1 0 1 1 1 4 0 1 0 1 1 1 5 1 0 1 0 0 0 3 0 0 6 5 1 1 0 2 5 0 6 6 6 6 4 1 1\n",
      " 1 1 5 1 0 0 0 0 1 5 3 4 3 6 0 6 6 0 1 6 3 0 4 1 3 1 0 2 4 0 6 1 1 0 3 0 4\n",
      " 1 0 3 1 1 1 0 4 4 5 0 6 5 4 4 3 4 3 3 5 3 2 0 4 1 1 1 2 2 4 2 4 5 2 4 2 0\n",
      " 6 4 0 5 3 3 1 4 6 5 3 2 6 4 2 2 4 3 6 2 0 3 0 6 2 3 0 3 1 5 3 1 3 0 2 5 6\n",
      " 1 0 0 4 5 0 0 2 4 2 4 4 0 4 0 1 5 3 4 3 3 0 4 4 2 5 4 0 3 6 6 5 0 5 3 4 2\n",
      " 5 3 1 6 0 4 6 6 3 6 6 4 6 6 2 6 3 4 1 4 0 4 6 5 3 4 6 0 3 4 2 2 2 5 6 0 6\n",
      " 4 4 4 6 5 4 3 2 3 0 3 6 4 4 3 3 6 4 4 1 0 4 5 0 6 3 2 1 4 1 4 5 3 3 4 3 1\n",
      " 4 1 3 3 4 3 4 3 4 4 3 6 1 1 4 0 0 3 0 1 4 4 4 5 1 0 6 4 0 4 0 3 4 4 3 4 3\n",
      " 0 3 1 4 2 4 1 6 3 6 4 1 6 4 0 1 1 4 3 6 3 4 3 3 3 1 0 3 5 0 0 5 1 1 3 3 6\n",
      " 0 6 6 1 4 1 4 3 4 5 1 0 5 0 4 6 4 3 6 4 0 3 4 0 0 4 1 4 3 3 6 0 6 3 3 0 5\n",
      " 1 3 3 6 3 3 4 3 4 3 3 4 1 4 1 4 4 3 4 0 4 1 1 4 3 0 3 1 1 3 1 3 4 4 1 0 6\n",
      " 1 3 0 1 4 3 6 0 4 0 4 5 3 4 3 5 4 3 4 1 4 6 3 3 0 4 3 4 4 1 4 4 0 4 0 0 1\n",
      " 4 6 1 0 0 0 0 3 0 4 0 4 3 6 4 1 3 0 1 0 4 5 3 3 0 0 3 3 1 0 4 1 0 1 0 4 1\n",
      " 1 3 4 4 3 0]\n"
     ]
    },
    {
     "data": {
      "image/png": "[encoded data removed]",
      "text/plain": [
       "<Figure size 432x288 with 1 Axes>"
      ]
     },
     "metadata": {
      "needs_background": "light"
     },
     "output_type": "display_data"
    },
    {
     "name": "stdout",
     "output_type": "stream",
     "text": [
      "[1 3 1 0 1 1 1 1 1 1 1 1 1 1 1 1 1 1 1 1 1 1 1 1 1 1 1 1 1 1 1 6 4 1 7 5 1\n",
      " 6 5 5 7 1 1 6 7 7 7 6 1 1 6 7 1 1 1 1 1 1 1 7 1 4 1 5 4 1 2 7 1 1 1 3 1 7\n",
      " 1 7 1 1 1 4 7 1 5 1 1 1 2 1 5 1 7 7 7 3 5 7 6 2 1 1 5 0 2 7 6 6 6 6 4 1 1\n",
      " 1 1 2 1 5 5 5 5 1 2 3 4 3 6 7 6 6 5 1 6 3 5 4 1 3 1 7 0 4 5 6 1 1 5 3 7 4\n",
      " 1 5 3 1 1 1 7 4 4 2 5 6 2 4 4 3 4 3 3 2 3 0 5 4 1 1 1 0 0 4 0 4 2 0 4 0 7\n",
      " 6 4 5 2 3 3 1 4 6 2 3 0 6 4 0 0 4 3 6 0 7 3 5 6 0 3 5 3 1 2 3 1 3 5 0 2 6\n",
      " 1 7 5 4 2 5 5 0 4 0 4 4 7 4 5 1 2 3 4 3 3 5 4 4 0 2 4 5 3 6 6 2 5 2 3 4 0\n",
      " 2 3 1 6 7 4 6 6 3 6 6 4 6 6 0 6 3 4 1 4 5 4 6 2 3 4 6 7 3 4 0 0 0 2 6 7 6\n",
      " 4 4 4 6 2 4 3 0 3 5 3 6 4 4 3 3 6 4 4 1 5 4 2 5 6 3 0 1 4 1 4 2 3 3 4 3 1\n",
      " 4 1 3 3 4 3 4 3 4 4 3 6 1 1 4 5 7 3 5 1 4 4 4 2 1 5 6 4 5 4 7 3 4 4 3 4 3\n",
      " 5 3 1 4 0 4 1 6 3 6 4 1 6 4 5 1 1 4 3 6 3 4 3 3 3 1 5 3 2 7 7 2 1 1 3 3 6\n",
      " 7 6 6 1 4 1 4 3 4 2 1 5 2 7 4 6 4 3 6 4 5 3 4 7 5 4 1 4 3 3 6 5 6 3 3 5 2\n",
      " 1 3 3 6 3 3 4 3 4 3 3 4 1 4 1 4 4 3 4 5 4 1 1 4 3 5 3 1 1 3 1 3 4 4 1 5 6\n",
      " 1 3 5 1 4 3 6 5 4 5 4 2 3 4 3 2 4 3 4 1 4 6 3 3 7 4 3 4 4 1 4 4 5 4 7 5 1\n",
      " 4 6 1 5 5 7 7 3 5 4 5 4 3 6 4 1 3 5 1 5 4 2 3 3 5 5 3 3 1 5 4 1 7 1 5 4 1\n",
      " 1 3 4 4 3 7]\n"
     ]
    },
    {
     "data": {
      "image/png": "[encoded data removed]",
      "text/plain": [
       "<Figure size 432x288 with 1 Axes>"
      ]
     },
     "metadata": {
      "needs_background": "light"
     },
     "output_type": "display_data"
    },
    {
     "data": {
      "text/plain": [
       "[0.5250251321125396,\n",
       " 0.5457763873792947,\n",
       " 0.45185489422720493,\n",
       " 0.4052285026286633,\n",
       " 0.3838085737200766,\n",
       " 0.31631849730890843,\n",
       " 0.2779249425870443]"
      ]
     },
     "execution_count": 108,
     "metadata": {},
     "output_type": "execute_result"
    }
   ],
   "source": [
    "for i in range (2,9) :\n",
    "    model = AgglomerativeClustering(n_clusters=i, affinity='euclidean', linkage='ward')\n",
    "    model.fit(X)\n",
    "    labels = model.labels_\n",
    "    print(labels)\n",
    "    plt.hist(labels, bins=i,range=(0,i))\n",
    "    plt.show()\n",
    "    AC_Ward_SI_list.append(skmet.silhouette_score(X, labels, metric='euclidean', sample_size=None, random_state=None))\n",
    "AC_Ward_SI_list"
   ]
  },
  {
   "cell_type": "markdown",
   "id": "5ea4c705",
   "metadata": {},
   "source": [
    "* B) We perform PCA and repeat a)"
   ]
  },
  {
   "cell_type": "code",
   "execution_count": 109,
   "id": "9ad6a4f3",
   "metadata": {},
   "outputs": [
    {
     "data": {
      "text/plain": [
       "array([[-0.98718407],\n",
       "       [ 0.6866718 ],\n",
       "       [-0.99371096],\n",
       "       [ 1.67443154],\n",
       "       [-0.98495406],\n",
       "       [-0.98970351],\n",
       "       [-0.85629867],\n",
       "       [-0.89103619],\n",
       "       [-0.97550379],\n",
       "       [-0.99457773],\n",
       "       [-0.9220201 ],\n",
       "       [-1.00695815],\n",
       "       [-0.96717341],\n",
       "       [-0.96181255],\n",
       "       [-0.90484854],\n",
       "       [-0.90114885],\n",
       "       [-0.80349431],\n",
       "       [-0.96518201],\n",
       "       [-0.97826481],\n",
       "       [-1.00102403],\n",
       "       [-0.84438958],\n",
       "       [-0.94182143],\n",
       "       [-0.99860945],\n",
       "       [-0.96850758],\n",
       "       [-0.87479271],\n",
       "       [-1.00183474],\n",
       "       [-0.83467333],\n",
       "       [-0.95404425],\n",
       "       [-0.96667831],\n",
       "       [-0.97001777],\n",
       "       [-0.88211685],\n",
       "       [-0.16793776],\n",
       "       [ 0.15689775],\n",
       "       [-0.79389808],\n",
       "       [-0.52108639],\n",
       "       [-0.31658265],\n",
       "       [-0.96823679],\n",
       "       [-0.01549826],\n",
       "       [-0.318052  ],\n",
       "       [-0.2992715 ],\n",
       "       [-0.71267658],\n",
       "       [-0.97141209],\n",
       "       [-0.99192543],\n",
       "       [-0.12505644],\n",
       "       [-0.81402897],\n",
       "       [-0.78652028],\n",
       "       [-0.78898948],\n",
       "       [-0.08131524],\n",
       "       [-0.96800507],\n",
       "       [-0.97247745],\n",
       "       [-0.03211245],\n",
       "       [-0.69224085],\n",
       "       [-0.96038563],\n",
       "       [-0.98625313],\n",
       "       [-0.72976337],\n",
       "       [-0.80840563],\n",
       "       [-0.98666739],\n",
       "       [-0.97534256],\n",
       "       [-0.95490451],\n",
       "       [-0.78606895],\n",
       "       [-0.956772  ],\n",
       "       [ 0.21824385],\n",
       "       [-0.97381323],\n",
       "       [-0.39462964],\n",
       "       [ 0.21703204],\n",
       "       [-0.95778894],\n",
       "       [ 1.09180491],\n",
       "       [-0.70300234],\n",
       "       [-0.96034928],\n",
       "       [-0.96637227],\n",
       "       [-0.952905  ],\n",
       "       [ 0.49914529],\n",
       "       [-0.60033318],\n",
       "       [-0.56275683],\n",
       "       [-0.98606406],\n",
       "       [-0.61398465],\n",
       "       [-0.98073238],\n",
       "       [-0.70136515],\n",
       "       [-0.95431171],\n",
       "       [ 0.20280954],\n",
       "       [-0.59251377],\n",
       "       [-0.96130852],\n",
       "       [-0.38882169],\n",
       "       [-0.96244354],\n",
       "       [-0.97641537],\n",
       "       [-0.9785084 ],\n",
       "       [ 1.22272373],\n",
       "       [-0.97264758],\n",
       "       [-0.27593887],\n",
       "       [-0.95657721],\n",
       "       [-0.53563718],\n",
       "       [-0.65674431],\n",
       "       [-0.5220027 ],\n",
       "       [ 0.47083907],\n",
       "       [-0.1826793 ],\n",
       "       [-0.55973119],\n",
       "       [ 0.07442707],\n",
       "       [ 1.01485605],\n",
       "       [-0.94834754],\n",
       "       [-0.97233133],\n",
       "       [-0.26948379],\n",
       "       [ 1.77466109],\n",
       "       [ 1.05833783],\n",
       "       [-0.78691066],\n",
       "       [ 0.08779012],\n",
       "       [-0.05010595],\n",
       "       [-0.19264644],\n",
       "       [-0.10236283],\n",
       "       [ 0.43485375],\n",
       "       [-0.97597705],\n",
       "       [-0.96181761],\n",
       "       [-0.96527993],\n",
       "       [-0.97497646],\n",
       "       [ 1.28836933],\n",
       "       [-0.93092898],\n",
       "       [-0.43854624],\n",
       "       [-0.29026793],\n",
       "       [-0.36545104],\n",
       "       [-0.43009637],\n",
       "       [-0.92832767],\n",
       "       [ 1.00739658],\n",
       "       [ 0.7191908 ],\n",
       "       [ 0.15749898],\n",
       "       [ 0.76601908],\n",
       "       [-0.01417297],\n",
       "       [-0.83586868],\n",
       "       [ 0.05748605],\n",
       "       [-0.14713831],\n",
       "       [-0.28128327],\n",
       "       [-0.96446293],\n",
       "       [-0.01579428],\n",
       "       [ 0.56196507],\n",
       "       [-0.28466785],\n",
       "       [ 0.32544563],\n",
       "       [-0.95649264],\n",
       "       [ 0.54311966],\n",
       "       [-0.96463947],\n",
       "       [-0.6037132 ],\n",
       "       [ 1.91984524],\n",
       "       [ 0.24770563],\n",
       "       [-0.46925437],\n",
       "       [ 0.01934846],\n",
       "       [-0.9736237 ],\n",
       "       [-0.99822283],\n",
       "       [-0.4245344 ],\n",
       "       [ 0.46261039],\n",
       "       [-0.61387839],\n",
       "       [ 0.31637257],\n",
       "       [-0.94953558],\n",
       "       [-0.17326352],\n",
       "       [ 0.47083794],\n",
       "       [-0.96138709],\n",
       "       [-0.96254761],\n",
       "       [-0.96299495],\n",
       "       [-0.45491026],\n",
       "       [ 0.26654702],\n",
       "       [ 0.14765047],\n",
       "       [ 1.41952194],\n",
       "       [-0.23065971],\n",
       "       [ 0.08536914],\n",
       "       [ 1.08172045],\n",
       "       [ 0.30007783],\n",
       "       [ 0.36201164],\n",
       "       [ 0.66107808],\n",
       "       [ 0.27710195],\n",
       "       [ 0.73478221],\n",
       "       [ 0.71000296],\n",
       "       [ 0.91298288],\n",
       "       [ 0.53125763],\n",
       "       [ 1.97765846],\n",
       "       [-0.21461052],\n",
       "       [ 0.09867919],\n",
       "       [-0.96449071],\n",
       "       [-0.98346879],\n",
       "       [-0.99217442],\n",
       "       [ 2.38076475],\n",
       "       [ 2.37012005],\n",
       "       [ 0.18230719],\n",
       "       [ 1.74165181],\n",
       "       [ 0.13648491],\n",
       "       [ 1.14837495],\n",
       "       [ 2.32168358],\n",
       "       [ 0.32954712],\n",
       "       [ 1.53329822],\n",
       "       [-0.70520193],\n",
       "       [-0.1369108 ],\n",
       "       [-0.00494969],\n",
       "       [-0.29834062],\n",
       "       [ 0.94979295],\n",
       "       [ 0.49507826],\n",
       "       [ 0.49586814],\n",
       "       [-0.96958961],\n",
       "       [ 0.19797755],\n",
       "       [ 0.07091998],\n",
       "       [ 1.15538616],\n",
       "       [ 0.42979126],\n",
       "       [ 1.9546895 ],\n",
       "       [-0.10912632],\n",
       "       [ 0.04487339],\n",
       "       [ 1.98729017],\n",
       "       [ 1.88200918],\n",
       "       [ 0.285275  ],\n",
       "       [ 0.74343204],\n",
       "       [ 0.06078157],\n",
       "       [ 1.81904277],\n",
       "       [-0.74320558],\n",
       "       [ 0.60470942],\n",
       "       [-0.38154069],\n",
       "       [-0.03728463],\n",
       "       [ 2.2435597 ],\n",
       "       [ 0.46341394],\n",
       "       [-0.29428956],\n",
       "       [ 0.75880862],\n",
       "       [-0.94541926],\n",
       "       [ 1.0575578 ],\n",
       "       [ 0.58149166],\n",
       "       [-0.96694966],\n",
       "       [ 0.5079037 ],\n",
       "       [-0.2402049 ],\n",
       "       [ 2.33627957],\n",
       "       [ 0.93751017],\n",
       "       [-0.15290375],\n",
       "       [-0.96729755],\n",
       "       [-0.55088057],\n",
       "       [-0.37745737],\n",
       "       [ 0.33190186],\n",
       "       [ 1.40094791],\n",
       "       [-0.2586277 ],\n",
       "       [-0.46413029],\n",
       "       [ 1.55732625],\n",
       "       [ 0.26692453],\n",
       "       [ 2.12018593],\n",
       "       [ 0.27108112],\n",
       "       [ 0.05232952],\n",
       "       [-0.50991044],\n",
       "       [ 0.27962474],\n",
       "       [-0.43953823],\n",
       "       [-0.95033933],\n",
       "       [ 0.83840862],\n",
       "       [ 0.6995451 ],\n",
       "       [ 0.38167649],\n",
       "       [ 0.4429353 ],\n",
       "       [ 0.81161772],\n",
       "       [-0.55548725],\n",
       "       [ 0.30663561],\n",
       "       [ 0.05035813],\n",
       "       [ 2.63479318],\n",
       "       [ 1.21177693],\n",
       "       [ 0.29570076],\n",
       "       [-0.14872966],\n",
       "       [ 0.4758808 ],\n",
       "       [-0.16326028],\n",
       "       [-0.19939259],\n",
       "       [ 1.15456588],\n",
       "       [-0.34013711],\n",
       "       [ 1.02257206],\n",
       "       [ 0.47083279],\n",
       "       [ 0.15226608],\n",
       "       [ 2.52118629],\n",
       "       [ 0.86411327],\n",
       "       [ 0.51330075],\n",
       "       [-0.96441729],\n",
       "       [-0.01980751],\n",
       "       [-0.68181034],\n",
       "       [ 0.22389862],\n",
       "       [ 0.02100132],\n",
       "       [-0.05415303],\n",
       "       [ 0.5455284 ],\n",
       "       [-0.02939031],\n",
       "       [-0.05262588],\n",
       "       [ 0.35756873],\n",
       "       [-0.0348312 ],\n",
       "       [ 0.07347428],\n",
       "       [ 1.99235647],\n",
       "       [-0.11425121],\n",
       "       [ 0.79215218],\n",
       "       [ 0.31871101],\n",
       "       [-0.94410055],\n",
       "       [ 0.22196614],\n",
       "       [-0.18024871],\n",
       "       [ 0.20120786],\n",
       "       [-0.16788153],\n",
       "       [ 1.34517724],\n",
       "       [ 0.70969123],\n",
       "       [ 0.33905881],\n",
       "       [ 0.12386804],\n",
       "       [-0.67048865],\n",
       "       [ 0.55463638],\n",
       "       [ 0.39453645],\n",
       "       [ 1.81573949],\n",
       "       [ 2.06604411],\n",
       "       [ 2.07978902],\n",
       "       [ 1.21138738],\n",
       "       [ 0.07124096],\n",
       "       [-0.58746869],\n",
       "       [-0.01692502],\n",
       "       [ 0.14830835],\n",
       "       [ 0.1612724 ],\n",
       "       [ 0.28783914],\n",
       "       [-0.19772296],\n",
       "       [ 1.19406971],\n",
       "       [ 0.25853547],\n",
       "       [ 0.49694838],\n",
       "       [ 2.08731459],\n",
       "       [ 0.77774   ],\n",
       "       [-0.43103831],\n",
       "       [ 0.48030998],\n",
       "       [-0.18506217],\n",
       "       [ 0.26121596],\n",
       "       [ 0.2344694 ],\n",
       "       [ 0.62428713],\n",
       "       [ 0.75955377],\n",
       "       [-0.07688669],\n",
       "       [ 0.31487348],\n",
       "       [ 0.21196453],\n",
       "       [-0.96064989],\n",
       "       [-0.4594657 ],\n",
       "       [ 0.35751006],\n",
       "       [ 0.91323801],\n",
       "       [-0.33101348],\n",
       "       [ 0.05089168],\n",
       "       [ 0.61568618],\n",
       "       [ 3.01180661],\n",
       "       [-0.95309754],\n",
       "       [ 0.26513327],\n",
       "       [-0.94688921],\n",
       "       [-0.00334911],\n",
       "       [ 1.16585771],\n",
       "       [ 0.81166401],\n",
       "       [ 0.47904499],\n",
       "       [ 0.33233611],\n",
       "       [ 0.8070754 ],\n",
       "       [-0.96288788],\n",
       "       [ 0.16657405],\n",
       "       [-0.94055552],\n",
       "       [ 0.7197508 ],\n",
       "       [ 0.60912524],\n",
       "       [ 0.06756253],\n",
       "       [ 0.44162969],\n",
       "       [ 0.30499375],\n",
       "       [ 0.47591309],\n",
       "       [ 0.17972071],\n",
       "       [ 0.1940447 ],\n",
       "       [ 0.54569559],\n",
       "       [-0.19323143],\n",
       "       [-0.92247717],\n",
       "       [-0.93285508],\n",
       "       [ 0.15106144],\n",
       "       [-0.35941912],\n",
       "       [-0.53519732],\n",
       "       [ 0.60854243],\n",
       "       [-0.20635136],\n",
       "       [-0.96137895],\n",
       "       [ 0.39024557],\n",
       "       [ 0.14181897],\n",
       "       [ 0.18806721],\n",
       "       [ 1.28787856],\n",
       "       [-0.95298711],\n",
       "       [-0.31017663],\n",
       "       [ 0.0538299 ],\n",
       "       [ 0.29395915],\n",
       "       [-0.28689041],\n",
       "       [ 0.14267201],\n",
       "       [-0.62069012],\n",
       "       [ 0.48477415],\n",
       "       [ 0.07791559],\n",
       "       [ 0.1319477 ],\n",
       "       [ 0.53849825],\n",
       "       [ 0.29886578],\n",
       "       [ 0.74194892],\n",
       "       [-0.31757478],\n",
       "       [ 0.42917117],\n",
       "       [-0.9650571 ],\n",
       "       [ 0.14562176],\n",
       "       [ 1.66575842],\n",
       "       [ 0.35192218],\n",
       "       [-0.95526491],\n",
       "       [-0.13013693],\n",
       "       [ 0.69218291],\n",
       "       [-0.02014805],\n",
       "       [ 0.39610086],\n",
       "       [-0.93880522],\n",
       "       [-0.14447139],\n",
       "       [ 0.31273816],\n",
       "       [-0.23856225],\n",
       "       [-0.93699043],\n",
       "       [-0.93848589],\n",
       "       [ 0.13915126],\n",
       "       [ 0.486072  ],\n",
       "       [-0.01728656],\n",
       "       [ 0.61804611],\n",
       "       [ 0.40045315],\n",
       "       [ 0.60577856],\n",
       "       [ 0.42650483],\n",
       "       [ 0.46261479],\n",
       "       [-0.9403916 ],\n",
       "       [-0.39297694],\n",
       "       [ 0.63807724],\n",
       "       [ 1.15074904],\n",
       "       [-0.80583346],\n",
       "       [-0.49008676],\n",
       "       [ 0.9417838 ],\n",
       "       [-0.97256073],\n",
       "       [-0.96531629],\n",
       "       [ 0.62864192],\n",
       "       [ 0.79756095],\n",
       "       [ 0.02638671],\n",
       "       [-0.82055931],\n",
       "       [ 0.05750537],\n",
       "       [-0.07732568],\n",
       "       [-0.95569044],\n",
       "       [ 0.35078502],\n",
       "       [-0.97770889],\n",
       "       [ 0.10838627],\n",
       "       [ 0.44723352],\n",
       "       [ 0.37410326],\n",
       "       [ 1.03786716],\n",
       "       [-0.93852829],\n",
       "       [-0.42838542],\n",
       "       [ 0.93773426],\n",
       "       [-0.5473005 ],\n",
       "       [ 0.2194059 ],\n",
       "       [ 0.00804899],\n",
       "       [ 0.13284978],\n",
       "       [ 0.43234113],\n",
       "       [ 0.01101284],\n",
       "       [ 0.43809883],\n",
       "       [-0.41872997],\n",
       "       [ 0.44655929],\n",
       "       [-0.02941089],\n",
       "       [-0.51824779],\n",
       "       [-0.38936807],\n",
       "       [ 0.14700436],\n",
       "       [-0.95478644],\n",
       "       [ 0.3296297 ],\n",
       "       [ 0.75994527],\n",
       "       [ 0.45119722],\n",
       "       [-0.04284505],\n",
       "       [-0.14597256],\n",
       "       [ 0.03916377],\n",
       "       [ 0.55231415],\n",
       "       [ 0.55131031],\n",
       "       [-0.20144911],\n",
       "       [ 0.94303977],\n",
       "       [-0.74777642],\n",
       "       [ 0.4783339 ],\n",
       "       [ 0.517784  ],\n",
       "       [ 0.00619651],\n",
       "       [ 0.7434527 ],\n",
       "       [ 0.5909807 ],\n",
       "       [ 0.40698082],\n",
       "       [ 0.58593   ],\n",
       "       [ 0.032212  ],\n",
       "       [ 0.60269327],\n",
       "       [ 0.70596582],\n",
       "       [ 0.12720234],\n",
       "       [-0.94770466],\n",
       "       [ 0.38583263],\n",
       "       [-0.95649205],\n",
       "       [ 0.14305337],\n",
       "       [ 0.14463514],\n",
       "       [ 0.69563898],\n",
       "       [ 0.1298351 ],\n",
       "       [-0.39273573],\n",
       "       [ 0.03287281],\n",
       "       [-0.94764545],\n",
       "       [-0.9542192 ],\n",
       "       [ 0.08952171],\n",
       "       [ 0.53143057],\n",
       "       [-0.53699674],\n",
       "       [ 0.43273108],\n",
       "       [-0.93685323],\n",
       "       [-0.96055539],\n",
       "       [ 0.79250066],\n",
       "       [-0.96040824],\n",
       "       [ 0.80858257],\n",
       "       [ 0.00732786],\n",
       "       [ 0.30175963],\n",
       "       [-0.93122228],\n",
       "       [-0.27624631],\n",
       "       [ 0.01420011],\n",
       "       [-0.91762979],\n",
       "       [ 0.52524272],\n",
       "       [-0.46808163],\n",
       "       [-0.93005361],\n",
       "       [ 0.15095843],\n",
       "       [ 0.41932891],\n",
       "       [-0.10232584],\n",
       "       [-0.19127098],\n",
       "       [ 0.0939523 ],\n",
       "       [-0.33325763],\n",
       "       [ 0.08693368],\n",
       "       [ 0.93606929],\n",
       "       [ 0.52666963],\n",
       "       [ 0.19789467],\n",
       "       [ 0.79067683],\n",
       "       [ 1.06523428],\n",
       "       [ 0.003827  ],\n",
       "       [ 0.54291959],\n",
       "       [ 0.22266362],\n",
       "       [-0.96151766],\n",
       "       [ 0.22105846],\n",
       "       [-0.10482776],\n",
       "       [ 0.58012023],\n",
       "       [ 0.52219096],\n",
       "       [-0.74550626],\n",
       "       [ 0.04372924],\n",
       "       [ 0.43929464],\n",
       "       [ 0.17319736],\n",
       "       [ 0.24857307],\n",
       "       [-0.92578778],\n",
       "       [ 0.09351347],\n",
       "       [ 0.17165611],\n",
       "       [-0.28807512],\n",
       "       [ 0.28243544],\n",
       "       [-0.77031704],\n",
       "       [-0.27336768],\n",
       "       [-0.95343788],\n",
       "       [ 0.22537064],\n",
       "       [-0.09915967],\n",
       "       [-0.96186198],\n",
       "       [-0.43654104],\n",
       "       [-0.41059786],\n",
       "       [-0.72285532],\n",
       "       [-0.68929474],\n",
       "       [ 0.75566296],\n",
       "       [-0.36204521],\n",
       "       [ 0.04401722],\n",
       "       [-0.19731458],\n",
       "       [ 0.24555995],\n",
       "       [ 0.47475081],\n",
       "       [-0.10829936],\n",
       "       [ 0.2205585 ],\n",
       "       [-0.94909328],\n",
       "       [ 0.72269677],\n",
       "       [-0.31621904],\n",
       "       [-0.93717777],\n",
       "       [-0.46534046],\n",
       "       [ 0.18443098],\n",
       "       [ 1.10265351],\n",
       "       [ 0.59033312],\n",
       "       [ 0.68326414],\n",
       "       [-0.60408229],\n",
       "       [-0.31187292],\n",
       "       [ 0.60625925],\n",
       "       [ 0.76420239],\n",
       "       [-0.94292526],\n",
       "       [-0.33864695],\n",
       "       [ 0.18501776],\n",
       "       [-0.9489591 ],\n",
       "       [-0.52405241],\n",
       "       [-0.94272085],\n",
       "       [-0.19056925],\n",
       "       [ 0.25406937],\n",
       "       [-0.92864978],\n",
       "       [-0.95355418],\n",
       "       [ 0.79459377],\n",
       "       [ 0.12618333],\n",
       "       [ 0.04697955],\n",
       "       [ 0.57135678],\n",
       "       [-0.54248745]])"
      ]
     },
     "execution_count": 109,
     "metadata": {},
     "output_type": "execute_result"
    }
   ],
   "source": [
    "data_meaned=X - np.mean(X ,axis=0)\n",
    "data_meaned\n",
    "pca = PCA(n_components=1)\n",
    "X_reduced=principalComponents = pca.fit_transform(data_meaned)\n",
    "principalDf = pd.DataFrame(data = principalComponents\n",
    "             , columns = ['principal component 1'])\n",
    "principalComponents"
   ]
  },
  {
   "cell_type": "code",
   "execution_count": 110,
   "id": "a9c9ebab",
   "metadata": {},
   "outputs": [
    {
     "data": {
      "image/png": "[encoded data removed]",
      "text/plain": [
       "<Figure size 432x288 with 1 Axes>"
      ]
     },
     "metadata": {
      "needs_background": "light"
     },
     "output_type": "display_data"
    },
    {
     "data": {
      "image/png": "[encoded data removed]",
      "text/plain": [
       "<Figure size 432x288 with 1 Axes>"
      ]
     },
     "metadata": {
      "needs_background": "light"
     },
     "output_type": "display_data"
    }
   ],
   "source": [
    "plt.plot(principalComponents,len(principalComponents)*[1], \"x\")\n",
    "\n",
    "tmparr=len(principalComponents)*[1]\n",
    "fig, ax = plt.subplots()\n",
    "ax.scatter(principalComponents,len(principalComponents)*[1],)\n",
    "for i in range(0,len(principalComponents)):\n",
    "    ax.annotate(i, (principalComponents[i], tmparr[i]))"
   ]
  },
  {
   "cell_type": "markdown",
   "id": "eac37efb",
   "metadata": {},
   "source": [
    "* Outlier finding"
   ]
  },
  {
   "cell_type": "code",
   "execution_count": 111,
   "id": "3b3030fd",
   "metadata": {},
   "outputs": [
    {
     "name": "stdout",
     "output_type": "stream",
     "text": [
      "3.94526433920795 liverind    0.033082\n",
      "heartind    0.002518\n",
      "appind      0.012659\n",
      "batind      0.002056\n",
      "tailind     0.860465\n",
      "ADWBind     0.200000\n",
      "gonind      3.945264\n",
      "BMI         0.919416\n",
      "Name: 322, dtype: float64\n",
      "0.9539210028660944\n",
      "   liverind  heartind    appind    batind   tailind   ADWBind    gonind       BMI\n",
      "0  0.036364  0.005091  0.013636  0.001864  0.714286  0.454545  0.000000  0.199546\n",
      "1  0.010440  0.004396  0.008791  0.000742  0.666667  0.302198  1.648659  0.478632\n",
      "2  0.051200  0.006133  0.020800  0.001467  0.904762  0.653333  0.000000  0.340136\n",
      "3  0.047333  0.005556  0.105111  0.002178  0.869565  0.260000  2.653242  0.340265\n",
      "4  0.052558  0.005349  0.021628  0.001884  0.720000  0.500000  0.000000  0.275200\n"
     ]
    }
   ],
   "source": [
    "data.loc[322]\n",
    "print(max(data.loc[:,'gonind']),data.loc[322])\n",
    "print(np.mean(data.loc[:,'gonind']))\n",
    "print(data.head())"
   ]
  },
  {
   "cell_type": "code",
   "execution_count": 112,
   "id": "4ccda2db",
   "metadata": {},
   "outputs": [],
   "source": [
    "AC_Single_SI_list=[]\n",
    "AC_Complete_SI_list=[]\n",
    "AC_Average_SI_list=[]\n",
    "AC_Ward_SI_list=[]"
   ]
  },
  {
   "cell_type": "code",
   "execution_count": 113,
   "id": "d3a9ea18",
   "metadata": {
    "scrolled": true
   },
   "outputs": [
    {
     "name": "stdout",
     "output_type": "stream",
     "text": [
      "[0 0 0 0 0 0 0 0 0 0 0 0 0 0 0 0 0 0 0 0 0 0 0 0 0 0 0 0 0 0 0 0 0 0 0 0 0\n",
      " 0 0 0 0 0 0 0 0 0 0 0 0 0 0 0 0 0 0 0 0 0 0 0 0 0 0 0 0 0 0 0 0 0 0 0 0 0\n",
      " 0 0 0 0 0 0 0 0 0 0 0 0 0 0 0 0 0 0 0 0 0 0 0 0 0 0 0 0 0 0 0 0 0 0 0 0 0\n",
      " 0 0 0 0 0 0 0 0 0 0 0 0 0 0 0 0 0 0 0 0 0 0 0 0 0 0 0 0 0 0 0 0 0 0 0 0 0\n",
      " 0 0 0 0 0 0 0 0 0 0 0 0 0 0 0 0 0 0 0 0 0 0 0 0 0 0 0 0 0 0 0 0 0 0 0 0 0\n",
      " 0 0 0 0 0 0 0 0 0 0 0 0 0 0 0 0 0 0 0 0 0 0 0 0 0 0 0 0 0 0 0 0 0 0 0 0 0\n",
      " 0 0 0 0 0 0 0 0 0 0 0 0 0 0 0 0 0 0 0 0 0 0 0 0 0 0 0 0 0 0 0 0 0 0 0 0 0\n",
      " 0 0 0 0 0 0 0 0 0 0 0 0 0 0 0 0 0 0 0 0 0 0 0 0 0 0 0 0 0 0 0 0 0 0 0 0 0\n",
      " 0 0 0 0 0 0 0 0 0 0 0 0 0 0 0 0 0 0 0 0 0 0 0 0 0 0 1 0 0 0 0 0 0 0 0 0 0\n",
      " 0 0 0 0 0 0 0 0 0 0 0 0 0 0 0 0 0 0 0 0 0 0 0 0 0 0 0 0 0 0 0 0 0 0 0 0 0\n",
      " 0 0 0 0 0 0 0 0 0 0 0 0 0 0 0 0 0 0 0 0 0 0 0 0 0 0 0 0 0 0 0 0 0 0 0 0 0\n",
      " 0 0 0 0 0 0 0 0 0 0 0 0 0 0 0 0 0 0 0 0 0 0 0 0 0 0 0 0 0 0 0 0 0 0 0 0 0\n",
      " 0 0 0 0 0 0 0 0 0 0 0 0 0 0 0 0 0 0 0 0 0 0 0 0 0 0 0 0 0 0 0 0 0 0 0 0 0\n",
      " 0 0 0 0 0 0 0 0 0 0 0 0 0 0 0 0 0 0 0 0 0 0 0 0 0 0 0 0 0 0 0 0 0 0 0 0 0\n",
      " 0 0 0 0 0 0 0 0 0 0 0 0 0 0 0 0 0 0 0 0 0 0 0 0 0 0 0 0 0 0 0 0 0 0 0 0 0\n",
      " 0 0 0 0 0 0]\n"
     ]
    },
    {
     "data": {
      "image/png": "[encoded data removed]",
      "text/plain": [
       "<Figure size 432x288 with 1 Axes>"
      ]
     },
     "metadata": {
      "needs_background": "light"
     },
     "output_type": "display_data"
    },
    {
     "name": "stdout",
     "output_type": "stream",
     "text": [
      "[0 0 0 0 0 0 0 0 0 0 0 0 0 0 0 0 0 0 0 0 0 0 0 0 0 0 0 0 0 0 0 0 0 0 0 0 0\n",
      " 0 0 0 0 0 0 0 0 0 0 0 0 0 0 0 0 0 0 0 0 0 0 0 0 0 0 0 0 0 0 0 0 0 0 0 0 0\n",
      " 0 0 0 0 0 0 0 0 0 0 0 0 0 0 0 0 0 0 0 0 0 0 0 0 0 0 0 0 0 0 0 0 0 0 0 0 0\n",
      " 0 0 0 0 0 0 0 0 0 0 0 0 0 0 0 0 0 0 0 0 0 0 0 0 0 0 0 0 0 0 0 0 0 0 0 0 0\n",
      " 0 0 0 0 0 0 0 0 0 0 0 0 0 0 0 0 0 0 0 0 0 0 0 0 0 0 0 0 0 0 0 0 0 0 0 0 0\n",
      " 0 0 0 0 0 0 0 0 0 0 0 0 0 0 0 0 0 0 0 0 0 0 0 0 0 0 0 0 0 0 0 0 0 0 0 0 0\n",
      " 0 0 0 0 0 0 0 0 0 0 0 0 0 0 0 0 0 0 0 0 0 0 0 0 2 0 0 0 0 0 0 0 0 0 0 0 2\n",
      " 0 0 0 0 0 0 0 0 0 0 0 0 0 0 0 0 0 0 0 0 0 0 0 0 0 0 0 0 0 0 0 0 0 0 0 0 0\n",
      " 0 0 0 0 0 0 0 0 0 0 0 0 0 0 0 0 0 0 0 0 0 0 0 0 0 0 1 0 0 0 0 0 0 0 0 0 0\n",
      " 0 0 0 0 0 0 0 0 0 0 0 0 0 0 0 0 0 0 0 0 0 0 0 0 0 0 0 0 0 0 0 0 0 0 0 0 0\n",
      " 0 0 0 0 0 0 0 0 0 0 0 0 0 0 0 0 0 0 0 0 0 0 0 0 0 0 0 0 0 0 0 0 0 0 0 0 0\n",
      " 0 0 0 0 0 0 0 0 0 0 0 0 0 0 0 0 0 0 0 0 0 0 0 0 0 0 0 0 0 0 0 0 0 0 0 0 0\n",
      " 0 0 0 0 0 0 0 0 0 0 0 0 0 0 0 0 0 0 0 0 0 0 0 0 0 0 0 0 0 0 0 0 0 0 0 0 0\n",
      " 0 0 0 0 0 0 0 0 0 0 0 0 0 0 0 0 0 0 0 0 0 0 0 0 0 0 0 0 0 0 0 0 0 0 0 0 0\n",
      " 0 0 0 0 0 0 0 0 0 0 0 0 0 0 0 0 0 0 0 0 0 0 0 0 0 0 0 0 0 0 0 0 0 0 0 0 0\n",
      " 0 0 0 0 0 0]\n"
     ]
    },
    {
     "data": {
      "image/png": "[encoded data removed]",
      "text/plain": [
       "<Figure size 432x288 with 1 Axes>"
      ]
     },
     "metadata": {
      "needs_background": "light"
     },
     "output_type": "display_data"
    },
    {
     "name": "stdout",
     "output_type": "stream",
     "text": [
      "[0 0 0 0 0 0 0 0 0 0 0 0 0 0 0 0 0 0 0 0 0 0 0 0 0 0 0 0 0 0 0 0 0 0 0 0 0\n",
      " 0 0 0 0 0 0 0 0 0 0 0 0 0 0 0 0 0 0 0 0 0 0 0 0 0 0 0 0 0 0 0 0 0 0 0 0 0\n",
      " 0 0 0 0 0 0 0 0 0 0 0 0 0 0 0 0 0 0 0 0 0 0 0 0 0 0 0 0 0 0 0 0 0 0 0 0 0\n",
      " 0 0 0 0 0 0 0 0 0 0 0 0 0 0 0 0 0 0 0 0 0 0 0 0 0 0 0 0 0 0 0 0 0 0 0 0 0\n",
      " 0 0 0 0 0 0 0 0 0 0 0 0 0 0 0 0 0 0 0 0 0 0 0 0 0 0 0 1 1 0 0 0 0 1 0 0 0\n",
      " 0 0 0 0 0 0 0 0 0 0 0 0 0 0 0 0 0 0 0 0 0 0 0 0 1 0 0 0 0 0 0 0 0 0 1 0 0\n",
      " 0 0 0 0 0 0 0 0 0 0 0 0 0 0 0 0 0 0 0 0 0 0 0 0 2 0 0 0 0 0 0 0 0 0 0 0 2\n",
      " 0 0 0 0 0 0 0 0 0 0 0 0 0 0 0 0 0 0 0 0 0 0 0 0 0 0 0 0 0 0 0 0 0 0 0 0 0\n",
      " 0 0 0 0 0 0 0 0 0 0 0 0 0 0 0 0 0 0 0 0 0 0 0 0 0 0 3 0 0 0 0 0 0 0 0 0 0\n",
      " 0 0 0 0 0 0 0 0 0 0 0 0 0 0 0 0 0 0 0 0 0 0 0 0 0 0 0 0 0 0 0 0 0 0 0 0 0\n",
      " 0 0 0 0 0 0 0 0 0 0 0 0 0 0 0 0 0 0 0 0 0 0 0 0 0 0 0 0 0 0 0 0 0 0 0 0 0\n",
      " 0 0 0 0 0 0 0 0 0 0 0 0 0 0 0 0 0 0 0 0 0 0 0 0 0 0 0 0 0 0 0 0 0 0 0 0 0\n",
      " 0 0 0 0 0 0 0 0 0 0 0 0 0 0 0 0 0 0 0 0 0 0 0 0 0 0 0 0 0 0 0 0 0 0 0 0 0\n",
      " 0 0 0 0 0 0 0 0 0 0 0 0 0 0 0 0 0 0 0 0 0 0 0 0 0 0 0 0 0 0 0 0 0 0 0 0 0\n",
      " 0 0 0 0 0 0 0 0 0 0 0 0 0 0 0 0 0 0 0 0 0 0 0 0 0 0 0 0 0 0 0 0 0 0 0 0 0\n",
      " 0 0 0 0 0 0]\n"
     ]
    },
    {
     "data": {
      "image/png": "[encoded data removed]",
      "text/plain": [
       "<Figure size 432x288 with 1 Axes>"
      ]
     },
     "metadata": {
      "needs_background": "light"
     },
     "output_type": "display_data"
    },
    {
     "name": "stdout",
     "output_type": "stream",
     "text": [
      "[4 4 4 2 4 4 4 4 4 4 4 4 4 4 4 4 4 4 4 4 4 4 4 4 4 4 4 4 4 4 4 4 4 4 4 4 4\n",
      " 4 4 4 4 4 4 4 4 4 4 4 4 4 4 4 4 4 4 4 4 4 4 4 4 4 4 4 4 4 4 4 4 4 4 4 4 4\n",
      " 4 4 4 4 4 4 4 4 4 4 4 4 4 4 4 4 4 4 4 4 4 4 4 4 4 4 4 2 4 4 4 4 4 4 4 4 4\n",
      " 4 4 4 4 4 4 4 4 4 4 4 4 4 4 4 4 4 4 4 4 4 4 4 4 4 4 4 2 4 4 4 4 4 4 4 4 4\n",
      " 4 4 4 4 4 4 4 4 4 4 4 4 4 4 4 4 4 4 4 4 4 2 4 4 4 4 4 1 1 4 2 4 4 1 4 2 4\n",
      " 4 4 4 4 4 4 4 4 4 4 4 2 4 4 2 2 4 4 4 2 4 4 4 4 1 4 4 4 4 4 4 4 4 4 1 4 4\n",
      " 4 4 4 4 4 4 4 2 4 2 4 4 4 4 4 4 4 4 4 4 4 4 4 4 0 4 4 4 4 4 4 4 4 4 4 4 0\n",
      " 4 4 4 4 4 4 4 4 4 4 4 4 4 4 2 4 4 4 4 4 4 4 4 4 4 4 4 4 4 4 2 2 2 4 4 4 4\n",
      " 4 4 4 4 4 4 4 2 4 4 4 4 4 4 4 4 4 4 4 4 4 4 4 4 4 4 3 4 4 4 4 4 4 4 4 4 4\n",
      " 4 4 4 4 4 4 4 4 4 4 4 4 4 4 4 4 4 4 4 4 4 4 4 4 4 4 4 4 4 4 4 4 4 4 4 4 4\n",
      " 4 4 4 4 2 4 4 4 4 4 4 4 4 4 4 4 4 4 4 4 4 4 4 4 4 4 4 4 4 4 4 4 4 4 4 4 4\n",
      " 4 4 4 4 4 4 4 4 4 4 4 4 4 4 4 4 4 4 4 4 4 4 4 4 4 4 4 4 4 4 4 4 4 4 4 4 4\n",
      " 4 4 4 4 4 4 4 4 4 4 4 4 4 4 4 4 4 4 4 4 4 4 4 4 4 4 4 4 4 4 4 4 4 4 4 4 4\n",
      " 4 4 4 4 4 4 4 4 4 4 4 4 4 4 4 4 4 4 4 4 4 4 4 4 4 4 4 4 4 4 4 4 4 4 4 4 4\n",
      " 4 4 4 4 4 4 4 4 4 4 4 4 4 4 4 4 4 4 4 4 4 4 4 4 4 4 4 4 4 4 4 4 4 4 4 4 4\n",
      " 4 4 4 4 4 4]\n"
     ]
    },
    {
     "data": {
      "image/png": "[encoded data removed]",
      "text/plain": [
       "<Figure size 432x288 with 1 Axes>"
      ]
     },
     "metadata": {
      "needs_background": "light"
     },
     "output_type": "display_data"
    },
    {
     "name": "stdout",
     "output_type": "stream",
     "text": [
      "[4 4 4 0 4 4 4 4 4 4 4 4 4 4 4 4 4 4 4 4 4 4 4 4 4 4 4 4 4 4 4 4 4 4 4 4 4\n",
      " 4 4 4 4 4 4 4 4 4 4 4 4 4 4 4 4 4 4 4 4 4 4 4 4 4 4 4 4 4 4 4 4 4 4 4 4 4\n",
      " 4 4 4 4 4 4 4 4 4 4 4 4 4 4 4 4 4 4 4 4 4 4 4 4 4 4 4 0 4 4 4 4 4 4 4 4 4\n",
      " 4 4 4 4 4 4 4 4 4 4 4 4 4 4 4 4 4 4 4 4 4 4 4 4 4 4 4 0 4 4 4 4 4 4 4 4 4\n",
      " 4 4 4 4 4 4 4 4 4 4 4 4 4 4 4 4 4 4 4 4 4 0 4 4 4 4 4 1 1 4 0 4 4 1 4 0 4\n",
      " 4 4 4 4 4 4 4 4 4 4 4 0 4 4 0 0 4 4 4 0 4 4 4 4 1 4 4 4 4 4 4 4 4 4 1 4 4\n",
      " 4 4 4 4 4 4 4 0 4 0 4 4 4 4 4 4 4 4 4 4 4 4 4 4 5 4 4 4 4 4 4 4 4 4 4 4 2\n",
      " 4 4 4 4 4 4 4 4 4 4 4 4 4 4 0 4 4 4 4 4 4 4 4 4 4 4 4 4 4 4 0 0 0 4 4 4 4\n",
      " 4 4 4 4 4 4 4 0 4 4 4 4 4 4 4 4 4 4 4 4 4 4 4 4 4 4 3 4 4 4 4 4 4 4 4 4 4\n",
      " 4 4 4 4 4 4 4 4 4 4 4 4 4 4 4 4 4 4 4 4 4 4 4 4 4 4 4 4 4 4 4 4 4 4 4 4 4\n",
      " 4 4 4 4 0 4 4 4 4 4 4 4 4 4 4 4 4 4 4 4 4 4 4 4 4 4 4 4 4 4 4 4 4 4 4 4 4\n",
      " 4 4 4 4 4 4 4 4 4 4 4 4 4 4 4 4 4 4 4 4 4 4 4 4 4 4 4 4 4 4 4 4 4 4 4 4 4\n",
      " 4 4 4 4 4 4 4 4 4 4 4 4 4 4 4 4 4 4 4 4 4 4 4 4 4 4 4 4 4 4 4 4 4 4 4 4 4\n",
      " 4 4 4 4 4 4 4 4 4 4 4 4 4 4 4 4 4 4 4 4 4 4 4 4 4 4 4 4 4 4 4 4 4 4 4 4 4\n",
      " 4 4 4 4 4 4 4 4 4 4 4 4 4 4 4 4 4 4 4 4 4 4 4 4 4 4 4 4 4 4 4 4 4 4 4 4 4\n",
      " 4 4 4 4 4 4]\n"
     ]
    },
    {
     "data": {
      "image/png": "[encoded data removed]",
      "text/plain": [
       "<Figure size 432x288 with 1 Axes>"
      ]
     },
     "metadata": {
      "needs_background": "light"
     },
     "output_type": "display_data"
    },
    {
     "name": "stdout",
     "output_type": "stream",
     "text": [
      "[4 4 4 1 4 4 4 4 4 4 4 4 4 4 4 4 4 4 4 4 4 4 4 4 4 4 4 4 4 4 4 4 4 4 4 4 4\n",
      " 4 4 4 4 4 4 4 4 4 4 4 4 4 4 4 4 4 4 4 4 4 4 4 4 4 4 4 4 4 4 4 4 4 4 4 4 4\n",
      " 4 4 4 4 4 4 4 4 4 4 4 4 4 4 4 4 4 4 4 4 4 4 4 4 4 4 4 1 4 4 4 4 4 4 4 4 4\n",
      " 4 4 4 4 4 4 4 4 4 4 4 4 4 4 4 4 4 4 4 4 4 4 4 4 4 4 4 1 4 4 4 4 4 4 4 4 4\n",
      " 4 4 4 4 4 4 4 4 4 4 4 4 4 4 4 4 4 4 4 4 4 1 4 4 4 4 4 0 0 4 1 4 4 0 4 2 4\n",
      " 4 4 4 4 4 4 4 4 4 4 4 1 4 4 1 1 4 4 4 1 4 4 4 4 0 4 4 4 4 4 4 4 4 4 0 4 4\n",
      " 4 4 4 4 4 4 4 2 4 1 4 4 4 4 4 4 4 4 4 4 4 4 4 4 5 4 4 4 4 4 4 4 4 4 4 4 6\n",
      " 4 4 4 4 4 4 4 4 4 4 4 4 4 4 1 4 4 4 4 4 4 4 4 4 4 4 4 4 4 4 1 1 1 4 4 4 4\n",
      " 4 4 4 4 4 4 4 1 4 4 4 4 4 4 4 4 4 4 4 4 4 4 4 4 4 4 3 4 4 4 4 4 4 4 4 4 4\n",
      " 4 4 4 4 4 4 4 4 4 4 4 4 4 4 4 4 4 4 4 4 4 4 4 4 4 4 4 4 4 4 4 4 4 4 4 4 4\n",
      " 4 4 4 4 1 4 4 4 4 4 4 4 4 4 4 4 4 4 4 4 4 4 4 4 4 4 4 4 4 4 4 4 4 4 4 4 4\n",
      " 4 4 4 4 4 4 4 4 4 4 4 4 4 4 4 4 4 4 4 4 4 4 4 4 4 4 4 4 4 4 4 4 4 4 4 4 4\n",
      " 4 4 4 4 4 4 4 4 4 4 4 4 4 4 4 4 4 4 4 4 4 4 4 4 4 4 4 4 4 4 4 4 4 4 4 4 4\n",
      " 4 4 4 4 4 4 4 4 4 4 4 4 4 4 4 4 4 4 4 4 4 4 4 4 4 4 4 4 4 4 4 4 4 4 4 4 4\n",
      " 4 4 4 4 4 4 4 4 4 4 4 4 4 4 4 4 4 4 4 4 4 4 4 4 4 4 4 4 4 4 4 4 4 4 4 4 4\n",
      " 4 4 4 4 4 4]\n"
     ]
    },
    {
     "data": {
      "image/png": "[encoded data removed]",
      "text/plain": [
       "<Figure size 432x288 with 1 Axes>"
      ]
     },
     "metadata": {
      "needs_background": "light"
     },
     "output_type": "display_data"
    },
    {
     "name": "stdout",
     "output_type": "stream",
     "text": [
      "[1 1 1 0 1 1 1 1 1 1 1 1 1 1 1 1 1 1 1 1 1 1 1 1 1 1 1 1 1 1 1 1 1 1 1 1 1\n",
      " 1 1 1 1 1 1 1 1 1 1 1 1 1 1 1 1 1 1 1 1 1 1 1 1 1 1 1 1 1 1 1 1 1 1 1 1 1\n",
      " 1 1 1 1 1 1 1 1 1 1 1 1 1 1 1 1 1 1 1 1 1 1 1 1 1 1 1 0 1 1 1 1 1 1 1 1 1\n",
      " 1 1 1 1 1 1 1 1 1 1 1 1 1 1 1 1 1 1 1 1 1 1 1 1 1 1 1 0 1 1 1 1 1 1 1 1 1\n",
      " 1 1 1 1 1 1 1 1 1 1 1 1 1 1 1 1 1 1 1 1 1 0 1 1 1 1 1 4 4 1 0 1 1 4 1 2 1\n",
      " 1 1 1 1 1 1 1 1 1 1 1 0 1 1 0 0 1 1 1 0 1 1 1 1 7 1 1 1 1 1 1 1 1 1 4 1 1\n",
      " 1 1 1 1 1 1 1 2 1 0 1 1 1 1 1 1 1 1 1 1 1 1 1 1 5 1 1 1 1 1 1 1 1 1 1 1 6\n",
      " 1 1 1 1 1 1 1 1 1 1 1 1 1 1 0 1 1 1 1 1 1 1 1 1 1 1 1 1 1 1 0 0 0 1 1 1 1\n",
      " 1 1 1 1 1 1 1 0 1 1 1 1 1 1 1 1 1 1 1 1 1 1 1 1 1 1 3 1 1 1 1 1 1 1 1 1 1\n",
      " 1 1 1 1 1 1 1 1 1 1 1 1 1 1 1 1 1 1 1 1 1 1 1 1 1 1 1 1 1 1 1 1 1 1 1 1 1\n",
      " 1 1 1 1 0 1 1 1 1 1 1 1 1 1 1 1 1 1 1 1 1 1 1 1 1 1 1 1 1 1 1 1 1 1 1 1 1\n",
      " 1 1 1 1 1 1 1 1 1 1 1 1 1 1 1 1 1 1 1 1 1 1 1 1 1 1 1 1 1 1 1 1 1 1 1 1 1\n",
      " 1 1 1 1 1 1 1 1 1 1 1 1 1 1 1 1 1 1 1 1 1 1 1 1 1 1 1 1 1 1 1 1 1 1 1 1 1\n",
      " 1 1 1 1 1 1 1 1 1 1 1 1 1 1 1 1 1 1 1 1 1 1 1 1 1 1 1 1 1 1 1 1 1 1 1 1 1\n",
      " 1 1 1 1 1 1 1 1 1 1 1 1 1 1 1 1 1 1 1 1 1 1 1 1 1 1 1 1 1 1 1 1 1 1 1 1 1\n",
      " 1 1 1 1 1 1]\n"
     ]
    },
    {
     "data": {
      "image/png": "[encoded data removed]",
      "text/plain": [
       "<Figure size 432x288 with 1 Axes>"
      ]
     },
     "metadata": {
      "needs_background": "light"
     },
     "output_type": "display_data"
    },
    {
     "data": {
      "text/plain": [
       "[0.674635700763251,\n",
       " 0.6249903386910827,\n",
       " 0.6032869040255087,\n",
       " 0.5659885934720146,\n",
       " 0.5634213991493586,\n",
       " 0.46447503039048,\n",
       " 0.4596095890259331]"
      ]
     },
     "execution_count": 113,
     "metadata": {},
     "output_type": "execute_result"
    }
   ],
   "source": [
    "for i in range (2,9) :\n",
    "    model = AgglomerativeClustering(n_clusters=i, affinity='euclidean', linkage='single')\n",
    "    model.fit(X_reduced)\n",
    "    labels = model.labels_\n",
    "    print(labels)\n",
    "    plt.hist(labels, bins=i,range=(0,i))\n",
    "    plt.show()\n",
    "    AC_Single_SI_list.append(skmet.silhouette_score(X_reduced, labels, metric='euclidean', sample_size=None, random_state=None))\n",
    "AC_Single_SI_list"
   ]
  },
  {
   "cell_type": "code",
   "execution_count": 114,
   "id": "e41f1e76",
   "metadata": {},
   "outputs": [
    {
     "name": "stdout",
     "output_type": "stream",
     "text": [
      "[0 0 0 1 0 0 0 0 0 0 0 0 0 0 0 0 0 0 0 0 0 0 0 0 0 0 0 0 0 0 0 0 0 0 0 0 0\n",
      " 0 0 0 0 0 0 0 0 0 0 0 0 0 0 0 0 0 0 0 0 0 0 0 0 0 0 0 0 0 0 0 0 0 0 0 0 0\n",
      " 0 0 0 0 0 0 0 0 0 0 0 0 0 0 0 0 0 0 0 0 0 0 0 0 0 0 0 1 0 0 0 0 0 0 0 0 0\n",
      " 0 0 0 0 0 0 0 0 0 0 0 0 0 0 0 0 0 0 0 0 0 0 0 0 0 0 0 1 0 0 0 0 0 0 0 0 0\n",
      " 0 0 0 0 0 0 0 0 0 0 0 0 0 0 0 0 0 0 0 0 0 1 0 0 0 0 0 1 1 0 1 0 0 1 0 1 0\n",
      " 0 0 0 0 0 0 0 0 0 0 0 1 0 0 1 1 0 0 0 1 0 0 0 0 1 0 0 0 0 0 0 0 0 0 1 0 0\n",
      " 0 0 0 0 0 0 0 1 0 1 0 0 0 0 0 0 0 0 0 0 0 0 0 0 1 0 0 0 0 0 0 0 0 0 0 0 1\n",
      " 0 0 0 0 0 0 0 0 0 0 0 0 0 0 1 0 0 0 0 0 0 0 0 0 0 0 0 0 0 0 1 1 1 0 0 0 0\n",
      " 0 0 0 0 0 0 0 1 0 0 0 0 0 0 0 0 0 0 0 0 0 0 0 0 0 0 1 0 0 0 0 0 0 0 0 0 0\n",
      " 0 0 0 0 0 0 0 0 0 0 0 0 0 0 0 0 0 0 0 0 0 0 0 0 0 0 0 0 0 0 0 0 0 0 0 0 0\n",
      " 0 0 0 0 1 0 0 0 0 0 0 0 0 0 0 0 0 0 0 0 0 0 0 0 0 0 0 0 0 0 0 0 0 0 0 0 0\n",
      " 0 0 0 0 0 0 0 0 0 0 0 0 0 0 0 0 0 0 0 0 0 0 0 0 0 0 0 0 0 0 0 0 0 0 0 0 0\n",
      " 0 0 0 0 0 0 0 0 0 0 0 0 0 0 0 0 0 0 0 0 0 0 0 0 0 0 0 0 0 0 0 0 0 0 0 0 0\n",
      " 0 0 0 0 0 0 0 0 0 0 0 0 0 0 0 0 0 0 0 0 0 0 0 0 0 0 0 0 0 0 0 0 0 0 0 0 0\n",
      " 0 0 0 0 0 0 0 0 0 0 0 0 0 0 0 0 0 0 0 0 0 0 0 0 0 0 0 0 0 0 0 0 0 0 0 0 0\n",
      " 0 0 0 0 0 0]\n"
     ]
    },
    {
     "data": {
      "image/png": "[encoded data removed]",
      "text/plain": [
       "<Figure size 432x288 with 1 Axes>"
      ]
     },
     "metadata": {
      "needs_background": "light"
     },
     "output_type": "display_data"
    },
    {
     "name": "stdout",
     "output_type": "stream",
     "text": [
      "[0 2 0 1 0 0 0 0 0 0 0 0 0 0 0 0 0 0 0 0 0 0 0 0 0 0 0 0 0 0 0 0 0 0 0 0 0\n",
      " 0 0 0 0 0 0 0 0 0 0 0 0 0 0 0 0 0 0 0 0 0 0 0 0 0 0 0 0 0 2 0 0 0 0 2 0 0\n",
      " 0 0 0 0 0 0 0 0 0 0 0 0 2 0 0 0 0 0 0 0 0 0 0 2 0 0 0 1 2 0 0 0 0 0 0 0 0\n",
      " 0 0 2 0 0 0 0 0 0 2 2 0 2 0 0 0 0 0 0 0 2 0 0 0 2 0 0 1 0 0 0 0 0 0 0 0 0\n",
      " 0 0 0 0 0 0 0 0 0 2 0 0 2 0 0 2 0 2 2 2 2 1 0 0 0 0 0 1 1 0 1 0 2 1 0 1 0\n",
      " 0 0 0 2 2 2 0 0 0 2 0 1 0 0 1 1 0 2 0 1 0 2 0 0 1 0 0 2 0 2 2 0 2 0 1 2 0\n",
      " 0 0 0 0 2 0 0 1 0 1 0 0 0 0 0 0 2 2 0 0 2 0 0 0 1 2 0 0 0 0 0 2 0 2 0 0 1\n",
      " 2 2 0 0 0 0 0 0 2 0 0 0 0 0 1 0 2 0 0 0 0 0 0 2 2 0 0 0 2 0 1 1 1 2 0 0 0\n",
      " 0 0 0 0 2 0 2 1 2 0 0 0 0 0 2 2 0 0 0 0 0 0 2 0 0 2 1 0 0 0 0 2 2 0 0 2 0\n",
      " 0 0 2 2 0 0 0 0 0 0 2 0 0 0 0 0 0 2 0 0 0 0 0 2 0 0 0 0 0 0 0 0 0 0 2 0 2\n",
      " 0 0 0 0 1 0 0 0 2 0 0 0 0 0 0 0 0 0 0 0 2 0 2 0 0 0 0 2 2 0 0 2 0 0 2 2 0\n",
      " 0 0 0 0 0 0 0 0 0 2 0 0 2 0 0 0 0 0 0 0 0 0 0 0 0 0 0 0 2 0 0 0 0 2 2 0 2\n",
      " 0 0 2 0 2 2 0 2 0 2 2 0 0 0 0 0 0 2 0 0 0 0 0 0 2 0 0 0 0 2 0 2 0 0 0 0 0\n",
      " 0 2 0 0 0 0 0 0 0 0 0 2 2 0 2 2 0 2 0 0 0 0 2 2 0 0 0 0 0 0 0 0 0 0 0 0 0\n",
      " 0 0 0 0 0 0 0 2 0 0 0 0 0 0 0 0 2 0 0 0 0 2 2 2 0 0 2 2 0 0 0 0 0 0 0 0 0\n",
      " 0 2 0 0 2 0]\n"
     ]
    },
    {
     "data": {
      "image/png": "[encoded data removed]",
      "text/plain": [
       "<Figure size 432x288 with 1 Axes>"
      ]
     },
     "metadata": {
      "needs_background": "light"
     },
     "output_type": "display_data"
    },
    {
     "name": "stdout",
     "output_type": "stream",
     "text": [
      "[1 2 1 0 1 1 1 1 1 1 1 1 1 1 1 1 1 1 1 1 1 1 1 1 1 1 1 1 1 1 1 3 3 1 1 1 1\n",
      " 3 1 1 1 1 1 3 1 1 1 3 1 1 3 1 1 1 1 1 1 1 1 1 1 3 1 1 3 1 2 1 1 1 1 2 1 1\n",
      " 1 1 1 1 1 3 1 1 1 1 1 1 2 1 1 1 1 1 1 3 3 1 3 2 1 1 1 0 2 1 3 3 3 3 3 1 1\n",
      " 1 1 2 1 1 1 1 1 1 2 2 3 2 3 1 3 3 1 1 3 2 1 3 1 2 1 1 0 3 1 3 1 1 1 3 1 3\n",
      " 1 3 3 1 1 1 1 3 3 2 3 3 2 3 3 2 3 2 2 2 2 0 3 3 1 1 1 0 0 3 0 3 2 0 3 0 1\n",
      " 3 3 1 2 2 2 1 3 3 2 3 0 3 3 0 0 3 2 3 0 1 2 1 3 0 3 1 2 1 2 2 1 2 3 0 2 3\n",
      " 1 1 1 3 2 1 1 0 3 0 3 3 1 3 1 1 2 2 3 3 2 1 3 3 0 2 3 3 3 3 3 2 1 2 3 3 0\n",
      " 2 2 1 3 1 3 3 3 2 3 3 3 3 3 0 3 2 3 1 3 3 3 3 2 2 3 3 1 2 3 0 0 0 2 3 1 3\n",
      " 3 3 3 3 2 3 2 0 2 1 3 3 3 3 2 2 3 3 3 1 1 3 2 1 3 2 0 1 3 1 3 2 2 3 3 2 1\n",
      " 3 1 2 2 3 3 3 3 3 3 2 3 1 1 3 1 1 2 3 1 3 3 3 2 1 1 3 3 1 3 1 3 3 3 2 3 2\n",
      " 1 3 1 3 0 3 1 3 2 3 3 1 3 3 3 1 1 3 3 3 2 3 2 3 3 1 1 2 2 1 1 2 1 1 2 2 3\n",
      " 1 3 3 1 3 1 3 3 3 2 1 1 2 1 3 3 3 3 3 3 1 3 3 1 1 3 1 3 2 3 3 3 3 2 2 3 2\n",
      " 1 3 2 3 2 2 3 2 3 2 2 3 1 3 1 3 3 2 3 1 3 1 1 3 2 1 3 1 1 2 1 2 3 3 1 1 3\n",
      " 1 2 1 1 3 3 3 3 3 1 3 2 2 3 2 2 3 2 3 1 3 3 2 2 1 3 3 3 3 1 3 3 1 3 1 1 1\n",
      " 3 3 1 1 1 1 1 2 1 3 3 3 3 3 3 1 2 1 1 1 3 2 2 2 1 1 2 2 1 1 3 1 1 1 3 3 1\n",
      " 1 2 3 3 2 1]\n"
     ]
    },
    {
     "data": {
      "image/png": "[encoded data removed]",
      "text/plain": [
       "<Figure size 432x288 with 1 Axes>"
      ]
     },
     "metadata": {
      "needs_background": "light"
     },
     "output_type": "display_data"
    },
    {
     "name": "stdout",
     "output_type": "stream",
     "text": [
      "[1 0 1 4 1 1 1 1 1 1 1 1 1 1 1 1 1 1 1 1 1 1 1 1 1 1 1 1 1 1 1 3 3 1 1 1 1\n",
      " 3 1 1 1 1 1 3 1 1 1 3 1 1 3 1 1 1 1 1 1 1 1 1 1 3 1 1 3 1 0 1 1 1 1 0 1 1\n",
      " 1 1 1 1 1 3 1 1 1 1 1 1 0 1 1 1 1 1 1 3 3 1 3 0 1 1 1 4 0 1 3 3 3 3 3 1 1\n",
      " 1 1 0 1 1 1 1 1 1 0 0 3 0 3 1 3 3 1 1 3 0 1 3 1 0 1 1 4 3 1 3 1 1 1 3 1 3\n",
      " 1 3 3 1 1 1 1 3 3 0 3 3 0 3 3 0 3 0 0 0 0 4 3 3 1 1 1 2 2 3 4 3 0 2 3 4 1\n",
      " 3 3 1 0 0 0 1 3 3 0 3 4 3 3 4 4 3 0 3 4 1 0 1 3 2 3 1 0 1 0 0 1 0 3 2 0 3\n",
      " 1 1 1 3 0 1 1 4 3 4 3 3 1 3 1 1 0 0 3 3 0 1 3 3 2 0 3 3 3 3 3 0 1 0 3 3 2\n",
      " 0 0 1 3 1 3 3 3 0 3 3 3 3 3 4 3 0 3 1 3 3 3 3 0 0 3 3 1 0 3 4 4 4 0 3 1 3\n",
      " 3 3 3 3 0 3 0 4 0 1 3 3 3 3 0 0 3 3 3 1 1 3 0 1 3 0 2 1 3 1 3 0 0 3 3 0 1\n",
      " 3 1 0 0 3 3 3 3 3 3 0 3 1 1 3 1 1 0 3 1 3 3 3 0 1 1 3 3 1 3 1 3 3 3 0 3 0\n",
      " 1 3 1 3 4 3 1 3 0 3 3 1 3 3 3 1 1 3 3 3 0 3 0 3 3 1 1 0 0 1 1 0 1 1 0 0 3\n",
      " 1 3 3 1 3 1 3 3 3 0 1 1 0 1 3 3 3 3 3 3 1 3 3 1 1 3 1 3 0 3 3 3 3 0 0 3 0\n",
      " 1 3 0 3 0 0 3 0 3 0 0 3 1 3 1 3 3 0 3 1 3 1 1 3 0 1 3 1 1 0 1 0 3 3 1 1 3\n",
      " 1 0 1 1 3 3 3 3 3 1 3 0 0 3 0 0 3 0 3 1 3 3 0 0 1 3 3 3 3 1 3 3 1 3 1 1 1\n",
      " 3 3 1 1 1 1 1 0 1 3 3 3 3 3 3 1 0 1 1 1 3 0 0 0 1 1 0 0 1 1 3 1 1 1 3 3 1\n",
      " 1 0 3 3 0 1]\n"
     ]
    },
    {
     "data": {
      "image/png": "[encoded data removed]",
      "text/plain": [
       "<Figure size 432x288 with 1 Axes>"
      ]
     },
     "metadata": {
      "needs_background": "light"
     },
     "output_type": "display_data"
    },
    {
     "name": "stdout",
     "output_type": "stream",
     "text": [
      "[1 2 1 4 1 1 1 1 1 1 1 1 1 1 1 1 1 1 1 1 1 1 1 1 1 1 1 1 1 1 1 3 3 1 1 1 1\n",
      " 3 1 1 1 1 1 3 1 1 1 3 1 1 3 1 1 1 1 1 1 1 1 1 1 3 1 1 3 1 5 1 1 1 1 2 1 1\n",
      " 1 1 1 1 1 3 1 1 1 1 1 1 5 1 1 1 1 1 1 3 3 1 3 5 1 1 1 4 5 1 3 3 3 3 3 1 1\n",
      " 1 1 5 1 1 1 1 1 1 5 2 3 2 3 1 3 3 1 1 3 2 1 3 1 2 1 1 4 3 1 3 1 1 1 3 1 3\n",
      " 1 3 3 1 1 1 1 3 3 5 3 3 5 3 3 2 3 2 2 2 2 4 3 3 1 1 1 0 0 3 4 3 5 0 3 4 1\n",
      " 3 3 1 2 2 2 1 3 3 5 3 4 3 3 4 4 3 2 3 4 1 2 1 3 0 3 1 2 1 5 2 1 2 3 0 2 3\n",
      " 1 1 1 3 5 1 1 4 3 4 3 3 1 3 1 1 2 2 3 3 2 1 3 3 0 5 3 3 3 3 3 5 1 5 3 3 0\n",
      " 2 2 1 3 1 3 3 3 2 3 3 3 3 3 4 3 2 3 1 3 3 3 3 5 2 3 3 1 2 3 4 4 4 5 3 1 3\n",
      " 3 3 3 3 5 3 2 4 2 1 3 3 3 3 2 2 3 3 3 1 1 3 2 1 3 2 0 1 3 1 3 5 2 3 3 2 1\n",
      " 3 1 2 2 3 3 3 3 3 3 2 3 1 1 3 1 1 2 3 1 3 3 3 5 1 1 3 3 1 3 1 3 3 3 2 3 2\n",
      " 1 3 1 3 4 3 1 3 2 3 3 1 3 3 3 1 1 3 3 3 2 3 2 3 3 1 1 2 5 1 1 2 1 1 2 2 3\n",
      " 1 3 3 1 3 1 3 3 3 5 1 1 2 1 3 3 3 3 3 3 1 3 3 1 1 3 1 3 2 3 3 3 3 2 2 3 2\n",
      " 1 3 2 3 2 2 3 2 3 2 2 3 1 3 1 3 3 2 3 1 3 1 1 3 2 1 3 1 1 2 1 2 3 3 1 1 3\n",
      " 1 2 1 1 3 3 3 3 3 1 3 2 2 3 2 5 3 2 3 1 3 3 2 2 1 3 3 3 3 1 3 3 1 3 1 1 1\n",
      " 3 3 1 1 1 1 1 2 1 3 3 3 3 3 3 1 2 1 1 1 3 5 2 2 1 1 2 2 1 1 3 1 1 1 3 3 1\n",
      " 1 2 3 3 2 1]\n"
     ]
    },
    {
     "data": {
      "image/png": "[encoded data removed]",
      "text/plain": [
       "<Figure size 432x288 with 1 Axes>"
      ]
     },
     "metadata": {
      "needs_background": "light"
     },
     "output_type": "display_data"
    },
    {
     "name": "stdout",
     "output_type": "stream",
     "text": [
      "[0 2 0 4 0 0 0 0 0 0 0 0 0 0 0 0 0 0 0 0 0 0 0 0 0 0 0 0 0 0 0 1 1 0 0 0 0\n",
      " 1 0 0 0 0 0 1 0 0 0 1 0 0 1 0 0 0 0 0 0 0 0 0 0 1 0 0 1 0 5 0 0 0 0 2 0 0\n",
      " 0 0 0 0 0 1 0 0 0 0 0 0 5 0 0 0 0 0 0 1 1 0 1 5 0 0 0 4 5 0 1 1 1 1 1 0 0\n",
      " 0 0 5 0 0 0 0 0 0 5 2 1 2 1 0 1 1 0 0 1 2 0 1 0 2 0 0 4 1 0 1 0 0 0 1 0 1\n",
      " 0 1 1 0 0 0 0 1 1 5 1 1 5 1 1 2 1 2 2 2 2 4 1 1 0 0 0 3 3 1 4 1 5 3 1 4 0\n",
      " 1 1 0 2 2 2 0 1 1 5 1 4 1 1 4 4 1 2 1 4 0 2 0 1 3 1 0 2 0 5 2 0 2 1 3 2 1\n",
      " 0 0 0 1 5 0 0 4 1 4 1 1 0 1 0 0 2 2 1 1 2 0 1 1 3 5 1 1 1 1 1 5 0 5 1 1 3\n",
      " 2 2 0 1 0 1 1 1 2 1 1 1 1 1 4 1 2 1 0 1 1 1 1 5 2 1 1 0 2 1 4 4 4 5 1 0 1\n",
      " 1 1 1 1 5 1 2 4 2 0 1 1 1 1 2 2 1 1 1 0 0 1 2 0 1 2 6 0 1 0 1 5 2 1 1 2 0\n",
      " 1 0 2 2 1 1 1 1 1 1 2 1 0 0 1 0 0 2 1 0 1 1 1 5 0 0 1 1 0 1 0 1 1 1 2 1 2\n",
      " 0 1 0 1 4 1 0 1 2 1 1 0 1 1 1 0 0 1 1 1 2 1 2 1 1 0 0 2 5 0 0 2 0 0 2 2 1\n",
      " 0 1 1 0 1 0 1 1 1 5 0 0 2 0 1 1 1 1 1 1 0 1 1 0 0 1 0 1 2 1 1 1 1 2 2 1 2\n",
      " 0 1 2 1 2 2 1 2 1 2 2 1 0 1 0 1 1 2 1 0 1 0 0 1 2 0 1 0 0 2 0 2 1 1 0 0 1\n",
      " 0 2 0 0 1 1 1 1 1 0 1 2 2 1 2 5 1 2 1 0 1 1 2 2 0 1 1 1 1 0 1 1 0 1 0 0 0\n",
      " 1 1 0 0 0 0 0 2 0 1 1 1 1 1 1 0 2 0 0 0 1 5 2 2 0 0 2 2 0 0 1 0 0 0 1 1 0\n",
      " 0 2 1 1 2 0]\n"
     ]
    },
    {
     "data": {
      "image/png": "[encoded data removed]",
      "text/plain": [
       "<Figure size 432x288 with 1 Axes>"
      ]
     },
     "metadata": {
      "needs_background": "light"
     },
     "output_type": "display_data"
    },
    {
     "name": "stdout",
     "output_type": "stream",
     "text": [
      "[7 2 7 1 7 7 7 7 7 7 7 7 7 7 7 7 7 7 7 7 7 7 7 7 7 7 7 7 7 7 7 0 0 7 4 4 7\n",
      " 0 4 4 4 7 7 0 7 7 7 0 7 7 0 4 7 7 4 7 7 7 7 7 7 0 7 4 0 7 5 4 7 7 7 2 4 4\n",
      " 7 4 7 4 7 0 4 7 4 7 7 7 5 7 4 7 4 4 4 0 0 4 0 5 7 7 4 1 5 7 0 0 0 0 0 7 7\n",
      " 7 7 5 7 4 4 4 4 7 5 2 0 2 0 7 0 0 4 7 0 2 4 0 7 2 7 4 1 0 4 0 7 7 4 0 4 0\n",
      " 7 0 0 7 7 7 4 0 0 5 0 0 5 0 0 2 0 2 2 2 2 1 0 0 7 7 7 3 3 0 1 0 5 3 0 1 4\n",
      " 0 0 4 2 2 2 7 0 0 5 0 1 0 0 1 1 0 2 0 1 4 2 4 0 3 0 4 2 7 5 2 7 2 0 3 2 0\n",
      " 7 4 4 0 5 4 4 1 0 1 0 0 4 0 4 7 2 2 0 0 2 4 0 0 3 5 0 0 0 0 0 5 4 5 0 0 3\n",
      " 2 2 7 0 4 0 0 0 2 0 0 0 0 0 1 0 2 0 7 0 0 0 0 5 2 0 0 4 2 0 1 1 1 5 0 4 0\n",
      " 0 0 0 0 5 0 2 1 2 4 0 0 0 0 2 2 0 0 0 7 4 0 2 4 0 2 6 7 0 7 0 5 2 0 0 2 7\n",
      " 0 7 2 2 0 0 0 0 0 0 2 0 7 7 0 4 4 2 0 7 0 0 0 5 7 4 0 0 4 0 4 0 0 0 2 0 2\n",
      " 4 0 7 0 1 0 7 0 2 0 0 7 0 0 0 7 7 0 0 0 2 0 2 0 0 7 4 2 5 7 4 2 7 7 2 2 0\n",
      " 7 0 0 7 0 7 0 0 0 5 7 4 2 4 0 0 0 0 0 0 4 0 0 4 4 0 7 0 2 0 0 0 0 2 2 0 2\n",
      " 4 0 2 0 2 2 0 2 0 2 2 0 7 0 7 0 0 2 0 4 0 7 7 0 2 4 0 7 7 2 7 2 0 0 7 4 0\n",
      " 7 2 4 7 0 0 0 0 0 4 0 2 2 0 2 5 0 2 0 7 0 0 2 2 4 0 0 0 0 7 0 0 4 0 7 4 7\n",
      " 0 0 7 4 4 4 4 2 4 0 0 0 0 0 0 7 2 4 7 4 0 5 2 2 4 4 2 2 7 4 0 7 4 7 0 0 7\n",
      " 7 2 0 0 2 4]\n"
     ]
    },
    {
     "data": {
      "image/png": "[encoded data removed]",
      "text/plain": [
       "<Figure size 432x288 with 1 Axes>"
      ]
     },
     "metadata": {
      "needs_background": "light"
     },
     "output_type": "display_data"
    },
    {
     "data": {
      "text/plain": [
       "[0.6220613880634424,\n",
       " 0.43204348957511485,\n",
       " 0.5836617721198114,\n",
       " 0.5749619812651648,\n",
       " 0.5532678478317,\n",
       " 0.5515583182158735,\n",
       " 0.5547970846656387]"
      ]
     },
     "execution_count": 114,
     "metadata": {},
     "output_type": "execute_result"
    }
   ],
   "source": [
    "for i in range (2,9) :\n",
    "    model = AgglomerativeClustering(n_clusters=i, affinity='euclidean', linkage='complete')\n",
    "    model.fit(X_reduced)\n",
    "    labels = model.labels_\n",
    "    print(labels)\n",
    "    plt.hist(labels, bins=i,range=(0,i))\n",
    "    plt.show()\n",
    "    \n",
    "    AC_Complete_SI_list.append(skmet.silhouette_score(X_reduced, labels, metric='euclidean', sample_size=None, random_state=None))\n",
    "AC_Complete_SI_list"
   ]
  },
  {
   "cell_type": "code",
   "execution_count": 115,
   "id": "0b1ea8db",
   "metadata": {},
   "outputs": [
    {
     "name": "stdout",
     "output_type": "stream",
     "text": [
      "[1 1 1 0 1 1 1 1 1 1 1 1 1 1 1 1 1 1 1 1 1 1 1 1 1 1 1 1 1 1 1 1 1 1 1 1 1\n",
      " 1 1 1 1 1 1 1 1 1 1 1 1 1 1 1 1 1 1 1 1 1 1 1 1 1 1 1 1 1 0 1 1 1 1 1 1 1\n",
      " 1 1 1 1 1 1 1 1 1 1 1 1 0 1 1 1 1 1 1 1 1 1 1 0 1 1 1 0 0 1 1 1 1 1 1 1 1\n",
      " 1 1 0 1 1 1 1 1 1 0 1 1 1 1 1 1 1 1 1 1 1 1 1 1 1 1 1 0 1 1 1 1 1 1 1 1 1\n",
      " 1 1 1 1 1 1 1 1 1 0 1 1 0 1 1 1 1 1 1 1 1 0 1 1 1 1 1 0 0 1 0 1 0 0 1 0 1\n",
      " 1 1 1 1 1 1 1 1 1 0 1 0 1 1 0 0 1 1 1 0 1 1 1 1 0 1 1 1 1 0 1 1 1 1 0 1 1\n",
      " 1 1 1 1 0 1 1 0 1 0 1 1 1 1 1 1 1 1 1 1 1 1 1 1 0 0 1 1 1 1 1 0 1 0 1 1 0\n",
      " 1 1 1 1 1 1 1 1 1 1 1 1 1 1 0 1 1 1 1 1 1 1 1 0 1 1 1 1 1 1 0 0 0 0 1 1 1\n",
      " 1 1 1 1 0 1 1 0 1 1 1 1 1 1 1 1 1 1 1 1 1 1 1 1 1 1 0 1 1 1 1 0 1 1 1 1 1\n",
      " 1 1 1 1 1 1 1 1 1 1 1 1 1 1 1 1 1 1 1 1 1 1 1 0 1 1 1 1 1 1 1 1 1 1 1 1 1\n",
      " 1 1 1 1 0 1 1 1 1 1 1 1 1 1 1 1 1 1 1 1 1 1 1 1 1 1 1 1 0 1 1 1 1 1 1 1 1\n",
      " 1 1 1 1 1 1 1 1 1 0 1 1 1 1 1 1 1 1 1 1 1 1 1 1 1 1 1 1 1 1 1 1 1 1 1 1 1\n",
      " 1 1 1 1 1 1 1 1 1 1 1 1 1 1 1 1 1 1 1 1 1 1 1 1 1 1 1 1 1 1 1 1 1 1 1 1 1\n",
      " 1 1 1 1 1 1 1 1 1 1 1 1 1 1 1 0 1 1 1 1 1 1 1 1 1 1 1 1 1 1 1 1 1 1 1 1 1\n",
      " 1 1 1 1 1 1 1 1 1 1 1 1 1 1 1 1 1 1 1 1 1 0 1 1 1 1 1 1 1 1 1 1 1 1 1 1 1\n",
      " 1 1 1 1 1 1]\n"
     ]
    },
    {
     "data": {
      "image/png": "[encoded data removed]",
      "text/plain": [
       "<Figure size 432x288 with 1 Axes>"
      ]
     },
     "metadata": {
      "needs_background": "light"
     },
     "output_type": "display_data"
    },
    {
     "name": "stdout",
     "output_type": "stream",
     "text": [
      "[0 0 0 1 0 0 0 0 0 0 0 0 0 0 0 0 0 0 0 0 0 0 0 0 0 0 0 0 0 0 0 0 0 0 0 0 0\n",
      " 0 0 0 0 0 0 0 0 0 0 0 0 0 0 0 0 0 0 0 0 0 0 0 0 0 0 0 0 0 1 0 0 0 0 0 0 0\n",
      " 0 0 0 0 0 0 0 0 0 0 0 0 1 0 0 0 0 0 0 0 0 0 0 1 0 0 0 1 1 0 0 0 0 0 0 0 0\n",
      " 0 0 1 0 0 0 0 0 0 1 0 0 0 0 0 0 0 0 0 0 0 0 0 0 0 0 0 1 0 0 0 0 0 0 0 0 0\n",
      " 0 0 0 0 0 0 0 0 0 1 0 0 1 0 0 0 0 0 0 0 0 1 0 0 0 0 0 1 1 0 1 0 1 1 0 1 0\n",
      " 0 0 0 0 0 0 0 0 0 1 0 1 0 0 1 1 0 0 0 1 0 0 0 0 1 0 0 0 0 1 0 0 0 0 1 0 0\n",
      " 0 0 0 0 1 0 0 1 0 1 0 0 0 0 0 0 0 0 0 0 0 0 0 0 1 1 0 0 0 0 0 1 0 1 0 0 1\n",
      " 0 0 0 0 0 0 0 0 0 0 0 0 0 0 1 0 0 0 0 0 0 0 0 1 0 0 0 0 0 0 1 1 1 1 0 0 0\n",
      " 0 0 0 0 1 0 0 1 0 0 0 0 0 0 0 0 0 0 0 0 0 0 0 0 0 0 2 0 0 0 0 1 0 0 0 0 0\n",
      " 0 0 0 0 0 0 0 0 0 0 0 0 0 0 0 0 0 0 0 0 0 0 0 1 0 0 0 0 0 0 0 0 0 0 0 0 0\n",
      " 0 0 0 0 1 0 0 0 0 0 0 0 0 0 0 0 0 0 0 0 0 0 0 0 0 0 0 0 1 0 0 0 0 0 0 0 0\n",
      " 0 0 0 0 0 0 0 0 0 1 0 0 0 0 0 0 0 0 0 0 0 0 0 0 0 0 0 0 0 0 0 0 0 0 0 0 0\n",
      " 0 0 0 0 0 0 0 0 0 0 0 0 0 0 0 0 0 0 0 0 0 0 0 0 0 0 0 0 0 0 0 0 0 0 0 0 0\n",
      " 0 0 0 0 0 0 0 0 0 0 0 0 0 0 0 1 0 0 0 0 0 0 0 0 0 0 0 0 0 0 0 0 0 0 0 0 0\n",
      " 0 0 0 0 0 0 0 0 0 0 0 0 0 0 0 0 0 0 0 0 0 1 0 0 0 0 0 0 0 0 0 0 0 0 0 0 0\n",
      " 0 0 0 0 0 0]\n"
     ]
    },
    {
     "data": {
      "image/png": "[encoded data removed]",
      "text/plain": [
       "<Figure size 432x288 with 1 Axes>"
      ]
     },
     "metadata": {
      "needs_background": "light"
     },
     "output_type": "display_data"
    },
    {
     "name": "stdout",
     "output_type": "stream",
     "text": [
      "[3 1 3 0 3 3 3 3 3 3 3 3 3 3 3 3 3 3 3 3 3 3 3 3 3 3 3 3 3 3 3 1 1 3 3 3 3\n",
      " 1 3 3 3 3 3 1 3 3 3 1 3 3 1 3 3 3 3 3 3 3 3 3 3 1 3 3 1 3 0 3 3 3 3 1 3 3\n",
      " 3 3 3 3 3 1 3 3 3 3 3 3 0 3 3 3 3 3 3 1 1 3 1 0 3 3 3 0 0 3 1 1 1 1 1 3 3\n",
      " 3 3 0 3 3 3 3 3 3 0 1 1 1 1 3 1 1 3 3 1 1 3 1 3 1 3 3 0 1 3 1 3 3 3 1 3 1\n",
      " 3 1 1 3 3 3 3 1 1 0 1 1 0 1 1 1 1 1 1 1 1 0 1 1 3 3 3 0 0 1 0 1 0 0 1 0 3\n",
      " 1 1 3 1 1 1 3 1 1 0 1 0 1 1 0 0 1 1 1 0 3 1 3 1 0 1 3 1 3 0 1 3 1 1 0 1 1\n",
      " 3 3 3 1 0 3 3 0 1 0 1 1 3 1 3 3 1 1 1 1 1 3 1 1 0 0 1 1 1 1 1 0 3 0 1 1 0\n",
      " 1 1 3 1 3 1 1 1 1 1 1 1 1 1 0 1 1 1 3 1 1 1 1 0 1 1 1 3 1 1 0 0 0 0 1 3 1\n",
      " 1 1 1 1 0 1 1 0 1 3 1 1 1 1 1 1 1 1 1 3 3 1 1 3 1 1 2 3 1 3 1 0 1 1 1 1 3\n",
      " 1 3 1 1 1 1 1 1 1 1 1 1 3 3 1 3 3 1 1 3 1 1 1 0 3 3 1 1 3 1 3 1 1 1 1 1 1\n",
      " 3 1 3 1 0 1 3 1 1 1 1 3 1 1 1 3 3 1 1 1 1 1 1 1 1 3 3 1 0 3 3 1 3 3 1 1 1\n",
      " 3 1 1 3 1 3 1 1 1 0 3 3 1 3 1 1 1 1 1 1 3 1 1 3 3 1 3 1 1 1 1 1 1 1 1 1 1\n",
      " 3 1 1 1 1 1 1 1 1 1 1 1 3 1 3 1 1 1 1 3 1 3 3 1 1 3 1 3 3 1 3 1 1 1 3 3 1\n",
      " 3 1 3 3 1 1 1 1 1 3 1 1 1 1 1 0 1 1 1 3 1 1 1 1 3 1 1 1 1 3 1 1 3 1 3 3 3\n",
      " 1 1 3 3 3 3 3 1 3 1 1 1 1 1 1 3 1 3 3 3 1 0 1 1 3 3 1 1 3 3 1 3 3 3 1 1 3\n",
      " 3 1 1 1 1 3]\n"
     ]
    },
    {
     "data": {
      "image/png": "[encoded data removed]",
      "text/plain": [
       "<Figure size 432x288 with 1 Axes>"
      ]
     },
     "metadata": {
      "needs_background": "light"
     },
     "output_type": "display_data"
    },
    {
     "name": "stdout",
     "output_type": "stream",
     "text": [
      "[1 0 1 3 1 1 1 1 1 1 1 1 1 1 1 1 1 1 1 1 1 1 1 1 1 1 1 1 1 1 1 0 0 1 1 1 1\n",
      " 0 1 1 1 1 1 0 1 1 1 0 1 1 0 1 1 1 1 1 1 1 1 1 1 0 1 1 0 1 4 1 1 1 1 0 1 1\n",
      " 1 1 1 1 1 0 1 1 1 1 1 1 4 1 1 1 1 1 1 0 0 1 0 4 1 1 1 3 4 1 0 0 0 0 0 1 1\n",
      " 1 1 4 1 1 1 1 1 1 4 0 0 0 0 1 0 0 1 1 0 0 1 0 1 0 1 1 3 0 1 0 1 1 1 0 1 0\n",
      " 1 0 0 1 1 1 1 0 0 4 0 0 4 0 0 0 0 0 0 0 0 3 0 0 1 1 1 3 3 0 3 0 4 3 0 4 1\n",
      " 0 0 1 0 0 0 1 0 0 4 0 3 0 0 3 3 0 0 0 3 1 0 1 0 3 0 1 0 1 4 0 1 0 0 3 0 0\n",
      " 1 1 1 0 4 1 1 4 0 3 0 0 1 0 1 1 0 0 0 0 0 1 0 0 3 4 0 0 0 0 0 4 1 4 0 0 3\n",
      " 0 0 1 0 1 0 0 0 0 0 0 0 0 0 3 0 0 0 1 0 0 0 0 4 0 0 0 1 0 0 3 3 3 4 0 1 0\n",
      " 0 0 0 0 4 0 0 3 0 1 0 0 0 0 0 0 0 0 0 1 1 0 0 1 0 0 2 1 0 1 0 4 0 0 0 0 1\n",
      " 0 1 0 0 0 0 0 0 0 0 0 0 1 1 0 1 1 0 0 1 0 0 0 4 1 1 0 0 1 0 1 0 0 0 0 0 0\n",
      " 1 0 1 0 3 0 1 0 0 0 0 1 0 0 0 1 1 0 0 0 0 0 0 0 0 1 1 0 4 1 1 0 1 1 0 0 0\n",
      " 1 0 0 1 0 1 0 0 0 4 1 1 0 1 0 0 0 0 0 0 1 0 0 1 1 0 1 0 0 0 0 0 0 0 0 0 0\n",
      " 1 0 0 0 0 0 0 0 0 0 0 0 1 0 1 0 0 0 0 1 0 1 1 0 0 1 0 1 1 0 1 0 0 0 1 1 0\n",
      " 1 0 1 1 0 0 0 0 0 1 0 0 0 0 0 4 0 0 0 1 0 0 0 0 1 0 0 0 0 1 0 0 1 0 1 1 1\n",
      " 0 0 1 1 1 1 1 0 1 0 0 0 0 0 0 1 0 1 1 1 0 4 0 0 1 1 0 0 1 1 0 1 1 1 0 0 1\n",
      " 1 0 0 0 0 1]\n"
     ]
    },
    {
     "data": {
      "image/png": "[encoded data removed]",
      "text/plain": [
       "<Figure size 432x288 with 1 Axes>"
      ]
     },
     "metadata": {
      "needs_background": "light"
     },
     "output_type": "display_data"
    },
    {
     "name": "stdout",
     "output_type": "stream",
     "text": [
      "[0 2 0 1 0 0 0 0 0 0 0 0 0 0 0 0 0 0 0 0 0 0 0 0 0 0 0 0 0 0 0 3 3 0 0 0 0\n",
      " 3 0 0 0 0 0 3 0 0 0 3 0 0 3 0 0 0 0 0 0 0 0 0 0 3 0 0 3 0 4 0 0 0 0 2 0 0\n",
      " 0 0 0 0 0 3 0 0 0 0 0 0 4 0 0 0 0 0 0 2 3 0 3 4 0 0 0 1 4 0 3 3 3 3 2 0 0\n",
      " 0 0 4 0 0 0 0 0 0 4 2 3 2 3 0 3 3 0 0 3 2 0 3 0 2 0 0 1 3 0 3 0 0 0 2 0 3\n",
      " 0 3 2 0 0 0 0 3 3 4 3 3 4 3 3 2 3 2 2 2 2 1 3 3 0 0 0 1 1 3 1 3 4 1 3 4 0\n",
      " 3 3 0 2 2 2 0 3 3 4 2 1 3 3 1 1 3 2 3 1 0 2 0 3 1 2 0 2 0 4 2 0 2 3 1 2 3\n",
      " 0 0 0 3 4 0 0 4 3 1 3 3 0 3 0 0 2 2 3 2 2 0 3 3 1 4 3 3 2 3 3 4 0 4 2 3 1\n",
      " 2 2 0 3 0 3 3 3 2 3 3 3 3 3 1 3 2 3 0 3 3 3 3 4 2 3 3 0 2 3 1 1 1 4 3 0 3\n",
      " 3 3 3 3 4 3 2 1 2 0 2 3 3 3 2 2 3 3 3 0 0 3 2 0 3 2 5 0 3 0 3 4 2 2 3 2 0\n",
      " 3 0 2 2 3 2 3 2 3 3 2 3 0 0 3 0 0 2 3 0 3 3 3 4 0 0 3 3 0 3 0 2 3 3 2 3 2\n",
      " 0 2 0 3 1 3 0 3 2 3 3 0 3 3 3 0 0 3 2 3 2 3 2 2 2 0 0 2 4 0 0 2 0 0 2 2 3\n",
      " 0 3 3 0 3 0 3 2 3 4 0 0 2 0 3 3 3 2 3 2 0 2 3 0 0 3 0 3 2 2 3 3 3 2 2 3 2\n",
      " 0 2 2 3 2 2 3 2 3 2 2 3 0 3 0 3 3 2 3 0 3 0 0 3 2 0 2 0 0 2 0 2 3 3 0 0 3\n",
      " 0 2 0 0 3 2 3 3 3 0 3 2 2 3 2 4 3 2 3 0 3 3 2 2 0 3 2 3 3 0 3 3 0 3 0 0 0\n",
      " 3 3 0 0 0 0 0 2 0 3 3 3 2 3 3 0 2 0 0 0 3 4 2 2 0 0 2 2 0 0 3 0 0 0 3 3 0\n",
      " 0 2 3 3 2 0]\n"
     ]
    },
    {
     "data": {
      "image/png": "[encoded data removed]",
      "text/plain": [
       "<Figure size 432x288 with 1 Axes>"
      ]
     },
     "metadata": {
      "needs_background": "light"
     },
     "output_type": "display_data"
    },
    {
     "name": "stdout",
     "output_type": "stream",
     "text": [
      "[3 2 3 0 3 3 3 3 3 3 3 3 3 3 3 3 3 3 3 3 3 3 3 3 3 3 3 3 3 3 3 1 1 3 6 6 3\n",
      " 1 6 6 3 3 3 1 3 3 3 1 3 3 1 3 3 3 3 3 3 3 3 3 3 1 3 6 1 3 4 3 3 3 3 2 6 6\n",
      " 3 6 3 3 3 1 6 3 6 3 3 3 4 3 6 3 6 3 6 2 1 6 1 4 3 3 6 0 4 3 1 1 1 1 2 3 3\n",
      " 3 3 4 3 6 6 6 6 3 4 2 1 2 1 3 1 1 6 3 1 2 6 1 3 2 3 6 0 1 6 1 3 3 6 2 6 1\n",
      " 3 1 2 3 3 3 6 1 1 4 1 1 4 1 1 2 1 2 2 2 2 0 1 1 3 3 3 0 0 1 0 1 4 0 1 4 3\n",
      " 1 1 6 2 2 2 3 1 1 4 2 0 1 1 0 0 1 2 1 0 3 2 6 1 0 2 6 2 3 4 2 3 2 1 0 2 1\n",
      " 3 6 6 1 4 6 6 4 1 0 1 1 6 1 6 3 2 2 1 2 2 6 1 1 0 4 1 1 2 1 1 4 6 4 2 1 0\n",
      " 2 2 3 1 3 1 1 1 2 1 1 1 1 1 0 1 2 1 3 1 1 1 1 4 2 1 1 3 2 1 0 0 0 4 1 6 1\n",
      " 1 1 1 1 4 1 2 0 2 6 2 1 1 1 2 2 1 1 1 3 6 1 2 6 1 2 5 3 1 3 1 4 2 2 1 2 3\n",
      " 1 3 2 2 1 2 1 2 1 1 2 1 3 3 1 6 6 2 1 3 1 1 1 4 3 6 1 1 6 1 6 2 1 1 2 1 2\n",
      " 6 2 3 1 0 1 3 1 2 1 1 3 1 1 1 3 3 1 2 1 2 1 2 2 2 3 6 2 4 3 6 2 3 3 2 2 1\n",
      " 3 1 1 3 1 3 1 2 1 4 3 6 2 6 1 1 1 2 1 2 6 2 1 6 6 1 3 1 2 2 1 1 1 2 2 1 2\n",
      " 3 2 2 1 2 2 1 2 1 2 2 1 3 1 3 1 1 2 1 6 1 3 3 1 2 6 2 3 3 2 3 2 1 1 3 6 1\n",
      " 3 2 6 3 1 2 1 1 1 6 1 2 2 1 2 4 1 2 1 3 1 1 2 2 3 1 2 1 1 3 1 1 6 1 3 6 3\n",
      " 1 1 3 6 6 3 3 2 6 1 1 1 2 1 1 3 2 6 3 6 1 4 2 2 6 6 2 2 3 6 1 3 6 3 1 1 3\n",
      " 3 2 1 1 2 6]\n"
     ]
    },
    {
     "data": {
      "image/png": "[encoded data removed]",
      "text/plain": [
       "<Figure size 432x288 with 1 Axes>"
      ]
     },
     "metadata": {
      "needs_background": "light"
     },
     "output_type": "display_data"
    },
    {
     "name": "stdout",
     "output_type": "stream",
     "text": [
      "[7 2 7 4 7 7 7 7 7 7 7 7 7 7 7 7 7 7 7 7 7 7 7 7 7 7 7 7 7 7 7 0 0 7 6 6 7\n",
      " 0 6 6 7 7 7 0 7 7 7 0 7 7 0 7 7 7 7 7 7 7 7 7 7 0 7 6 0 7 1 7 7 7 7 2 6 6\n",
      " 7 6 7 7 7 0 6 7 6 7 7 7 1 7 6 7 6 7 6 2 0 6 0 1 7 7 6 4 1 7 0 0 0 0 2 7 7\n",
      " 7 7 1 7 6 6 6 6 7 1 2 0 2 0 7 0 0 6 7 0 2 6 0 7 2 7 6 4 0 6 0 7 7 6 2 6 0\n",
      " 7 0 2 7 7 7 6 0 0 1 0 0 1 0 0 2 0 2 2 2 2 4 0 0 7 7 7 3 3 0 4 0 1 3 0 1 7\n",
      " 0 0 6 2 2 2 7 0 0 1 2 4 0 0 4 4 0 2 0 4 7 2 6 0 3 2 6 2 7 1 2 7 2 0 3 2 0\n",
      " 7 6 6 0 1 6 6 1 0 4 0 0 6 0 6 7 2 2 0 2 2 6 0 0 3 1 0 0 2 0 0 1 6 1 2 0 3\n",
      " 2 2 7 0 7 0 0 0 2 0 0 0 0 0 4 0 2 0 7 0 0 0 0 1 2 0 0 7 2 0 4 4 4 1 0 6 0\n",
      " 0 0 0 0 1 0 2 4 2 6 2 0 0 0 2 2 0 0 0 7 6 0 2 6 0 2 5 7 0 7 0 1 2 2 0 2 7\n",
      " 0 7 2 2 0 2 0 2 0 0 2 0 7 7 0 6 6 2 0 7 0 0 0 1 7 6 0 0 6 0 6 2 0 0 2 0 2\n",
      " 6 2 7 0 4 0 7 0 2 0 0 7 0 0 0 7 7 0 2 0 2 0 2 2 2 7 6 2 1 7 6 2 7 7 2 2 0\n",
      " 7 0 0 7 0 7 0 2 0 1 7 6 2 6 0 0 0 2 0 2 6 2 0 6 6 0 7 0 2 2 0 0 0 2 2 0 2\n",
      " 7 2 2 0 2 2 0 2 0 2 2 0 7 0 7 0 0 2 0 6 0 7 7 0 2 6 2 7 7 2 7 2 0 0 7 6 0\n",
      " 7 2 6 7 0 2 0 0 0 6 0 2 2 0 2 1 0 2 0 7 0 0 2 2 7 0 2 0 0 7 0 0 6 0 7 6 7\n",
      " 0 0 7 6 6 7 7 2 6 0 0 0 2 0 0 7 2 6 7 6 0 1 2 2 6 6 2 2 7 6 0 7 6 7 0 0 7\n",
      " 7 2 0 0 2 6]\n"
     ]
    },
    {
     "data": {
      "image/png": "[encoded data removed]",
      "text/plain": [
       "<Figure size 432x288 with 1 Axes>"
      ]
     },
     "metadata": {
      "needs_background": "light"
     },
     "output_type": "display_data"
    },
    {
     "data": {
      "text/plain": [
       "[0.571175455538424,\n",
       " 0.5450645681738305,\n",
       " 0.604861829289,\n",
       " 0.5631006591462875,\n",
       " 0.570795300356743,\n",
       " 0.5851099169410201,\n",
       " 0.5876760451135163]"
      ]
     },
     "execution_count": 115,
     "metadata": {},
     "output_type": "execute_result"
    }
   ],
   "source": [
    "for i in range (2,9) :\n",
    "    model = AgglomerativeClustering(n_clusters=i, affinity='euclidean', linkage='average')\n",
    "    model.fit(X_reduced)\n",
    "    labels = model.labels_\n",
    "    print(labels)\n",
    "    plt.hist(labels, bins=i,range=(0,i))\n",
    "    plt.show()\n",
    "    \n",
    "    AC_Average_SI_list.append(skmet.silhouette_score(X_reduced, labels, metric='euclidean', sample_size=None, random_state=None))\n",
    "AC_Average_SI_list"
   ]
  },
  {
   "cell_type": "code",
   "execution_count": 116,
   "id": "9116d349",
   "metadata": {},
   "outputs": [
    {
     "name": "stdout",
     "output_type": "stream",
     "text": [
      "[1 0 1 0 1 1 1 1 1 1 1 1 1 1 1 1 1 1 1 1 1 1 1 1 1 1 1 1 1 1 1 0 0 1 1 1 1\n",
      " 0 1 1 1 1 1 0 1 1 1 0 1 1 0 1 1 1 1 1 1 1 1 1 1 0 1 1 0 1 0 1 1 1 1 0 1 1\n",
      " 1 1 1 1 1 0 1 1 1 1 1 1 0 1 1 1 1 1 1 0 0 1 0 0 1 1 1 0 0 1 0 0 0 0 0 1 1\n",
      " 1 1 0 1 1 1 1 1 1 0 0 0 0 0 1 0 0 1 1 0 0 1 0 1 0 1 1 0 0 1 0 1 1 1 0 1 0\n",
      " 1 0 0 1 1 1 1 0 0 0 0 0 0 0 0 0 0 0 0 0 0 0 0 0 1 1 1 0 0 0 0 0 0 0 0 0 1\n",
      " 0 0 1 0 0 0 1 0 0 0 0 0 0 0 0 0 0 0 0 0 1 0 1 0 0 0 1 0 1 0 0 1 0 0 0 0 0\n",
      " 1 1 1 0 0 1 1 0 0 0 0 0 1 0 1 1 0 0 0 0 0 1 0 0 0 0 0 0 0 0 0 0 1 0 0 0 0\n",
      " 0 0 1 0 1 0 0 0 0 0 0 0 0 0 0 0 0 0 1 0 0 0 0 0 0 0 0 1 0 0 0 0 0 0 0 1 0\n",
      " 0 0 0 0 0 0 0 0 0 1 0 0 0 0 0 0 0 0 0 1 1 0 0 1 0 0 0 1 0 1 0 0 0 0 0 0 1\n",
      " 0 1 0 0 0 0 0 0 0 0 0 0 1 1 0 1 1 0 0 1 0 0 0 0 1 1 0 0 1 0 1 0 0 0 0 0 0\n",
      " 1 0 1 0 0 0 1 0 0 0 0 1 0 0 0 1 1 0 0 0 0 0 0 0 0 1 1 0 0 1 1 0 1 1 0 0 0\n",
      " 1 0 0 1 0 1 0 0 0 0 1 1 0 1 0 0 0 0 0 0 1 0 0 1 1 0 1 0 0 0 0 0 0 0 0 0 0\n",
      " 1 0 0 0 0 0 0 0 0 0 0 0 1 0 1 0 0 0 0 1 0 1 1 0 0 1 0 1 1 0 1 0 0 0 1 1 0\n",
      " 1 0 1 1 0 0 0 0 0 1 0 0 0 0 0 0 0 0 0 1 0 0 0 0 1 0 0 0 0 1 0 0 1 0 1 1 1\n",
      " 0 0 1 1 1 1 1 0 1 0 0 0 0 0 0 1 0 1 1 1 0 0 0 0 1 1 0 0 1 1 0 1 1 1 0 0 1\n",
      " 1 0 0 0 0 1]\n"
     ]
    },
    {
     "data": {
      "image/png": "[encoded data removed]",
      "text/plain": [
       "<Figure size 432x288 with 1 Axes>"
      ]
     },
     "metadata": {
      "needs_background": "light"
     },
     "output_type": "display_data"
    },
    {
     "name": "stdout",
     "output_type": "stream",
     "text": [
      "[1 0 1 2 1 1 1 1 1 1 1 1 1 1 1 1 1 1 1 1 1 1 1 1 1 1 1 1 1 1 1 0 0 1 1 1 1\n",
      " 0 1 1 1 1 1 0 1 1 1 0 1 1 0 1 1 1 1 1 1 1 1 1 1 0 1 1 0 1 0 1 1 1 1 0 1 1\n",
      " 1 1 1 1 1 0 1 1 1 1 1 1 0 1 1 1 1 1 1 0 0 1 0 0 1 1 1 2 0 1 0 0 0 0 0 1 1\n",
      " 1 1 0 1 1 1 1 1 1 0 0 0 0 0 1 0 0 1 1 0 0 1 0 1 0 1 1 2 0 1 0 1 1 1 0 1 0\n",
      " 1 0 0 1 1 1 1 0 0 0 0 0 0 0 0 0 0 0 0 0 0 2 0 0 1 1 1 2 2 0 2 0 0 2 0 2 1\n",
      " 0 0 1 0 0 0 1 0 0 0 0 2 0 0 2 2 0 0 0 2 1 0 1 0 2 0 1 0 1 0 0 1 0 0 2 0 0\n",
      " 1 1 1 0 0 1 1 2 0 2 0 0 1 0 1 1 0 0 0 0 0 1 0 0 2 0 0 0 0 0 0 0 1 0 0 0 2\n",
      " 0 0 1 0 1 0 0 0 0 0 0 0 0 0 2 0 0 0 1 0 0 0 0 0 0 0 0 1 0 0 2 2 2 0 0 1 0\n",
      " 0 0 0 0 0 0 0 2 0 1 0 0 0 0 0 0 0 0 0 1 1 0 0 1 0 0 2 1 0 1 0 0 0 0 0 0 1\n",
      " 0 1 0 0 0 0 0 0 0 0 0 0 1 1 0 1 1 0 0 1 0 0 0 0 1 1 0 0 1 0 1 0 0 0 0 0 0\n",
      " 1 0 1 0 2 0 1 0 0 0 0 1 0 0 0 1 1 0 0 0 0 0 0 0 0 1 1 0 0 1 1 0 1 1 0 0 0\n",
      " 1 0 0 1 0 1 0 0 0 0 1 1 0 1 0 0 0 0 0 0 1 0 0 1 1 0 1 0 0 0 0 0 0 0 0 0 0\n",
      " 1 0 0 0 0 0 0 0 0 0 0 0 1 0 1 0 0 0 0 1 0 1 1 0 0 1 0 1 1 0 1 0 0 0 1 1 0\n",
      " 1 0 1 1 0 0 0 0 0 1 0 0 0 0 0 0 0 0 0 1 0 0 0 0 1 0 0 0 0 1 0 0 1 0 1 1 1\n",
      " 0 0 1 1 1 1 1 0 1 0 0 0 0 0 0 1 0 1 1 1 0 0 0 0 1 1 0 0 1 1 0 1 1 1 0 0 1\n",
      " 1 0 0 0 0 1]\n"
     ]
    },
    {
     "data": {
      "image/png": "[encoded data removed]",
      "text/plain": [
       "<Figure size 432x288 with 1 Axes>"
      ]
     },
     "metadata": {
      "needs_background": "light"
     },
     "output_type": "display_data"
    },
    {
     "name": "stdout",
     "output_type": "stream",
     "text": [
      "[0 1 0 2 0 0 0 0 0 0 0 0 0 0 0 0 0 0 0 0 0 0 0 0 0 0 0 0 0 0 0 3 3 0 0 0 0\n",
      " 3 0 0 0 0 0 3 0 0 0 3 0 0 3 0 0 0 0 0 0 0 0 0 0 3 0 0 3 0 1 0 0 0 0 1 0 0\n",
      " 0 0 0 0 0 3 0 0 0 0 0 0 1 0 0 0 0 0 0 1 3 0 3 1 0 0 0 2 1 0 3 3 3 3 1 0 0\n",
      " 0 0 1 0 0 0 0 0 0 1 1 3 1 3 0 3 3 0 0 3 1 0 3 0 1 0 0 2 3 0 3 0 0 0 1 0 3\n",
      " 0 3 1 0 0 0 0 3 3 1 3 3 1 3 3 1 3 1 1 1 1 2 3 3 0 0 0 2 2 3 2 3 1 2 3 2 0\n",
      " 3 3 0 1 1 1 0 3 3 1 1 2 3 3 2 2 3 1 3 2 0 1 0 3 2 1 0 1 0 1 1 0 1 3 2 1 3\n",
      " 0 0 0 3 1 0 0 2 3 2 3 3 0 3 0 0 1 1 1 1 1 0 3 3 2 1 3 3 1 3 3 1 0 1 1 3 2\n",
      " 1 1 0 3 0 3 3 3 1 3 3 3 3 3 2 3 1 3 0 3 3 3 3 1 1 3 3 0 1 1 2 2 2 1 3 0 3\n",
      " 3 3 3 3 1 3 1 2 1 0 1 3 3 3 1 1 3 3 3 0 0 3 1 0 3 1 2 0 3 0 3 1 1 1 3 1 0\n",
      " 3 0 1 1 3 1 3 1 3 3 1 3 0 0 3 0 0 1 3 0 1 3 3 1 0 0 3 3 0 3 0 1 3 3 1 3 1\n",
      " 0 1 0 3 2 3 0 3 1 3 1 0 3 3 3 0 0 3 1 3 1 1 1 1 1 0 0 1 1 0 0 1 0 0 1 1 3\n",
      " 0 3 3 0 3 0 3 1 1 1 0 0 1 0 3 3 3 1 3 1 0 1 3 0 0 3 0 3 1 1 3 3 3 1 1 3 1\n",
      " 0 1 1 3 1 1 1 1 3 1 1 3 0 1 0 3 3 1 3 0 3 0 0 3 1 0 1 0 0 1 0 1 3 3 0 0 3\n",
      " 0 1 0 0 3 1 3 3 3 0 3 1 1 3 1 1 3 1 3 0 3 3 1 1 0 3 1 3 3 0 3 3 0 3 0 0 0\n",
      " 3 3 0 0 0 0 0 1 0 3 3 3 1 3 3 0 1 0 0 0 3 1 1 1 0 0 1 1 0 0 3 0 0 0 3 3 0\n",
      " 0 1 3 3 1 0]\n"
     ]
    },
    {
     "data": {
      "image/png": "[encoded data removed]",
      "text/plain": [
       "<Figure size 432x288 with 1 Axes>"
      ]
     },
     "metadata": {
      "needs_background": "light"
     },
     "output_type": "display_data"
    },
    {
     "name": "stdout",
     "output_type": "stream",
     "text": [
      "[3 0 3 2 3 3 3 3 3 3 3 3 3 3 3 3 3 3 3 3 3 3 3 3 3 3 3 3 3 3 3 1 1 3 4 4 3\n",
      " 1 4 4 3 3 3 1 3 3 3 1 3 3 1 3 3 3 3 3 3 3 3 3 3 1 3 4 1 3 0 3 3 3 3 0 4 4\n",
      " 3 4 3 3 3 1 4 3 4 3 3 3 0 3 4 3 4 3 4 0 1 4 1 0 3 3 4 2 0 3 1 1 1 1 0 3 3\n",
      " 3 3 0 3 4 4 4 4 3 0 0 1 0 1 3 1 1 4 3 1 0 4 1 3 0 3 4 2 1 4 1 3 3 4 0 4 1\n",
      " 3 1 0 3 3 3 4 1 1 0 1 1 0 1 1 0 1 0 0 0 0 2 1 1 3 3 3 2 2 1 2 1 0 2 1 2 3\n",
      " 1 1 4 0 0 0 3 1 1 0 0 2 1 1 2 2 1 0 1 2 3 0 4 1 2 0 4 0 3 0 0 3 0 1 2 0 1\n",
      " 3 4 4 1 0 4 4 2 1 2 1 1 4 1 4 3 0 0 0 0 0 4 1 1 2 0 1 1 0 1 1 0 4 0 0 1 2\n",
      " 0 0 3 1 3 1 1 1 0 1 1 1 1 1 2 1 0 1 3 1 1 1 1 0 0 1 1 3 0 0 2 2 2 0 1 4 1\n",
      " 1 1 1 1 0 1 0 2 0 4 0 1 1 1 0 0 1 1 1 3 4 1 0 4 1 0 2 3 1 3 1 0 0 0 1 0 3\n",
      " 1 3 0 0 1 0 1 0 1 1 0 1 3 3 1 4 4 0 1 3 0 1 1 0 3 4 1 1 4 1 4 0 1 1 0 1 0\n",
      " 4 0 3 1 2 1 3 1 0 1 0 3 1 1 1 3 3 1 0 1 0 0 0 0 0 3 4 0 0 3 4 0 3 3 0 0 1\n",
      " 3 1 1 3 1 3 1 0 0 0 3 4 0 4 1 1 1 0 1 0 4 0 1 4 4 1 3 1 0 0 1 1 1 0 0 1 0\n",
      " 3 0 0 1 0 0 0 0 1 0 0 1 3 0 3 1 1 0 1 4 1 3 3 1 0 4 0 3 3 0 3 0 1 1 3 4 1\n",
      " 3 0 4 3 1 0 1 1 1 4 1 0 0 1 0 0 1 0 1 3 1 1 0 0 3 1 0 1 1 3 1 1 4 1 3 4 3\n",
      " 1 1 3 4 4 3 3 0 4 1 1 1 0 1 1 3 0 4 3 4 1 0 0 0 4 4 0 0 3 4 1 3 4 3 1 1 3\n",
      " 3 0 1 1 0 4]\n"
     ]
    },
    {
     "data": {
      "image/png": "[encoded data removed]",
      "text/plain": [
       "<Figure size 432x288 with 1 Axes>"
      ]
     },
     "metadata": {
      "needs_background": "light"
     },
     "output_type": "display_data"
    },
    {
     "name": "stdout",
     "output_type": "stream",
     "text": [
      "[3 1 3 2 3 3 3 3 3 3 3 3 3 3 3 3 3 3 3 3 3 3 3 3 3 3 3 3 3 3 3 0 0 3 4 4 3\n",
      " 0 4 4 3 3 3 0 3 3 3 0 3 3 0 3 3 3 3 3 3 3 3 3 3 0 3 4 0 3 5 3 3 3 3 1 4 4\n",
      " 3 4 3 3 3 0 4 3 4 3 3 3 5 3 4 3 4 3 4 1 0 4 0 5 3 3 4 2 5 3 0 0 0 0 1 3 3\n",
      " 3 3 5 3 4 4 4 4 3 5 1 0 1 0 3 0 0 4 3 0 1 4 0 3 1 3 4 2 0 4 0 3 3 4 1 4 0\n",
      " 3 0 1 3 3 3 4 0 0 5 0 0 5 0 0 1 0 1 1 5 1 2 0 0 3 3 3 2 2 0 2 0 5 2 0 2 3\n",
      " 0 0 4 5 1 1 3 0 0 5 1 2 0 0 2 2 0 1 0 2 3 1 4 0 2 1 4 1 3 5 1 3 1 0 2 5 0\n",
      " 3 4 4 0 5 4 4 2 0 2 0 0 4 0 4 3 1 1 1 1 1 4 0 0 2 5 0 0 1 0 0 5 4 5 1 0 2\n",
      " 1 1 3 0 3 0 0 0 1 0 0 0 0 0 2 0 1 0 3 0 0 0 0 5 1 0 0 3 1 1 2 2 2 5 0 4 0\n",
      " 0 0 0 0 5 0 1 2 1 4 1 0 0 0 1 1 0 0 0 3 4 0 5 4 0 1 2 3 0 3 0 5 1 1 0 1 3\n",
      " 0 3 1 1 0 1 0 1 0 0 1 0 3 3 0 4 4 1 0 3 1 0 0 5 3 4 0 0 4 0 4 1 0 0 1 0 1\n",
      " 4 1 3 0 2 0 3 0 1 0 1 3 0 0 0 3 3 0 1 0 1 1 1 1 1 3 4 1 5 3 4 5 3 3 1 1 0\n",
      " 3 0 0 3 0 3 0 1 1 5 3 4 5 4 0 0 0 1 0 1 4 1 0 4 4 0 3 0 1 1 0 0 0 1 1 0 5\n",
      " 3 1 1 0 1 1 1 1 0 1 1 0 3 1 3 0 0 1 0 4 0 3 3 0 1 4 1 3 3 1 3 1 0 0 3 4 0\n",
      " 3 1 4 3 0 1 0 0 0 4 0 5 1 0 1 5 0 1 0 3 0 0 1 1 3 0 1 0 0 3 0 0 4 0 3 4 3\n",
      " 0 0 3 4 4 3 3 1 4 0 0 0 1 0 0 3 1 4 3 4 0 5 1 1 4 4 1 1 3 4 0 3 4 3 0 0 3\n",
      " 3 1 0 0 1 4]\n"
     ]
    },
    {
     "data": {
      "image/png": "[encoded data removed]",
      "text/plain": [
       "<Figure size 432x288 with 1 Axes>"
      ]
     },
     "metadata": {
      "needs_background": "light"
     },
     "output_type": "display_data"
    },
    {
     "name": "stdout",
     "output_type": "stream",
     "text": [
      "[3 1 3 0 3 3 3 3 3 3 3 3 3 3 3 3 3 3 3 3 3 3 3 3 3 3 3 3 3 3 3 2 6 3 4 4 3\n",
      " 2 4 4 3 3 3 2 3 3 3 2 3 3 2 3 3 3 3 3 3 3 3 3 3 6 3 4 6 3 5 3 3 3 3 1 4 4\n",
      " 3 4 3 3 3 6 4 3 4 3 3 3 5 3 4 3 4 3 4 1 2 4 2 5 3 3 4 0 5 3 2 2 2 2 1 3 3\n",
      " 3 3 5 3 4 4 4 4 3 5 1 6 1 2 3 2 2 4 3 2 1 4 6 3 1 3 4 0 6 4 2 3 3 4 1 4 6\n",
      " 3 2 1 3 3 3 4 6 6 5 2 2 5 6 6 1 6 1 1 5 1 0 2 2 3 3 3 0 0 6 0 6 5 0 6 0 3\n",
      " 2 2 4 5 1 1 3 6 2 5 1 0 2 2 0 0 6 1 2 0 3 1 4 2 0 1 4 1 3 5 1 3 1 2 0 5 2\n",
      " 3 4 4 6 5 4 4 0 6 0 6 2 4 6 4 3 1 1 1 1 1 4 6 2 0 5 6 2 1 2 2 5 4 5 1 6 0\n",
      " 1 1 3 2 3 6 2 2 1 2 2 6 2 2 0 2 1 6 3 6 2 6 2 5 1 6 6 3 1 1 0 0 0 5 2 4 2\n",
      " 6 6 6 2 5 6 1 0 1 4 1 2 6 6 1 1 2 6 6 3 4 6 5 4 2 1 0 3 6 3 2 5 1 1 6 1 3\n",
      " 6 3 1 1 2 1 6 1 6 6 1 2 3 3 6 4 4 1 2 3 1 6 6 5 3 4 2 6 4 6 4 1 2 6 1 6 1\n",
      " 4 1 3 6 0 6 3 2 1 2 1 3 2 6 2 3 3 6 1 2 1 1 1 1 1 3 4 1 5 3 4 5 3 3 1 1 2\n",
      " 3 2 2 3 6 3 2 1 1 5 3 4 5 4 6 2 6 1 2 1 4 1 2 4 4 6 3 6 1 1 2 2 2 1 1 2 5\n",
      " 3 1 1 2 1 1 1 1 2 1 1 6 3 1 3 6 6 1 6 4 2 3 3 2 1 4 1 3 3 1 3 1 2 6 3 4 2\n",
      " 3 1 4 3 6 1 2 2 2 4 2 5 1 6 1 5 2 1 6 3 6 2 1 1 3 2 1 6 6 3 2 6 4 6 3 4 3\n",
      " 6 2 3 4 4 3 3 1 4 2 2 6 1 2 6 3 1 4 3 4 6 5 1 1 4 4 1 1 3 4 6 3 4 3 2 6 3\n",
      " 3 1 6 2 1 4]\n"
     ]
    },
    {
     "data": {
      "image/png": "[encoded data removed]",
      "text/plain": [
       "<Figure size 432x288 with 1 Axes>"
      ]
     },
     "metadata": {
      "needs_background": "light"
     },
     "output_type": "display_data"
    },
    {
     "name": "stdout",
     "output_type": "stream",
     "text": [
      "[1 0 1 3 1 1 1 1 1 1 1 1 1 1 1 1 1 1 1 1 1 1 1 1 1 1 1 1 1 1 1 2 6 1 4 4 1\n",
      " 2 4 4 1 1 1 2 1 1 1 2 1 1 2 1 1 1 1 1 1 1 1 1 1 6 1 4 6 1 5 1 1 1 1 0 4 4\n",
      " 1 4 1 1 1 6 4 1 4 1 1 1 5 1 4 1 4 1 4 0 2 4 2 5 1 1 4 3 5 1 2 2 2 2 0 1 1\n",
      " 1 1 5 1 4 4 4 4 1 5 0 6 0 2 1 2 2 4 1 2 0 4 6 1 0 1 4 3 6 4 2 1 1 4 0 4 6\n",
      " 1 2 0 1 1 1 4 6 6 5 2 2 5 6 6 0 6 0 0 5 0 3 2 2 1 1 1 7 7 6 3 6 5 7 6 3 1\n",
      " 2 2 4 5 0 0 1 6 2 5 0 3 2 2 3 3 6 0 2 3 1 0 4 2 7 0 4 0 1 5 0 1 0 2 7 5 2\n",
      " 1 4 4 6 5 4 4 3 6 3 6 2 4 6 4 1 0 0 0 0 0 4 6 2 7 5 6 2 0 2 2 5 4 5 0 6 7\n",
      " 0 0 1 2 1 6 2 2 0 2 2 6 2 2 3 2 0 6 1 6 2 6 2 5 0 6 6 1 0 0 3 3 3 5 2 4 2\n",
      " 6 6 6 2 5 6 0 3 0 4 0 2 6 6 0 0 2 6 6 1 4 6 5 4 2 0 7 1 6 1 2 5 0 0 6 0 1\n",
      " 6 1 0 0 2 0 6 0 6 6 0 2 1 1 6 4 4 0 2 1 0 6 6 5 1 4 2 6 4 6 4 0 2 6 0 6 0\n",
      " 4 0 1 6 3 6 1 2 0 2 0 1 2 6 2 1 1 6 0 2 0 0 0 0 0 1 4 0 5 1 4 5 1 1 0 0 2\n",
      " 1 2 2 1 6 1 2 0 0 5 1 4 5 4 6 2 6 0 2 0 4 0 2 4 4 6 1 6 0 0 2 2 2 0 0 2 5\n",
      " 1 0 0 2 0 0 0 0 2 0 0 6 1 0 1 6 6 0 6 4 2 1 1 2 0 4 0 1 1 0 1 0 2 6 1 4 2\n",
      " 1 0 4 1 6 0 2 2 2 4 2 5 0 6 0 5 2 0 6 1 6 2 0 0 1 2 0 6 6 1 2 6 4 6 1 4 1\n",
      " 6 2 1 4 4 1 1 0 4 2 2 6 0 2 6 1 0 4 1 4 6 5 0 0 4 4 0 0 1 4 6 1 4 1 2 6 1\n",
      " 1 0 6 2 0 4]\n"
     ]
    },
    {
     "data": {
      "image/png": "[encoded data removed]",
      "text/plain": [
       "<Figure size 432x288 with 1 Axes>"
      ]
     },
     "metadata": {
      "needs_background": "light"
     },
     "output_type": "display_data"
    },
    {
     "data": {
      "text/plain": [
       "[0.5866555182619756,\n",
       " 0.6201023755102798,\n",
       " 0.5833175661083263,\n",
       " 0.5990347509737421,\n",
       " 0.5995483381988385,\n",
       " 0.601507298591574,\n",
       " 0.6012152911909999]"
      ]
     },
     "execution_count": 116,
     "metadata": {},
     "output_type": "execute_result"
    }
   ],
   "source": [
    "for i in range (2,9) :\n",
    "    model = AgglomerativeClustering(n_clusters=i, affinity='euclidean', linkage='ward')\n",
    "    model.fit(X_reduced)\n",
    "    labels = model.labels_\n",
    "    print(labels)\n",
    "    plt.hist(labels, bins=i,range=(0,i))\n",
    "    plt.show()\n",
    "    \n",
    "    AC_Ward_SI_list.append(skmet.silhouette_score(X_reduced, labels, metric='euclidean', sample_size=None, random_state=None))\n",
    "AC_Ward_SI_list\n",
    "\n"
   ]
  },
  {
   "cell_type": "code",
   "execution_count": null,
   "id": "c147bd83",
   "metadata": {},
   "outputs": [],
   "source": []
  },
  {
   "cell_type": "code",
   "execution_count": null,
   "id": "6b1d79af",
   "metadata": {},
   "outputs": [],
   "source": []
  },
  {
   "cell_type": "code",
   "execution_count": null,
   "id": "e2ef9421",
   "metadata": {},
   "outputs": [],
   "source": []
  },
  {
   "cell_type": "code",
   "execution_count": null,
   "id": "317a3df4",
   "metadata": {},
   "outputs": [],
   "source": []
  },
  {
   "cell_type": "code",
   "execution_count": null,
   "id": "25c014ac",
   "metadata": {},
   "outputs": [],
   "source": []
  },
  {
   "cell_type": "code",
   "execution_count": null,
   "id": "9cebf9a9",
   "metadata": {},
   "outputs": [],
   "source": []
  },
  {
   "cell_type": "code",
   "execution_count": null,
   "id": "ee7d5d6d",
   "metadata": {},
   "outputs": [],
   "source": []
  },
  {
   "cell_type": "code",
   "execution_count": null,
   "id": "ad1a6069",
   "metadata": {},
   "outputs": [],
   "source": []
  }
 ],
 "metadata": {
  "kernelspec": {
   "display_name": "Python 3",
   "language": "python",
   "name": "python3"
  },
  "language_info": {
   "codemirror_mode": {
    "name": "ipython",
    "version": 3
   },
   "file_extension": ".py",
   "mimetype": "text/x-python",
   "name": "python",
   "nbconvert_exporter": "python",
   "pygments_lexer": "ipython3",
   "version": "3.8.8"
  }
 },
 "nbformat": 4,
 "nbformat_minor": 5
}
